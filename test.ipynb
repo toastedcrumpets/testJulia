{
 "cells": [
  {
   "cell_type": "markdown",
   "metadata": {},
   "source": [
    "## Setup\n",
    "To use this notebook, run the following to install the dependencies. Note, the first time you use anything (library, function, etc), Julia compiles it. This means that writing `using CUDA` takes ~1m42s on my workstation the first time I run it. Be warned!"
   ]
  },
  {
   "cell_type": "code",
   "execution_count": 28,
   "metadata": {},
   "outputs": [
    {
     "name": "stderr",
     "output_type": "stream",
     "text": [
      "\u001b[32m\u001b[1m   Resolving\u001b[22m\u001b[39m package versions...\n"
     ]
    },
    {
     "name": "stderr",
     "output_type": "stream",
     "text": [
      "\u001b[32m\u001b[1m  No Changes\u001b[22m\u001b[39m to `~/.julia/environments/v1.8/Project.toml`\n",
      "\u001b[32m\u001b[1m  No Changes\u001b[22m\u001b[39m to `~/.julia/environments/v1.8/Manifest.toml`\n"
     ]
    },
    {
     "name": "stderr",
     "output_type": "stream",
     "text": [
      "\u001b[32m\u001b[1m   Resolving\u001b[22m\u001b[39m package versions...\n"
     ]
    },
    {
     "name": "stderr",
     "output_type": "stream",
     "text": [
      "\u001b[32m\u001b[1m  No Changes\u001b[22m\u001b[39m to `~/.julia/environments/v1.8/Project.toml`\n",
      "\u001b[32m\u001b[1m  No Changes\u001b[22m\u001b[39m to `~/.julia/environments/v1.8/Manifest.toml`\n"
     ]
    },
    {
     "name": "stderr",
     "output_type": "stream",
     "text": [
      "\u001b[32m\u001b[1m   Resolving\u001b[22m\u001b[39m package versions...\n"
     ]
    },
    {
     "name": "stderr",
     "output_type": "stream",
     "text": [
      "\u001b[32m\u001b[1m  No Changes\u001b[22m\u001b[39m to `~/.julia/environments/v1.8/Project.toml`\n",
      "\u001b[32m\u001b[1m  No Changes\u001b[22m\u001b[39m to `~/.julia/environments/v1.8/Manifest.toml`\n"
     ]
    }
   ],
   "source": [
    "using Pkg; Pkg.add(\"CUDA\"); Pkg.add(\"IntervalOptimisation\"); Pkg.add(\"Symbolics\");"
   ]
  },
  {
   "cell_type": "markdown",
   "metadata": {},
   "source": [
    "## First adventures\n",
    "\n",
    "Julia is like python but also like C++. It also has tons of built in math, like numpy-style array operations are in by default"
   ]
  },
  {
   "cell_type": "code",
   "execution_count": 17,
   "metadata": {},
   "outputs": [
    {
     "data": {
      "text/plain": [
       "3-element Vector{Float64}:\n",
       " 2.0\n",
       " 4.0\n",
       " 6.0"
      ]
     },
     "metadata": {},
     "output_type": "display_data"
    }
   ],
   "source": [
    "#An example of array arithmetic\n",
    "v = [1.0, 2,3]\n",
    "v+v"
   ]
  },
  {
   "cell_type": "markdown",
   "metadata": {},
   "source": [
    "Note that Julia determined the type (Float64) from the literal's used (in this case the 1.0). It naturally has mathematical operations defined too, like vector addition. I can even do a dot product   "
   ]
  },
  {
   "cell_type": "code",
   "execution_count": 4,
   "metadata": {},
   "outputs": [
    {
     "data": {
      "text/plain": [
       "14.0"
      ]
     },
     "metadata": {},
     "output_type": "display_data"
    }
   ],
   "source": [
    "using LinearAlgebra\n",
    "dot(v,v)"
   ]
  },
  {
   "cell_type": "markdown",
   "metadata": {},
   "source": [
    "This isn't sexy enough. Write `v ` then `\\cdot` and press tab to autocomplete (yes latex is the way these are defined), then put `v` and you get a dot product "
   ]
  },
  {
   "cell_type": "code",
   "execution_count": 18,
   "metadata": {},
   "outputs": [
    {
     "data": {
      "text/plain": [
       "14.0"
      ]
     },
     "metadata": {},
     "output_type": "display_data"
    }
   ],
   "source": [
    "v ⋅ v"
   ]
  },
  {
   "cell_type": "markdown",
   "metadata": {},
   "source": [
    "That's right, we have unicode, and a lot of it is plumbed into real mathematical definitions. Lets make a function, one that uses Julia's cool implicit multiply"
   ]
  },
  {
   "cell_type": "code",
   "execution_count": 62,
   "metadata": {},
   "outputs": [
    {
     "data": {
      "text/plain": [
       "f (generic function with 1 method)"
      ]
     },
     "metadata": {},
     "output_type": "display_data"
    }
   ],
   "source": [
    "f(x) = 2 + 5x"
   ]
  },
  {
   "cell_type": "markdown",
   "metadata": {},
   "source": [
    "What is f?"
   ]
  },
  {
   "cell_type": "code",
   "execution_count": 64,
   "metadata": {},
   "outputs": [
    {
     "data": {
      "text/plain": [
       "1-element Vector{Core.CodeInfo}:\n",
       " CodeInfo(\n",
       "\u001b[90m1 ─\u001b[39m %1 = 5 * x\n",
       "\u001b[90m│  \u001b[39m %2 = 2 + %1\n",
       "\u001b[90m└──\u001b[39m      return %2\n",
       ")"
      ]
     },
     "metadata": {},
     "output_type": "display_data"
    }
   ],
   "source": [
    "code_lowered(f)"
   ]
  },
  {
   "cell_type": "markdown",
   "metadata": {},
   "source": [
    "Cool! I can see the code! Hmm, looks a little generic and slow. What if I put the type information in, do I see more code?"
   ]
  },
  {
   "cell_type": "code",
   "execution_count": 67,
   "metadata": {},
   "outputs": [
    {
     "data": {
      "text/plain": [
       "1-element Vector{Any}:\n",
       " CodeInfo(\n",
       "\u001b[90m1 ─\u001b[39m %1 = Base.mul_float(5.0, x)\u001b[36m::Float64\u001b[39m\n",
       "\u001b[90m│  \u001b[39m %2 = Base.add_float(2.0, %1)\u001b[36m::Float64\u001b[39m\n",
       "\u001b[90m└──\u001b[39m      return %2\n",
       ") => Float64"
      ]
     },
     "metadata": {},
     "output_type": "display_data"
    }
   ],
   "source": [
    "code_typed(f, (Float64,))"
   ]
  },
  {
   "cell_type": "markdown",
   "metadata": {},
   "source": [
    "Its compiling to some specialised operations for floats where its tracking the types, the values, and the arguments. Do we hit bare metal?"
   ]
  },
  {
   "cell_type": "code",
   "execution_count": 70,
   "metadata": {},
   "outputs": [
    {
     "name": "stdout",
     "output_type": "stream",
     "text": [
      "\t\u001b[0m.text\n",
      "\t\u001b[0m.file\t\u001b[0m\"f\"\n",
      "\t\u001b[0m.section\t\u001b[0m.rodata.cst8\u001b[0m,\u001b[0m\"aM\"\u001b[0m,\u001b[0m@progbits\u001b[0m,\u001b[33m8\u001b[39m\n",
      "\t\u001b[0m.p2align\t\u001b[33m3\u001b[39m                               \u001b[90m# -- Begin function julia_f_8971\u001b[39m\n",
      "\u001b[91m.LCPI0_0:\u001b[39m\n",
      "\t\u001b[0m.quad\t\u001b[33m0x4014000000000000\u001b[39m              \u001b[90m# double 5\u001b[39m\n",
      "\u001b[91m.LCPI0_1:\u001b[39m\n",
      "\t\u001b[0m.quad\t\u001b[33m0x4000000000000000\u001b[39m              \u001b[90m# double 2\u001b[39m\n",
      "\t\u001b[0m.text\n",
      "\t\u001b[0m.globl\t\u001b[0mjulia_f_8971\n",
      "\t\u001b[0m.p2align\t\u001b[33m4\u001b[39m\u001b[0m, \u001b[33m0x90\u001b[39m\n",
      "\t\u001b[0m.type\t\u001b[0mjulia_f_8971\u001b[0m,\u001b[0m@function\n",
      "\u001b[91mjulia_f_8971:\u001b[39m                           \u001b[90m# @julia_f_8971\u001b[39m\n",
      "\u001b[90m; ┌ @ /home/mjki2mb2/testJulia/test.ipynb:1 within `f`\u001b[39m\n",
      "\t\u001b[0m.cfi_startproc\n",
      "\u001b[90m# %bb.0:                                # %top\u001b[39m\n",
      "\t\u001b[96m\u001b[1mmovabsq\u001b[22m\u001b[39m\t\u001b[93m$.LCPI0_0\u001b[39m\u001b[0m, \u001b[0m%rax\n",
      "\u001b[90m; │┌ @ promotion.jl:389 within `*` @ float.jl:385\u001b[39m\n",
      "\t\u001b[96m\u001b[1mvmulsd\u001b[22m\u001b[39m\t\u001b[33m(\u001b[39m\u001b[0m%rax\u001b[33m)\u001b[39m\u001b[0m, \u001b[0m%xmm0\u001b[0m, \u001b[0m%xmm0\n",
      "\t\u001b[96m\u001b[1mmovabsq\u001b[22m\u001b[39m\t\u001b[93m$.LCPI0_1\u001b[39m\u001b[0m, \u001b[0m%rax\n",
      "\u001b[90m; │└\u001b[39m\n",
      "\u001b[90m; │┌ @ promotion.jl:388 within `+` @ float.jl:383\u001b[39m\n",
      "\t\u001b[96m\u001b[1mvaddsd\u001b[22m\u001b[39m\t\u001b[33m(\u001b[39m\u001b[0m%rax\u001b[33m)\u001b[39m\u001b[0m, \u001b[0m%xmm0\u001b[0m, \u001b[0m%xmm0\n",
      "\u001b[90m; │└\u001b[39m\n",
      "\t\u001b[96m\u001b[1mretq\u001b[22m\u001b[39m\n",
      "\u001b[91m.Lfunc_end0:\u001b[39m\n",
      "\t\u001b[0m.size\t\u001b[0mjulia_f_8971\u001b[0m, \u001b[0m.Lfunc_end0-julia_f_8971\n",
      "\t\u001b[0m.cfi_endproc\n",
      "\u001b[90m; └\u001b[39m\n",
      "                                        \u001b[90m# -- End function\u001b[39m\n",
      "\t\u001b[0m.section\t\u001b[0m\".note.GNU-stack\"\u001b[0m,\u001b[0m\"\"\u001b[0m,\u001b[0m@progbits\n"
     ]
    }
   ],
   "source": [
    "code_native(f, (Float64,))"
   ]
  },
  {
   "cell_type": "markdown",
   "metadata": {},
   "source": [
    "Awesome, assembly! All created whenever we use the function, but not before! So we always get compiled, fully optimised code. Wait, if we write abstract functions, that then get adapted to native code only when run, can we run on non-native devices?\n",
    "# CUDA\n",
    "Yes, just change the type so the compiler can infer we run it elsewhere."
   ]
  },
  {
   "cell_type": "code",
   "execution_count": 12,
   "metadata": {},
   "outputs": [
    {
     "data": {
      "text/plain": [
       "8-element CuArray{Int64, 1, CUDA.Mem.DeviceBuffer}:\n",
       " 13\n",
       " 14\n",
       " 15\n",
       " 16\n",
       " 17\n",
       " 18\n",
       " 19\n",
       " 20"
      ]
     },
     "metadata": {},
     "output_type": "display_data"
    }
   ],
   "source": [
    "using CUDA\n",
    "gpu_v = CuArray([1,2,3,4,5,6,7,8]) #This array now lives on the GPU\n",
    "\n",
    "#Some generic function using the . to make .+ an elementwise addition\n",
    "f(x) = x .+ 12 \n",
    "\n",
    "f(gpu_v)"
   ]
  },
  {
   "cell_type": "markdown",
   "metadata": {},
   "source": [
    "I gotta see what this looks like in GPU assembly (warning, its filled with inlined code from the library)"
   ]
  },
  {
   "cell_type": "code",
   "execution_count": 25,
   "metadata": {},
   "outputs": [
    {
     "name": "stdout",
     "output_type": "stream",
     "text": [
      "\t\u001b[0m.text\n",
      "\t\u001b[0m.file\t\u001b[0m\"f\"\n",
      "\t\u001b[0m.section\t\u001b[0m.rodata.cst16\u001b[0m,\u001b[0m\"aM\"\u001b[0m,\u001b[0m@progbits\u001b[0m,\u001b[33m16\u001b[39m\n",
      "\t\u001b[0m.p2align\t\u001b[33m4\u001b[39m                               \u001b[90m# -- Begin function julia_f_5246\u001b[39m\n",
      "\u001b[91m.LCPI0_0:\u001b[39m\n",
      "\t\u001b[0m.quad\t\u001b[33m1\u001b[39m                               \u001b[90m# 0x1\u001b[39m\n",
      "\t\u001b[0m.quad\t\u001b[33m12\u001b[39m                              \u001b[90m# 0xc\u001b[39m\n",
      "\t\u001b[0m.text\n",
      "\t\u001b[0m.globl\t\u001b[0mjulia_f_5246\n",
      "\t\u001b[0m.p2align\t\u001b[33m4\u001b[39m\u001b[0m, \u001b[33m0x90\u001b[39m\n",
      "\t\u001b[0m.type\t\u001b[0mjulia_f_5246\u001b[0m,\u001b[0m@function\n",
      "\u001b[91mjulia_f_5246:\u001b[39m                           \u001b[90m# @julia_f_5246\u001b[39m\n",
      "\u001b[90m; ┌ @ /home/mjki2mb2/testJulia/test.ipynb:5 within `f`\u001b[39m\n",
      "\t\u001b[0m.cfi_startproc\n",
      "\u001b[90m# %bb.0:                                # %top\u001b[39m\n",
      "\t\u001b[96m\u001b[1mpushq\u001b[22m\u001b[39m\t\u001b[0m%rbp\n",
      "\t\u001b[0m.cfi_def_cfa_offset \u001b[33m16\u001b[39m\n",
      "\t\u001b[0m.cfi_offset \u001b[0m%rbp\u001b[0m, \u001b[33m-16\u001b[39m\n",
      "\t\u001b[96m\u001b[1mmovq\u001b[22m\u001b[39m\t\u001b[0m%rsp\u001b[0m, \u001b[0m%rbp\n",
      "\t\u001b[0m.cfi_def_cfa_register \u001b[0m%rbp\n",
      "\t\u001b[96m\u001b[1mpushq\u001b[22m\u001b[39m\t\u001b[0m%r15\n",
      "\t\u001b[96m\u001b[1mpushq\u001b[22m\u001b[39m\t\u001b[0m%r14\n",
      "\t\u001b[96m\u001b[1mpushq\u001b[22m\u001b[39m\t\u001b[0m%r13\n",
      "\t\u001b[96m\u001b[1mpushq\u001b[22m\u001b[39m\t\u001b[0m%r12\n",
      "\t\u001b[96m\u001b[1mpushq\u001b[22m\u001b[39m\t\u001b[0m%rbx\n",
      "\t\u001b[96m\u001b[1mandq\u001b[22m\u001b[39m\t\u001b[33m$-32\u001b[39m\u001b[0m, \u001b[0m%rsp\n",
      "\t\u001b[96m\u001b[1msubq\u001b[22m\u001b[39m\t\u001b[33m$448\u001b[39m\u001b[0m, \u001b[0m%rsp                      \u001b[90m# imm = 0x1C0\u001b[39m\n",
      "\t\u001b[0m.cfi_offset \u001b[0m%rbx\u001b[0m, \u001b[33m-56\u001b[39m\n",
      "\t\u001b[0m.cfi_offset \u001b[0m%r12\u001b[0m, \u001b[33m-48\u001b[39m\n",
      "\t\u001b[0m.cfi_offset \u001b[0m%r13\u001b[0m, \u001b[33m-40\u001b[39m\n",
      "\t\u001b[0m.cfi_offset \u001b[0m%r14\u001b[0m, \u001b[33m-32\u001b[39m\n",
      "\t\u001b[0m.cfi_offset \u001b[0m%r15\u001b[0m, \u001b[33m-24\u001b[39m\n",
      "\t\u001b[96m\u001b[1mvxorpd\u001b[22m\u001b[39m\t\u001b[0m%xmm0\u001b[0m, \u001b[0m%xmm0\u001b[0m, \u001b[0m%xmm0\n",
      "\t\u001b[96m\u001b[1mvmovapd\u001b[22m\u001b[39m\t\u001b[0m%ymm0\u001b[0m, \u001b[33m160\u001b[39m\u001b[33m(\u001b[39m\u001b[0m%rsp\u001b[33m)\u001b[39m\n",
      "\t\u001b[96m\u001b[1mvmovapd\u001b[22m\u001b[39m\t\u001b[0m%ymm0\u001b[0m, \u001b[33m128\u001b[39m\u001b[33m(\u001b[39m\u001b[0m%rsp\u001b[33m)\u001b[39m\n",
      "\t\u001b[96m\u001b[1mmovabsq\u001b[22m\u001b[39m\t\u001b[33m$140561802599280\u001b[39m\u001b[0m, \u001b[0m%r15          \u001b[90m# imm = 0x7FD718501B70\u001b[39m\n",
      "\t\u001b[96m\u001b[1mvmovapd\u001b[22m\u001b[39m\t\u001b[0m%ymm0\u001b[0m, \u001b[33m96\u001b[39m\u001b[33m(\u001b[39m\u001b[0m%rsp\u001b[33m)\u001b[39m\n",
      "\t\u001b[0m#APP\n",
      "\t\u001b[96m\u001b[1mmovq\u001b[22m\u001b[39m\t\u001b[0m%fs\u001b[0m:\u001b[33m0\u001b[39m\u001b[0m, \u001b[0m%rax\n",
      "\t\u001b[0m#NO_APP\n",
      "\t\u001b[96m\u001b[1mmovq\u001b[22m\u001b[39m\t\u001b[33m-8\u001b[39m\u001b[33m(\u001b[39m\u001b[0m%rax\u001b[33m)\u001b[39m\u001b[0m, \u001b[0m%rcx\n",
      "\u001b[90m; │┌ @ broadcast.jl:860 within `materialize`\u001b[39m\n",
      "\u001b[90m; ││┌ @ broadcast.jl:281 within `instantiate`\u001b[39m\n",
      "\u001b[90m; │││┌ @ broadcast.jl:499 within `combine_axes`\u001b[39m\n",
      "\u001b[90m; ││││┌ @ abstractarray.jl:95 within `axes`\u001b[39m\n",
      "\u001b[90m; │││││┌ @ /home/mjki2mb2/.julia/packages/CUDA/DfvRa/src/array.jl:234 within `size`\u001b[39m\n",
      "\u001b[90m; ││││││┌ @ Base.jl:38 within `getproperty`\u001b[39m\n",
      "\t\u001b[96m\u001b[1mmovq\u001b[22m\u001b[39m\t\u001b[33m$40\u001b[39m\u001b[0m, \u001b[33m96\u001b[39m\u001b[33m(\u001b[39m\u001b[0m%rsp\u001b[33m)\u001b[39m\n",
      "\t\u001b[96m\u001b[1mmovq\u001b[22m\u001b[39m\t\u001b[33m(\u001b[39m\u001b[0m%rcx\u001b[33m)\u001b[39m\u001b[0m, \u001b[0m%rax\n",
      "\t\u001b[96m\u001b[1mmovq\u001b[22m\u001b[39m\t\u001b[0m%rax\u001b[0m, \u001b[33m104\u001b[39m\u001b[33m(\u001b[39m\u001b[0m%rsp\u001b[33m)\u001b[39m\n",
      "\t\u001b[96m\u001b[1mleaq\u001b[22m\u001b[39m\t\u001b[33m96\u001b[39m\u001b[33m(\u001b[39m\u001b[0m%rsp\u001b[33m)\u001b[39m\u001b[0m, \u001b[0m%rax\n",
      "\t\u001b[96m\u001b[1mmovq\u001b[22m\u001b[39m\t\u001b[0m%rcx\u001b[0m, \u001b[33m16\u001b[39m\u001b[33m(\u001b[39m\u001b[0m%rsp\u001b[33m)\u001b[39m                  \u001b[90m# 8-byte Spill\u001b[39m\n",
      "\t\u001b[96m\u001b[1mmovq\u001b[22m\u001b[39m\t\u001b[0m%rax\u001b[0m, \u001b[33m(\u001b[39m\u001b[0m%rcx\u001b[33m)\u001b[39m\n",
      "\t\u001b[96m\u001b[1mmovq\u001b[22m\u001b[39m\t\u001b[0m%rdi\u001b[0m, \u001b[33m40\u001b[39m\u001b[33m(\u001b[39m\u001b[0m%rsp\u001b[33m)\u001b[39m                  \u001b[90m# 8-byte Spill\u001b[39m\n",
      "\t\u001b[96m\u001b[1mmovq\u001b[22m\u001b[39m\t\u001b[33m24\u001b[39m\u001b[33m(\u001b[39m\u001b[0m%rdi\u001b[33m)\u001b[39m\u001b[0m, \u001b[0m%rax\n",
      "\u001b[90m; │││││└└\u001b[39m\n",
      "\u001b[90m; │││││┌ @ tuple.jl:221 within `map`\u001b[39m\n",
      "\u001b[90m; ││││││┌ @ range.jl:455 within `oneto`\u001b[39m\n",
      "\u001b[90m; │││││││┌ @ range.jl:453 within `OneTo` @ range.jl:440\u001b[39m\n",
      "\u001b[90m; ││││││││┌ @ promotion.jl:488 within `max`\u001b[39m\n",
      "\u001b[90m; │││││││││┌ @ essentials.jl:489 within `ifelse`\u001b[39m\n",
      "\t\u001b[96m\u001b[1mmovq\u001b[22m\u001b[39m\t\u001b[0m%rax\u001b[0m, \u001b[0m%rcx\n",
      "\t\u001b[96m\u001b[1msarq\u001b[22m\u001b[39m\t\u001b[33m$63\u001b[39m\u001b[0m, \u001b[0m%rcx\n",
      "\t\u001b[96m\u001b[1mandnq\u001b[22m\u001b[39m\t\u001b[0m%rax\u001b[0m, \u001b[0m%rcx\u001b[0m, \u001b[0m%rax\n",
      "\u001b[90m; ││││└└└└└└\u001b[39m\n",
      "\u001b[90m; ││││┌ @ broadcast.jl:504 within `broadcast_shape`\u001b[39m\n",
      "\u001b[90m; │││││┌ @ broadcast.jl:508 within `_bcs`\u001b[39m\n",
      "\t\u001b[96m\u001b[1mmovq\u001b[22m\u001b[39m\t\u001b[0m%rax\u001b[0m, \u001b[33m88\u001b[39m\u001b[33m(\u001b[39m\u001b[0m%rsp\u001b[33m)\u001b[39m\n",
      "\t\u001b[96m\u001b[1mmovq\u001b[22m\u001b[39m\t\u001b[0m%rax\u001b[0m, \u001b[33m56\u001b[39m\u001b[33m(\u001b[39m\u001b[0m%rsp\u001b[33m)\u001b[39m                  \u001b[90m# 8-byte Spill\u001b[39m\n",
      "\u001b[90m; ││└└└└\u001b[39m\n",
      "\u001b[90m; ││┌ @ /home/mjki2mb2/.julia/packages/GPUArrays/fqD8z/src/host/broadcast.jl:37 within `copy`\u001b[39m\n",
      "\u001b[90m; │││┌ @ /home/mjki2mb2/.julia/packages/CUDA/DfvRa/src/broadcast.jl:11 within `similar` @ abstractarray.jl:840 @ abstractarray.jl:841\u001b[39m\n",
      "\u001b[90m; ││││┌ @ /home/mjki2mb2/.julia/packages/CUDA/DfvRa/src/array.jl:136 within `CuArray` @ /home/mjki2mb2/.julia/packages/CUDA/DfvRa/src/array.jl:125 @ /home/mjki2mb2/.julia/packages/CUDA/DfvRa/src/array.jl:35\u001b[39m\n",
      "\u001b[90m; │││││┌ @ int.jl:88 within `*`\u001b[39m\n",
      "\t\u001b[96m\u001b[1mleaq\u001b[22m\u001b[39m\t\u001b[33m(\u001b[39m\u001b[0m,\u001b[0m%rax\u001b[0m,\u001b[33m8\u001b[39m\u001b[33m)\u001b[39m\u001b[0m, \u001b[0m%rbx\n",
      "\u001b[90m; │││││└\u001b[39m\n",
      "\u001b[90m; │││││ @ /home/mjki2mb2/.julia/packages/CUDA/DfvRa/src/array.jl:136 within `CuArray` @ /home/mjki2mb2/.julia/packages/CUDA/DfvRa/src/array.jl:125 @ /home/mjki2mb2/.julia/packages/CUDA/DfvRa/src/array.jl:42\u001b[39m\n",
      "\u001b[90m; │││││┌ @ /home/mjki2mb2/.julia/packages/CUDA/DfvRa/src/pool.jl:293 within `alloc`\u001b[39m\n",
      "\u001b[90m; ││││││┌ @ /home/mjki2mb2/.julia/packages/CUDA/DfvRa/src/pool.jl:295 within `#alloc#169`\u001b[39m\n",
      "\u001b[90m; │││││││┌ @ promotion.jl:477 within `==`\u001b[39m\n",
      "\t\u001b[96m\u001b[1mtestq\u001b[22m\u001b[39m\t\u001b[0m%rbx\u001b[0m, \u001b[0m%rbx\n",
      "\t\u001b[96m\u001b[1mmovq\u001b[22m\u001b[39m\t\u001b[0m%rbx\u001b[0m, \u001b[33m48\u001b[39m\u001b[33m(\u001b[39m\u001b[0m%rsp\u001b[33m)\u001b[39m                  \u001b[90m# 8-byte Spill\u001b[39m\n",
      "\u001b[90m; │││││││└\u001b[39m\n",
      "\t\u001b[96m\u001b[1mje\u001b[22m\u001b[39m\t\u001b[0m.LBB0_1\n",
      "\u001b[90m# %bb.2:                                # %L17\u001b[39m\n",
      "\t\u001b[96m\u001b[1mleaq\u001b[22m\u001b[39m\t\u001b[33m120\u001b[39m\u001b[33m(\u001b[39m\u001b[0m%rsp\u001b[33m)\u001b[39m\u001b[0m, \u001b[0m%rsi\n",
      "\u001b[90m; │││││││ @ /home/mjki2mb2/.julia/packages/CUDA/DfvRa/src/pool.jl:299 within `#alloc#169`\u001b[39m\n",
      "\t\u001b[96m\u001b[1mmovabsq\u001b[22m\u001b[39m\t\u001b[93m$\"j__alloc##kw_5258\"\u001b[39m\u001b[0m, \u001b[0m%rax\n",
      "\t\u001b[96m\u001b[1mleaq\u001b[22m\u001b[39m\t\u001b[33m240\u001b[39m\u001b[33m(\u001b[39m\u001b[0m%rsp\u001b[33m)\u001b[39m\u001b[0m, \u001b[0m%rdi\n",
      "\t\u001b[96m\u001b[1mmovq\u001b[22m\u001b[39m\t\u001b[0m%rbx\u001b[0m, \u001b[0m%rdx\n",
      "\t\u001b[96m\u001b[1mvzeroupper\u001b[22m\u001b[39m\n",
      "\t\u001b[96m\u001b[1mcallq\u001b[22m\u001b[39m\t\u001b[0m*\u001b[0m%rax\n",
      "\u001b[90m; │││││││ @ /home/mjki2mb2/.julia/packages/CUDA/DfvRa/src/pool.jl:301 within `#alloc#169`\u001b[39m\n",
      "\u001b[90m; │││││││┌ @ Base.jl:39 within `setproperty!`\u001b[39m\n",
      "\t\u001b[96m\u001b[1mincq\u001b[22m\u001b[39m\t\u001b[33m(\u001b[39m\u001b[0m%r15\u001b[33m)\u001b[39m\n",
      "\u001b[90m; │││││││└\u001b[39m\n",
      "\u001b[90m; │││││││ @ /home/mjki2mb2/.julia/packages/CUDA/DfvRa/src/pool.jl:302 within `#alloc#169`\u001b[39m\n",
      "\u001b[90m; │││││││┌ @ Base.jl:39 within `setproperty!`\u001b[39m\n",
      "\t\u001b[96m\u001b[1maddq\u001b[22m\u001b[39m\t\u001b[0m%rbx\u001b[0m, \u001b[33m8\u001b[39m\u001b[33m(\u001b[39m\u001b[0m%r15\u001b[33m)\u001b[39m\n",
      "\u001b[90m; │││││││└\u001b[39m\n",
      "\u001b[90m; │││││││ @ /home/mjki2mb2/.julia/packages/CUDA/DfvRa/src/pool.jl:303 within `#alloc#169`\u001b[39m\n",
      "\u001b[90m; │││││││┌ @ Base.jl:38 within `getproperty`\u001b[39m\n",
      "\t\u001b[96m\u001b[1mvmovsd\u001b[22m\u001b[39m\t\u001b[33m32\u001b[39m\u001b[33m(\u001b[39m\u001b[0m%r15\u001b[33m)\u001b[39m\u001b[0m, \u001b[0m%xmm0                 \u001b[90m# xmm0 = mem[0],zero\u001b[39m\n",
      "\u001b[90m; │││││││└\u001b[39m\n",
      "\u001b[90m; │││││││┌ @ float.jl:383 within `+`\u001b[39m\n",
      "\t\u001b[96m\u001b[1mvaddsd\u001b[22m\u001b[39m\t\u001b[33m272\u001b[39m\u001b[33m(\u001b[39m\u001b[0m%rsp\u001b[33m)\u001b[39m\u001b[0m, \u001b[0m%xmm0\u001b[0m, \u001b[0m%xmm0\n",
      "\u001b[90m; │││││││└\u001b[39m\n",
      "\u001b[90m; │││││││┌ @ Base.jl:39 within `setproperty!`\u001b[39m\n",
      "\t\u001b[96m\u001b[1mvmovsd\u001b[22m\u001b[39m\t\u001b[0m%xmm0\u001b[0m, \u001b[33m32\u001b[39m\u001b[33m(\u001b[39m\u001b[0m%r15\u001b[33m)\u001b[39m\n",
      "\t\u001b[96m\u001b[1mmovq\u001b[22m\u001b[39m\t\u001b[33m240\u001b[39m\u001b[33m(\u001b[39m\u001b[0m%rsp\u001b[33m)\u001b[39m\u001b[0m, \u001b[0m%rax\n",
      "\t\u001b[96m\u001b[1mmovq\u001b[22m\u001b[39m\t\u001b[33m248\u001b[39m\u001b[33m(\u001b[39m\u001b[0m%rsp\u001b[33m)\u001b[39m\u001b[0m, \u001b[0m%rcx\n",
      "\t\u001b[96m\u001b[1mmovq\u001b[22m\u001b[39m\t\u001b[0m%rcx\u001b[0m, \u001b[33m32\u001b[39m\u001b[33m(\u001b[39m\u001b[0m%rsp\u001b[33m)\u001b[39m                  \u001b[90m# 8-byte Spill\u001b[39m\n",
      "\t\u001b[96m\u001b[1mmovq\u001b[22m\u001b[39m\t\u001b[33m256\u001b[39m\u001b[33m(\u001b[39m\u001b[0m%rsp\u001b[33m)\u001b[39m\u001b[0m, \u001b[0m%rcx\n",
      "\t\u001b[96m\u001b[1mmovq\u001b[22m\u001b[39m\t\u001b[0m%rcx\u001b[0m, \u001b[33m24\u001b[39m\u001b[33m(\u001b[39m\u001b[0m%rsp\u001b[33m)\u001b[39m                  \u001b[90m# 8-byte Spill\u001b[39m\n",
      "\t\u001b[96m\u001b[1mmovb\u001b[22m\u001b[39m\t\u001b[33m264\u001b[39m\u001b[33m(\u001b[39m\u001b[0m%rsp\u001b[33m)\u001b[39m\u001b[0m, \u001b[0m%cl\n",
      "\t\u001b[96m\u001b[1mmovq\u001b[22m\u001b[39m\t\u001b[0m%rcx\u001b[0m, \u001b[33m64\u001b[39m\u001b[33m(\u001b[39m\u001b[0m%rsp\u001b[33m)\u001b[39m                  \u001b[90m# 8-byte Spill\u001b[39m\n",
      "\t\u001b[96m\u001b[1mjmp\u001b[22m\u001b[39m\t\u001b[0m.LBB0_3\n",
      "\u001b[91m.LBB0_1:\u001b[39m                                \u001b[90m# %L12\u001b[39m\n",
      "\u001b[90m; │││││││└\u001b[39m\n",
      "\u001b[90m; │││││││ @ /home/mjki2mb2/.julia/packages/CUDA/DfvRa/src/pool.jl:295 within `#alloc#169`\u001b[39m\n",
      "\u001b[90m; │││││││┌ @ /home/mjki2mb2/.julia/packages/CUDA/DfvRa/lib/cudadrv/memory.jl:52 within `DeviceBuffer`\u001b[39m\n",
      "\u001b[90m; ││││││││┌ @ /home/mjki2mb2/.julia/packages/CUDA/DfvRa/lib/cudadrv/state.jl:122 within `context`\u001b[39m\n",
      "\t\u001b[96m\u001b[1mmovabsq\u001b[22m\u001b[39m\t\u001b[93m$\"j_task_local_state!_5248\"\u001b[39m\u001b[0m, \u001b[0m%rax\n",
      "\t\u001b[96m\u001b[1mvzeroupper\u001b[22m\u001b[39m\n",
      "\t\u001b[96m\u001b[1mcallq\u001b[22m\u001b[39m\t\u001b[0m*\u001b[0m%rax\n",
      "\u001b[90m; │││││││││┌ @ Base.jl:38 within `getproperty`\u001b[39m\n",
      "\t\u001b[96m\u001b[1mmovq\u001b[22m\u001b[39m\t\u001b[33m8\u001b[39m\u001b[33m(\u001b[39m\u001b[0m%rax\u001b[33m)\u001b[39m\u001b[0m, \u001b[0m%rax\n",
      "\t\u001b[96m\u001b[1mxorl\u001b[22m\u001b[39m\t\u001b[0m%ecx\u001b[0m, \u001b[0m%ecx\n",
      "\t\u001b[96m\u001b[1mmovq\u001b[22m\u001b[39m\t\u001b[0m%rcx\u001b[0m, \u001b[33m32\u001b[39m\u001b[33m(\u001b[39m\u001b[0m%rsp\u001b[33m)\u001b[39m                  \u001b[90m# 8-byte Spill\u001b[39m\n",
      "\t\u001b[96m\u001b[1mxorl\u001b[22m\u001b[39m\t\u001b[0m%ecx\u001b[0m, \u001b[0m%ecx\n",
      "\t\u001b[96m\u001b[1mmovq\u001b[22m\u001b[39m\t\u001b[0m%rcx\u001b[0m, \u001b[33m24\u001b[39m\u001b[33m(\u001b[39m\u001b[0m%rsp\u001b[33m)\u001b[39m                  \u001b[90m# 8-byte Spill\u001b[39m\n",
      "\t\u001b[96m\u001b[1mxorl\u001b[22m\u001b[39m\t\u001b[0m%ecx\u001b[0m, \u001b[0m%ecx\n",
      "\t\u001b[96m\u001b[1mmovq\u001b[22m\u001b[39m\t\u001b[0m%rcx\u001b[0m, \u001b[33m64\u001b[39m\u001b[33m(\u001b[39m\u001b[0m%rsp\u001b[33m)\u001b[39m                  \u001b[90m# 8-byte Spill\u001b[39m\n",
      "\u001b[91m.LBB0_3:\u001b[39m                                \u001b[90m# %L38\u001b[39m\n",
      "\t\u001b[96m\u001b[1mmovq\u001b[22m\u001b[39m\t\u001b[0m%rax\u001b[0m, \u001b[33m72\u001b[39m\u001b[33m(\u001b[39m\u001b[0m%rsp\u001b[33m)\u001b[39m                  \u001b[90m# 8-byte Spill\u001b[39m\n",
      "\t\u001b[96m\u001b[1mmovabsq\u001b[22m\u001b[39m\t\u001b[33m$140566583326960\u001b[39m\u001b[0m, \u001b[0m%r14          \u001b[90m# imm = 0x7FD8354438F0\u001b[39m\n",
      "\t\u001b[96m\u001b[1mmovq\u001b[22m\u001b[39m\t\u001b[0m%rax\u001b[0m, \u001b[33m136\u001b[39m\u001b[33m(\u001b[39m\u001b[0m%rsp\u001b[33m)\u001b[39m\n",
      "\t\u001b[96m\u001b[1mmovq\u001b[22m\u001b[39m\t\u001b[33m16\u001b[39m\u001b[33m(\u001b[39m\u001b[0m%rsp\u001b[33m)\u001b[39m\u001b[0m, \u001b[0m%r13                  \u001b[90m# 8-byte Reload\u001b[39m\n",
      "\u001b[90m; │││││└└└└└\u001b[39m\n",
      "\u001b[90m; │││││ @ /home/mjki2mb2/.julia/packages/CUDA/DfvRa/src/array.jl:136 within `CuArray` @ /home/mjki2mb2/.julia/packages/CUDA/DfvRa/src/array.jl:125 @ /home/mjki2mb2/.julia/packages/CUDA/DfvRa/src/array.jl:43\u001b[39m"
     ]
    },
    {
     "name": "stdout",
     "output_type": "stream",
     "text": [
      "\n",
      "\u001b[90m; │││││┌ @ /home/mjki2mb2/.julia/packages/CUDA/DfvRa/src/array.jl:19 within `ArrayStorage`\u001b[39m\n",
      "\u001b[90m; ││││││┌ @ atomics.jl:78 within `Atomic`\u001b[39m\n",
      "\t\u001b[96m\u001b[1mmovq\u001b[22m\u001b[39m\t\u001b[33m16\u001b[39m\u001b[33m(\u001b[39m\u001b[0m%r13\u001b[33m)\u001b[39m\u001b[0m, \u001b[0m%rdi\n",
      "\t\u001b[96m\u001b[1mmovabsq\u001b[22m\u001b[39m\t\u001b[93m$ijl_gc_pool_alloc\u001b[39m\u001b[0m, \u001b[0m%r12\n",
      "\t\u001b[96m\u001b[1mmovl\u001b[22m\u001b[39m\t\u001b[33m$1392\u001b[39m\u001b[0m, \u001b[0m%esi                     \u001b[90m# imm = 0x570\u001b[39m\n",
      "\t\u001b[96m\u001b[1mmovl\u001b[22m\u001b[39m\t\u001b[33m$16\u001b[39m\u001b[0m, \u001b[0m%edx\n",
      "\t\u001b[96m\u001b[1mcallq\u001b[22m\u001b[39m\t\u001b[0m*\u001b[0m%r12\n",
      "\t\u001b[96m\u001b[1mmovq\u001b[22m\u001b[39m\t\u001b[0m%rax\u001b[0m, \u001b[0m%rbx\n",
      "\t\u001b[96m\u001b[1mleaq\u001b[22m\u001b[39m\t\u001b[33m712144\u001b[39m\u001b[33m(\u001b[39m\u001b[0m%r14\u001b[33m)\u001b[39m\u001b[0m, \u001b[0m%rax\n",
      "\t\u001b[96m\u001b[1mmovq\u001b[22m\u001b[39m\t\u001b[0m%rax\u001b[0m, \u001b[33m-8\u001b[39m\u001b[33m(\u001b[39m\u001b[0m%rbx\u001b[33m)\u001b[39m\n",
      "\t\u001b[96m\u001b[1mmovq\u001b[22m\u001b[39m\t\u001b[33m$1\u001b[39m\u001b[0m, \u001b[33m(\u001b[39m\u001b[0m%rbx\u001b[33m)\u001b[39m\n",
      "\t\u001b[96m\u001b[1mmovq\u001b[22m\u001b[39m\t\u001b[0m%rbx\u001b[0m, \u001b[33m144\u001b[39m\u001b[33m(\u001b[39m\u001b[0m%rsp\u001b[33m)\u001b[39m\n",
      "\u001b[90m; │││││└└\u001b[39m\n",
      "\u001b[90m; │││││ @ /home/mjki2mb2/.julia/packages/CUDA/DfvRa/src/array.jl:136 within `CuArray` @ /home/mjki2mb2/.julia/packages/CUDA/DfvRa/src/array.jl:125 @ /home/mjki2mb2/.julia/packages/CUDA/DfvRa/src/array.jl:44\u001b[39m\n",
      "\t\u001b[96m\u001b[1mmovq\u001b[22m\u001b[39m\t\u001b[33m16\u001b[39m\u001b[33m(\u001b[39m\u001b[0m%r13\u001b[33m)\u001b[39m\u001b[0m, \u001b[0m%rdi\n",
      "\t\u001b[96m\u001b[1mmovl\u001b[22m\u001b[39m\t\u001b[33m$1488\u001b[39m\u001b[0m, \u001b[0m%esi                     \u001b[90m# imm = 0x5D0\u001b[39m\n",
      "\t\u001b[96m\u001b[1mmovl\u001b[22m\u001b[39m\t\u001b[33m$48\u001b[39m\u001b[0m, \u001b[0m%edx\n",
      "\t\u001b[96m\u001b[1mcallq\u001b[22m\u001b[39m\t\u001b[0m*\u001b[0m%r12\n",
      "\t\u001b[96m\u001b[1mmovq\u001b[22m\u001b[39m\t\u001b[0m%rax\u001b[0m, \u001b[0m%r14\n",
      "\t\u001b[96m\u001b[1mleaq\u001b[22m\u001b[39m\t\u001b[33m-13916224\u001b[39m\u001b[33m(\u001b[39m\u001b[0m%r15\u001b[33m)\u001b[39m\u001b[0m, \u001b[0m%rax\n",
      "\t\u001b[96m\u001b[1mmovq\u001b[22m\u001b[39m\t\u001b[0m%rax\u001b[0m, \u001b[33m-8\u001b[39m\u001b[33m(\u001b[39m\u001b[0m%r14\u001b[33m)\u001b[39m\n",
      "\t\u001b[96m\u001b[1mmovq\u001b[22m\u001b[39m\t\u001b[33m$0\u001b[39m\u001b[0m, \u001b[33m(\u001b[39m\u001b[0m%r14\u001b[33m)\u001b[39m\n",
      "\t\u001b[96m\u001b[1mmovq\u001b[22m\u001b[39m\t\u001b[0m%r14\u001b[0m, \u001b[33m184\u001b[39m\u001b[33m(\u001b[39m\u001b[0m%rsp\u001b[33m)\u001b[39m\n",
      "\t\u001b[96m\u001b[1mmovq\u001b[22m\u001b[39m\t\u001b[33m16\u001b[39m\u001b[33m(\u001b[39m\u001b[0m%r13\u001b[33m)\u001b[39m\u001b[0m, \u001b[0m%rdi\n",
      "\t\u001b[96m\u001b[1mmovl\u001b[22m\u001b[39m\t\u001b[33m$1488\u001b[39m\u001b[0m, \u001b[0m%esi                     \u001b[90m# imm = 0x5D0\u001b[39m\n",
      "\t\u001b[96m\u001b[1mmovl\u001b[22m\u001b[39m\t\u001b[33m$48\u001b[39m\u001b[0m, \u001b[0m%edx\n",
      "\t\u001b[96m\u001b[1mcallq\u001b[22m\u001b[39m\t\u001b[0m*\u001b[0m%r12\n",
      "\t\u001b[96m\u001b[1mleaq\u001b[22m\u001b[39m\t\u001b[33m-13915904\u001b[39m\u001b[33m(\u001b[39m\u001b[0m%r15\u001b[33m)\u001b[39m\u001b[0m, \u001b[0m%rcx\n",
      "\t\u001b[96m\u001b[1mmovq\u001b[22m\u001b[39m\t\u001b[0m%rcx\u001b[0m, \u001b[33m-8\u001b[39m\u001b[33m(\u001b[39m\u001b[0m%rax\u001b[33m)\u001b[39m\n",
      "\t\u001b[96m\u001b[1mmovq\u001b[22m\u001b[39m\t\u001b[33m64\u001b[39m\u001b[33m(\u001b[39m\u001b[0m%rsp\u001b[33m)\u001b[39m\u001b[0m, \u001b[0m%rcx                  \u001b[90m# 8-byte Reload\u001b[39m\n",
      "\t\u001b[96m\u001b[1mmovb\u001b[22m\u001b[39m\t\u001b[0m%cl\u001b[0m, \u001b[33m24\u001b[39m\u001b[33m(\u001b[39m\u001b[0m%rax\u001b[33m)\u001b[39m\n",
      "\t\u001b[96m\u001b[1mmovq\u001b[22m\u001b[39m\t\u001b[33m24\u001b[39m\u001b[33m(\u001b[39m\u001b[0m%rsp\u001b[33m)\u001b[39m\u001b[0m, \u001b[0m%rcx                  \u001b[90m# 8-byte Reload\u001b[39m\n",
      "\t\u001b[96m\u001b[1mmovq\u001b[22m\u001b[39m\t\u001b[0m%rcx\u001b[0m, \u001b[33m16\u001b[39m\u001b[33m(\u001b[39m\u001b[0m%rax\u001b[33m)\u001b[39m\n",
      "\t\u001b[96m\u001b[1mmovq\u001b[22m\u001b[39m\t\u001b[33m32\u001b[39m\u001b[33m(\u001b[39m\u001b[0m%rsp\u001b[33m)\u001b[39m\u001b[0m, \u001b[0m%rcx                  \u001b[90m# 8-byte Reload\u001b[39m\n",
      "\t\u001b[96m\u001b[1mmovq\u001b[22m\u001b[39m\t\u001b[0m%rcx\u001b[0m, \u001b[33m8\u001b[39m\u001b[33m(\u001b[39m\u001b[0m%rax\u001b[33m)\u001b[39m\n",
      "\t\u001b[96m\u001b[1mmovq\u001b[22m\u001b[39m\t\u001b[33m72\u001b[39m\u001b[33m(\u001b[39m\u001b[0m%rsp\u001b[33m)\u001b[39m\u001b[0m, \u001b[0m%rcx                  \u001b[90m# 8-byte Reload\u001b[39m\n",
      "\t\u001b[96m\u001b[1mmovq\u001b[22m\u001b[39m\t\u001b[0m%rcx\u001b[0m, \u001b[33m(\u001b[39m\u001b[0m%rax\u001b[33m)\u001b[39m\n",
      "\t\u001b[96m\u001b[1mmovq\u001b[22m\u001b[39m\t\u001b[0m%rbx\u001b[0m, \u001b[33m32\u001b[39m\u001b[33m(\u001b[39m\u001b[0m%rax\u001b[33m)\u001b[39m\n",
      "\t\u001b[96m\u001b[1mmovq\u001b[22m\u001b[39m\t\u001b[0m%rax\u001b[0m, \u001b[33m(\u001b[39m\u001b[0m%r14\u001b[33m)\u001b[39m\n",
      "\t\u001b[96m\u001b[1mmovq\u001b[22m\u001b[39m\t\u001b[33m-8\u001b[39m\u001b[33m(\u001b[39m\u001b[0m%r14\u001b[33m)\u001b[39m\u001b[0m, \u001b[0m%rax\n",
      "\t\u001b[96m\u001b[1mnotl\u001b[22m\u001b[39m\t\u001b[0m%eax\n",
      "\t\u001b[96m\u001b[1mtestb\u001b[22m\u001b[39m\t\u001b[33m$3\u001b[39m\u001b[0m, \u001b[0m%al\n",
      "\t\u001b[96m\u001b[1mjne\u001b[22m\u001b[39m\t\u001b[0m.LBB0_5\n",
      "\u001b[90m# %bb.4:\u001b[39m\n",
      "\t\u001b[96m\u001b[1mmovabsq\u001b[22m\u001b[39m\t\u001b[93m$ijl_gc_queue_root\u001b[39m\u001b[0m, \u001b[0m%rax\n",
      "\t\u001b[96m\u001b[1mmovq\u001b[22m\u001b[39m\t\u001b[0m%r14\u001b[0m, \u001b[0m%rdi\n",
      "\t\u001b[96m\u001b[1mcallq\u001b[22m\u001b[39m\t\u001b[0m*\u001b[0m%rax\n",
      "\u001b[91m.LBB0_5:\u001b[39m\n",
      "\t\u001b[96m\u001b[1mmovq\u001b[22m\u001b[39m\t\u001b[33m48\u001b[39m\u001b[33m(\u001b[39m\u001b[0m%rsp\u001b[33m)\u001b[39m\u001b[0m, \u001b[0m%rax                  \u001b[90m# 8-byte Reload\u001b[39m\n",
      "\t\u001b[96m\u001b[1mmovq\u001b[22m\u001b[39m\t\u001b[0m%rax\u001b[0m, \u001b[33m8\u001b[39m\u001b[33m(\u001b[39m\u001b[0m%r14\u001b[33m)\u001b[39m\n",
      "\t\u001b[96m\u001b[1mmovq\u001b[22m\u001b[39m\t\u001b[33m$0\u001b[39m\u001b[0m, \u001b[33m16\u001b[39m\u001b[33m(\u001b[39m\u001b[0m%r14\u001b[33m)\u001b[39m\n",
      "\t\u001b[96m\u001b[1mmovq\u001b[22m\u001b[39m\t\u001b[33m56\u001b[39m\u001b[33m(\u001b[39m\u001b[0m%rsp\u001b[33m)\u001b[39m\u001b[0m, \u001b[0m%rbx                  \u001b[90m# 8-byte Reload\u001b[39m\n",
      "\t\u001b[96m\u001b[1mmovq\u001b[22m\u001b[39m\t\u001b[0m%rbx\u001b[0m, \u001b[33m24\u001b[39m\u001b[33m(\u001b[39m\u001b[0m%r14\u001b[33m)\u001b[39m\n",
      "\t\u001b[96m\u001b[1mmovabsq\u001b[22m\u001b[39m\t\u001b[33m$140566583326960\u001b[39m\u001b[0m, \u001b[0m%r15          \u001b[90m# imm = 0x7FD8354438F0\u001b[39m\n",
      "\u001b[90m; │││││ @ /home/mjki2mb2/.julia/packages/CUDA/DfvRa/src/array.jl:136 within `CuArray` @ /home/mjki2mb2/.julia/packages/CUDA/DfvRa/src/array.jl:125 @ /home/mjki2mb2/.julia/packages/CUDA/DfvRa/src/array.jl:45\u001b[39m\n",
      "\u001b[90m; │││││┌ @ gcutils.jl:48 within `finalizer`\u001b[39m\n",
      "\u001b[90m; ││││││┌ @ boot.jl:364 within `getptls`\u001b[39m\n",
      "\t\u001b[96m\u001b[1mleaq\u001b[22m\u001b[39m\t\u001b[33m319011344\u001b[39m\u001b[33m(\u001b[39m\u001b[0m%r15\u001b[33m)\u001b[39m\u001b[0m, \u001b[0m%rax\n",
      "\t\u001b[96m\u001b[1mcallq\u001b[22m\u001b[39m\t\u001b[0m*\u001b[0m%rax\n",
      "\u001b[90m; ││││││└\u001b[39m\n",
      "\t\u001b[96m\u001b[1mleaq\u001b[22m\u001b[39m\t\u001b[33m319034544\u001b[39m\u001b[33m(\u001b[39m\u001b[0m%r15\u001b[33m)\u001b[39m\u001b[0m, \u001b[0m%rcx\n",
      "\t\u001b[96m\u001b[1mmovabsq\u001b[22m\u001b[39m\t\u001b[33m$140561778654832\u001b[39m\u001b[0m, \u001b[0m%rdx          \u001b[90m# imm = 0x7FD716E2BE70\u001b[39m\n",
      "\t\u001b[96m\u001b[1mmovq\u001b[22m\u001b[39m\t\u001b[0m%rax\u001b[0m, \u001b[0m%rdi\n",
      "\t\u001b[96m\u001b[1mmovq\u001b[22m\u001b[39m\t\u001b[0m%r14\u001b[0m, \u001b[0m%rsi\n",
      "\t\u001b[96m\u001b[1mcallq\u001b[22m\u001b[39m\t\u001b[0m*\u001b[0m%rcx\n",
      "\u001b[90m; │││└└└\u001b[39m\n",
      "\u001b[90m; │││┌ @ /home/mjki2mb2/.julia/packages/GPUArrays/fqD8z/src/host/broadcast.jl:46 within `copyto!`\u001b[39m\n",
      "\u001b[90m; ││││┌ @ /home/mjki2mb2/.julia/packages/GPUArrays/fqD8z/src/host/broadcast.jl:49 within `_copyto!`\u001b[39m\n",
      "\u001b[90m; │││││┌ @ abstractarray.jl:95 within `axes`\u001b[39m\n",
      "\u001b[90m; ││││││┌ @ /home/mjki2mb2/.julia/packages/CUDA/DfvRa/src/array.jl:234 within `size`\u001b[39m\n",
      "\u001b[90m; │││││││┌ @ Base.jl:38 within `getproperty`\u001b[39m\n",
      "\t\u001b[96m\u001b[1mmovq\u001b[22m\u001b[39m\t\u001b[33m24\u001b[39m\u001b[33m(\u001b[39m\u001b[0m%r14\u001b[33m)\u001b[39m\u001b[0m, \u001b[0m%rax\n",
      "\u001b[90m; ││││││└└\u001b[39m\n",
      "\u001b[90m; ││││││┌ @ tuple.jl:221 within `map`\u001b[39m\n",
      "\u001b[90m; │││││││┌ @ range.jl:455 within `oneto`\u001b[39m\n",
      "\u001b[90m; ││││││││┌ @ range.jl:453 within `OneTo` @ range.jl:440\u001b[39m\n",
      "\u001b[90m; │││││││││┌ @ promotion.jl:488 within `max`\u001b[39m\n",
      "\u001b[90m; ││││││││││┌ @ essentials.jl:489 within `ifelse`\u001b[39m\n",
      "\t\u001b[96m\u001b[1mmovq\u001b[22m\u001b[39m\t\u001b[0m%rax\u001b[0m, \u001b[0m%rcx\n",
      "\t\u001b[96m\u001b[1msarq\u001b[22m\u001b[39m\t\u001b[33m$63\u001b[39m\u001b[0m, \u001b[0m%rcx\n",
      "\t\u001b[96m\u001b[1mandnq\u001b[22m\u001b[39m\t\u001b[0m%rax\u001b[0m, \u001b[0m%rcx\u001b[0m, \u001b[0m%rcx\n",
      "\u001b[90m; │││││└└└└└└\u001b[39m\n",
      "\u001b[90m; │││││┌ @ tuple.jl:398 within `==`\u001b[39m\n",
      "\u001b[90m; ││││││┌ @ tuple.jl:402 within `_eq`\u001b[39m\n",
      "\u001b[90m; │││││││┌ @ range.jl:1111 within `==` @ promotion.jl:477\u001b[39m\n",
      "\t\u001b[96m\u001b[1mcmpq\u001b[22m\u001b[39m\t\u001b[0m%rbx\u001b[0m, \u001b[0m%rcx\n",
      "\t\u001b[96m\u001b[1mmovq\u001b[22m\u001b[39m\t\u001b[33m40\u001b[39m\u001b[33m(\u001b[39m\u001b[0m%rsp\u001b[33m)\u001b[39m\u001b[0m, \u001b[0m%rbx                  \u001b[90m# 8-byte Reload\u001b[39m\n",
      "\u001b[90m; │││││└└└\u001b[39m\n",
      "\t\u001b[96m\u001b[1mjne\u001b[22m\u001b[39m\t\u001b[0m.LBB0_20\n",
      "\u001b[90m# %bb.6:                                # %L63\u001b[39m\n",
      "\u001b[90m; │││││ @ /home/mjki2mb2/.julia/packages/GPUArrays/fqD8z/src/host/broadcast.jl:50 within `_copyto!`\u001b[39m\n",
      "\u001b[90m; │││││┌ @ abstractarray.jl:1170 within `isempty`\u001b[39m\n",
      "\u001b[90m; ││││││┌ @ promotion.jl:477 within `==`\u001b[39m\n",
      "\t\u001b[96m\u001b[1mtestq\u001b[22m\u001b[39m\t\u001b[0m%rax\u001b[0m, \u001b[0m%rax\n",
      "\u001b[90m; │││││└└\u001b[39m\n",
      "\t\u001b[96m\u001b[1mje\u001b[22m\u001b[39m\t\u001b[0m.LBB0_17\n",
      "\u001b[90m# %bb.7:                                # %L68\u001b[39m\n",
      "\u001b[90m; │││││ @ /home/mjki2mb2/.julia/packages/GPUArrays/fqD8z/src/host/broadcast.jl:51 within `_copyto!`\u001b[39m\n",
      "\u001b[90m; │││││┌ @ broadcast.jl:940 within `preprocess`\u001b[39m\n",
      "\u001b[90m; ││││││┌ @ broadcast.jl:943 within `preprocess_args`\u001b[39m\n",
      "\u001b[90m; │││││││┌ @ broadcast.jl:941 within `preprocess`\u001b[39m\n",
      "\u001b[90m; ││││││││┌ @ broadcast.jl:934 within `broadcast_unalias`\u001b[39m\n",
      "\t\u001b[96m\u001b[1mcmpq\u001b[22m\u001b[39m\t\u001b[0m%rbx\u001b[0m, \u001b[0m%r14\n",
      "\t\u001b[96m\u001b[1mje\u001b[22m\u001b[39m\t\u001b[0m.LBB0_10\n",
      "\u001b[90m# %bb.8:                                # %L71\u001b[39m\n",
      "\u001b[90m; │││││││││┌ @ abstractarray.jl:1427 within `unalias`\u001b[39m\n",
      "\t\u001b[96m\u001b[1mmovabsq\u001b[22m\u001b[39m\t\u001b[93m$j_mightalias_5255\u001b[39m\u001b[0m, \u001b[0m%rax\n",
      "\t\u001b[96m\u001b[1mmovq\u001b[22m\u001b[39m\t\u001b[0m%r14\u001b[0m, \u001b[0m%rdi\n",
      "\t\u001b[96m\u001b[1mmovq\u001b[22m\u001b[39m\t\u001b[0m%rbx\u001b[0m, \u001b[0m%rsi\n",
      "\t\u001b[96m\u001b[1mcallq\u001b[22m\u001b[39m\t\u001b[0m*\u001b[0m%rax\n",
      "\t\u001b[96m\u001b[1mtestb\u001b[22m\u001b[39m\t\u001b[33m$1\u001b[39m\u001b[0m, \u001b[0m%al\n",
      "\t\u001b[96m\u001b[1mje\u001b[22m\u001b[39m\t\u001b[0m.LBB0_10\n",
      "\u001b[90m# %bb.9:                                # %L73\u001b[39m\n",
      "\u001b[90m; ││││││││││┌ @ /home/mjki2mb2/.julia/packages/CUDA/DfvRa/src/array.jl:109 within `unaliascopy`\u001b[39m\n",
      "\t\u001b[96m\u001b[1mmovabsq\u001b[22m\u001b[39m\t\u001b[93m$j_copy_5256\u001b[39m\u001b[0m, \u001b[0m%rax\n",
      "\t\u001b[96m\u001b[1mmovq\u001b[22m\u001b[39m\t\u001b[0m%rbx\u001b[0m, \u001b[0m%rdi\n",
      "\t\u001b[96m\u001b[1mcallq\u001b[22m\u001b[39m\t\u001b[0m*\u001b[0m%rax\n",
      "\t\u001b[96m\u001b[1mmovq\u001b[22m\u001b[39m\t\u001b[0m%rax\u001b[0m, \u001b[0m%rbx\n",
      "\u001b[91m.LBB0_10:\u001b[39m                               \u001b[90m# %L78\u001b[39m\n",
      "\u001b[90m; ││││││││└└└\u001b[39m\n",
      "\u001b[90m; ││││││││┌ @ broadcast.jl:637 within `extrude`\u001b[39m\n",
      "\u001b[90m; │││││││││┌ @ broadcast.jl:586 within `newindexer`\u001b[39m\n",
      "\u001b[90m; ││││││││││┌ @ broadcast.jl:587 within `shapeindexer`\u001b[39m\n",
      "\u001b[90m; │││││││││││┌ @ broadcast.jl:592 within `_newindexer`\u001b[39m\n",
      "\u001b[90m; ││││││││││││┌ @ operators.jl:282 within `!=`\u001b[39m\n",
      "\u001b[90m; │││││││││││││┌ @ promotion.jl:477 within `==`\u001b[39m\n",
      "\t\u001b[96m\u001b[1mcmpq\u001b[22m\u001b[39m\t\u001b[33m$1\u001b[39m\u001b[0m, \u001b[33m24\u001b[39m\u001b[33m(\u001b[39m\u001b[0m%rbx\u001b[33m)\u001b[39m\n",
      "\t\u001b[96m\u001b[1msetne\u001b[22m\u001b[39m\t\u001b[33m48\u001b[39m\u001b[33m(\u001b[39m\u001b[0m%rsp\u001b[33m)\u001b[39m                        \u001b[90m# 1-byte Folded Spill\u001b[39m\n",
      "\u001b[90m; │││││└└└└└└└└└\u001b[39m\n",
      "\u001b[90m; │││││ @ /home/mjki2mb2/.julia/packages/GPUArrays/fqD8z/src/host/broadcast.jl:61 within `_copyto!`\u001b[39m\n",
      "\u001b[90m; │││││┌ @ abstractarray.jl:279 within `length`\u001b[39m\n",
      "\u001b[90m; ││││││┌ @ /home/mjki2mb2/.julia/packages/CUDA/DfvRa/src/array.jl:234 within `size`\u001b[39m\n",
      "\u001b[90m; │││││││┌ @ Base.jl:38 within `getproperty`\u001b[39m\n",
      "\t\u001b[96m\u001b[1mmovq\u001b[22m\u001b[39m\t\u001b[33m24\u001b[39m\u001b[33m(\u001b[39m\u001b[0m%r14\u001b[33m)\u001b[39m\u001b[0m, \u001b[0m%r13\n",
      "\u001b[90m; │││││└└└\u001b[39m\n",
      "\u001b[90m; │││││ @ /home/mjki2mb2/.julia/packages/GPUArrays/fqD8z/src/host/broadcast.jl:63 within `_copyto!`\u001b[39m\n",
      "\u001b[90m; │││││┌ @ boot.jl:603 within `NamedTuple` @ boot.jl:607\u001b[39m\n",
      "\t\u001b[96m\u001b[1mmovq\u001b[22m\u001b[39m\t\u001b[0m%r13\u001b[0m, \u001b[33m200\u001b[39m\u001b[33m(\u001b[39m\u001b[0m%rsp\u001b[33m)\u001b[39m\n",
      "\t\u001b[96m\u001b[1mmovabsq\u001b[22m\u001b[39m\t"
     ]
    },
    {
     "name": "stdout",
     "output_type": "stream",
     "text": [
      "\u001b[33m$9223372036854775807\u001b[39m\u001b[0m, \u001b[0m%r15      \u001b[90m# imm = 0x7FFFFFFFFFFFFFFF\u001b[39m\n",
      "\u001b[90m; │││││└\u001b[39m\n",
      "\t\u001b[96m\u001b[1mmovq\u001b[22m\u001b[39m\t\u001b[0m%rbx\u001b[0m, \u001b[33m368\u001b[39m\u001b[33m(\u001b[39m\u001b[0m%rsp\u001b[33m)\u001b[39m\n",
      "\t\u001b[96m\u001b[1msetne\u001b[22m\u001b[39m\t\u001b[33m376\u001b[39m\u001b[33m(\u001b[39m\u001b[0m%rsp\u001b[33m)\u001b[39m\n",
      "\u001b[90m; │││││┌ @ boot.jl:603 within `NamedTuple` @ boot.jl:607\u001b[39m\n",
      "\t\u001b[96m\u001b[1mmovq\u001b[22m\u001b[39m\t\u001b[0m%r15\u001b[0m, \u001b[33m208\u001b[39m\u001b[33m(\u001b[39m\u001b[0m%rsp\u001b[33m)\u001b[39m\n",
      "\t\u001b[96m\u001b[1mmovq\u001b[22m\u001b[39m\t\u001b[0m%rbx\u001b[0m, \u001b[33m128\u001b[39m\u001b[33m(\u001b[39m\u001b[0m%rsp\u001b[33m)\u001b[39m\n",
      "\t\u001b[96m\u001b[1mmovabsq\u001b[22m\u001b[39m\t\u001b[93m$.LCPI0_0\u001b[39m\u001b[0m, \u001b[0m%rax\n",
      "\u001b[90m; │││││└\u001b[39m\n",
      "\t\u001b[96m\u001b[1mvmovaps\u001b[22m\u001b[39m\t\u001b[33m(\u001b[39m\u001b[0m%rax\u001b[33m)\u001b[39m\u001b[0m, \u001b[0m%xmm0\n",
      "\t\u001b[96m\u001b[1mvmovups\u001b[22m\u001b[39m\t\u001b[0m%xmm0\u001b[0m, \u001b[33m384\u001b[39m\u001b[33m(\u001b[39m\u001b[0m%rsp\u001b[33m)\u001b[39m\n",
      "\t\u001b[96m\u001b[1mmovq\u001b[22m\u001b[39m\t\u001b[33m56\u001b[39m\u001b[33m(\u001b[39m\u001b[0m%rsp\u001b[33m)\u001b[39m\u001b[0m, \u001b[0m%rax                  \u001b[90m# 8-byte Reload\u001b[39m\n",
      "\t\u001b[96m\u001b[1mmovq\u001b[22m\u001b[39m\t\u001b[0m%rax\u001b[0m, \u001b[33m400\u001b[39m\u001b[33m(\u001b[39m\u001b[0m%rsp\u001b[33m)\u001b[39m\n",
      "\t\u001b[96m\u001b[1mmovq\u001b[22m\u001b[39m\t\u001b[0m%rbx\u001b[0m, \u001b[33m40\u001b[39m\u001b[33m(\u001b[39m\u001b[0m%rsp\u001b[33m)\u001b[39m                  \u001b[90m# 8-byte Spill\u001b[39m\n",
      "\t\u001b[96m\u001b[1mmovq\u001b[22m\u001b[39m\t\u001b[0m%rbx\u001b[0m, \u001b[33m176\u001b[39m\u001b[33m(\u001b[39m\u001b[0m%rsp\u001b[33m)\u001b[39m\n",
      "\t\u001b[96m\u001b[1mmovabsq\u001b[22m\u001b[39m\t\u001b[93m$\"j_launch_heuristic##kw_5249\"\u001b[39m\u001b[0m, \u001b[0m%rax\n",
      "\t\u001b[96m\u001b[1mleaq\u001b[22m\u001b[39m\t\u001b[33m408\u001b[39m\u001b[33m(\u001b[39m\u001b[0m%rsp\u001b[33m)\u001b[39m\u001b[0m, \u001b[0m%r12\n",
      "\t\u001b[96m\u001b[1mleaq\u001b[22m\u001b[39m\t\u001b[33m200\u001b[39m\u001b[33m(\u001b[39m\u001b[0m%rsp\u001b[33m)\u001b[39m\u001b[0m, \u001b[0m%rsi\n",
      "\t\u001b[96m\u001b[1mleaq\u001b[22m\u001b[39m\t\u001b[33m368\u001b[39m\u001b[33m(\u001b[39m\u001b[0m%rsp\u001b[33m)\u001b[39m\u001b[0m, \u001b[0m%rcx\n",
      "\t\u001b[96m\u001b[1mmovl\u001b[22m\u001b[39m\t\u001b[33m$1\u001b[39m\u001b[0m, \u001b[0m%r8d\n",
      "\t\u001b[96m\u001b[1mmovq\u001b[22m\u001b[39m\t\u001b[0m%r12\u001b[0m, \u001b[0m%rdi\n",
      "\t\u001b[96m\u001b[1mmovq\u001b[22m\u001b[39m\t\u001b[0m%r14\u001b[0m, \u001b[0m%rdx\n",
      "\t\u001b[96m\u001b[1mcallq\u001b[22m\u001b[39m\t\u001b[0m*\u001b[0m%rax\n",
      "\u001b[90m; │││││ @ /home/mjki2mb2/.julia/packages/GPUArrays/fqD8z/src/host/broadcast.jl:65 within `_copyto!`\u001b[39m\n",
      "\u001b[90m; │││││┌ @ /home/mjki2mb2/.julia/packages/GPUArrays/fqD8z/src/device/execution.jl:88 within `launch_configuration##kw`\u001b[39m\n",
      "\t\u001b[96m\u001b[1mmovabsq\u001b[22m\u001b[39m\t\u001b[93m$\"j_#launch_configuration#3_5250\"\u001b[39m\u001b[0m, \u001b[0m%rax\n",
      "\t\u001b[96m\u001b[1mleaq\u001b[22m\u001b[39m\t\u001b[33m216\u001b[39m\u001b[33m(\u001b[39m\u001b[0m%rsp\u001b[33m)\u001b[39m\u001b[0m, \u001b[0m%rdi\n",
      "\t\u001b[96m\u001b[1mmovq\u001b[22m\u001b[39m\t\u001b[0m%r13\u001b[0m, \u001b[0m%rsi\n",
      "\t\u001b[96m\u001b[1mmovq\u001b[22m\u001b[39m\t\u001b[0m%r15\u001b[0m, \u001b[0m%rdx\n",
      "\t\u001b[96m\u001b[1mmovq\u001b[22m\u001b[39m\t\u001b[0m%r12\u001b[0m, \u001b[0m%rcx\n",
      "\t\u001b[96m\u001b[1mcallq\u001b[22m\u001b[39m\t\u001b[0m*\u001b[0m%rax\n",
      "\u001b[90m; │││││└\u001b[39m\n",
      "\u001b[90m; │││││ @ /home/mjki2mb2/.julia/packages/GPUArrays/fqD8z/src/host/broadcast.jl:67 within `_copyto!`\u001b[39m\n",
      "\u001b[90m; │││││┌ @ /home/mjki2mb2/.julia/packages/GPUArrays/fqD8z/src/device/execution.jl:34 within `gpu_call##kw`\u001b[39m\n",
      "\u001b[90m; ││││││┌ @ /home/mjki2mb2/.julia/packages/GPUArrays/fqD8z/src/device/execution.jl:67 within `#gpu_call#1`\u001b[39m\n",
      "\u001b[90m; │││││││┌ @ operators.jl:382 within `>`\u001b[39m\n",
      "\u001b[90m; ││││││││┌ @ int.jl:83 within `<`\u001b[39m\n",
      "\t\u001b[96m\u001b[1mmovq\u001b[22m\u001b[39m\t\u001b[33m216\u001b[39m\u001b[33m(\u001b[39m\u001b[0m%rsp\u001b[33m)\u001b[39m\u001b[0m, \u001b[0m%r12\n",
      "\t\u001b[96m\u001b[1mtestq\u001b[22m\u001b[39m\t\u001b[0m%r12\u001b[0m, \u001b[0m%r12\n",
      "\u001b[90m; │││││││└└\u001b[39m\n",
      "\t\u001b[96m\u001b[1mjle\u001b[22m\u001b[39m\t\u001b[0m.LBB0_19\n",
      "\u001b[90m# %bb.11:                               # %L108\u001b[39m\n",
      "\u001b[90m; │││││││ @ /home/mjki2mb2/.julia/packages/GPUArrays/fqD8z/src/device/execution.jl:68 within `#gpu_call#1`\u001b[39m\n",
      "\u001b[90m; │││││││┌ @ operators.jl:382 within `>`\u001b[39m\n",
      "\u001b[90m; ││││││││┌ @ int.jl:83 within `<`\u001b[39m\n",
      "\t\u001b[96m\u001b[1mmovq\u001b[22m\u001b[39m\t\u001b[33m224\u001b[39m\u001b[33m(\u001b[39m\u001b[0m%rsp\u001b[33m)\u001b[39m\u001b[0m, \u001b[0m%r13\n",
      "\t\u001b[96m\u001b[1mtestq\u001b[22m\u001b[39m\t\u001b[0m%r13\u001b[0m, \u001b[0m%r13\n",
      "\u001b[90m; │││││││└└\u001b[39m\n",
      "\t\u001b[96m\u001b[1mjle\u001b[22m\u001b[39m\t\u001b[0m.LBB0_18\n",
      "\u001b[90m# %bb.12:                               # %L110\u001b[39m\n",
      "\u001b[90m; │││││││ @ /home/mjki2mb2/.julia/packages/GPUArrays/fqD8z/src/device/execution.jl:69 within `#gpu_call#1`\u001b[39m\n",
      "\u001b[90m; │││││││┌ @ /home/mjki2mb2/.julia/packages/CUDA/DfvRa/src/gpuarrays.jl:28 within `gpu_call##kw`\u001b[39m\n",
      "\u001b[90m; ││││││││┌ @ /home/mjki2mb2/.julia/packages/CUDA/DfvRa/src/gpuarrays.jl:30 within `#gpu_call#249`\u001b[39m\n",
      "\u001b[90m; │││││││││┌ @ /home/mjki2mb2/.julia/packages/CUDA/DfvRa/src/compiler/execution.jl:100 within `macro expansion`\u001b[39m\n",
      "\u001b[90m; ││││││││││┌ @ tuple.jl:224 within `map` @ tuple.jl:223\u001b[39m\n",
      "\u001b[90m; │││││││││││┌ @ /home/mjki2mb2/.julia/packages/CUDA/DfvRa/src/compiler/execution.jl:152 within `cudaconvert`\u001b[39m\n",
      "\u001b[90m; ││││││││││││┌ @ /home/mjki2mb2/.julia/packages/Adapt/LAQOx/src/Adapt.jl:40 within `adapt`\u001b[39m\n",
      "\u001b[90m; │││││││││││││┌ @ /home/mjki2mb2/.julia/packages/CUDA/DfvRa/src/compiler/execution.jl:139 within `adapt_structure`\u001b[39m\n",
      "\u001b[90m; ││││││││││││││┌ @ /home/mjki2mb2/.julia/packages/CUDA/DfvRa/src/array.jl:328 within `unsafe_convert`\u001b[39m\n",
      "\u001b[90m; │││││││││││││││┌ @ /home/mjki2mb2/.julia/packages/CUDA/DfvRa/src/array.jl:276 within `pointer`\u001b[39m\n",
      "\u001b[90m; ││││││││││││││││┌ @ /home/mjki2mb2/.julia/packages/CUDA/DfvRa/src/array.jl:321 within `unsafe_convert`\u001b[39m\n",
      "\u001b[90m; │││││││││││││││││┌ @ Base.jl:38 within `getproperty`\u001b[39m\n",
      "\t\u001b[96m\u001b[1mmovq\u001b[22m\u001b[39m\t\u001b[33m(\u001b[39m\u001b[0m%r14\u001b[33m)\u001b[39m\u001b[0m, \u001b[0m%rax\n",
      "\u001b[90m; │││││││││││││││││└\u001b[39m\n",
      "\t\u001b[96m\u001b[1mmovq\u001b[22m\u001b[39m\t\u001b[33m-8\u001b[39m\u001b[33m(\u001b[39m\u001b[0m%rax\u001b[33m)\u001b[39m\u001b[0m, \u001b[0m%rdx\n",
      "\t\u001b[96m\u001b[1mandq\u001b[22m\u001b[39m\t\u001b[33m$-16\u001b[39m\u001b[0m, \u001b[0m%rdx\n",
      "\t\u001b[96m\u001b[1mmovabsq\u001b[22m\u001b[39m\t\u001b[33m$140566580572256\u001b[39m\u001b[0m, \u001b[0m%rax          \u001b[90m# imm = 0x7FD8351A3060\u001b[39m\n",
      "\t\u001b[96m\u001b[1mcmpq\u001b[22m\u001b[39m\t\u001b[0m%rax\u001b[0m, \u001b[0m%rdx\n",
      "\t\u001b[96m\u001b[1mje\u001b[22m\u001b[39m\t\u001b[0m.LBB0_21\n",
      "\u001b[90m# %bb.13:                               # %L118\u001b[39m\n",
      "\t\u001b[96m\u001b[1mmovabsq\u001b[22m\u001b[39m\t\u001b[33m$140561788683376\u001b[39m\u001b[0m, \u001b[0m%rcx          \u001b[90m# imm = 0x7FD7177BC470\u001b[39m\n",
      "\t\u001b[96m\u001b[1mcmpq\u001b[22m\u001b[39m\t\u001b[0m%rcx\u001b[0m, \u001b[0m%rdx\n",
      "\t\u001b[96m\u001b[1mjne\u001b[22m\u001b[39m\t\u001b[0m.LBB0_22\n",
      "\u001b[90m# %bb.14:                               # %L129\u001b[39m\n",
      "\t\u001b[96m\u001b[1mmovq\u001b[22m\u001b[39m\t\u001b[33m40\u001b[39m\u001b[33m(\u001b[39m\u001b[0m%rsp\u001b[33m)\u001b[39m\u001b[0m, \u001b[0m%rdx                  \u001b[90m# 8-byte Reload\u001b[39m\n",
      "\u001b[90m; ││││││││││││││└└└\u001b[39m\n",
      "\u001b[90m; ││││││││││││││ @ /home/mjki2mb2/.julia/packages/Adapt/LAQOx/src/base.jl:30 within `adapt_structure`\u001b[39m\n",
      "\u001b[90m; ││││││││││││││┌ @ /home/mjki2mb2/.julia/packages/Adapt/LAQOx/src/Adapt.jl:40 within `adapt`\u001b[39m\n",
      "\u001b[90m; │││││││││││││││┌ @ /home/mjki2mb2/.julia/packages/Adapt/LAQOx/src/base.jl:3 within `adapt_structure`\u001b[39m\n",
      "\u001b[90m; ││││││││││││││││┌ @ tuple.jl:222 within `map`\u001b[39m\n",
      "\u001b[90m; │││││││││││││││││┌ @ operators.jl:1096 within `Fix1`\u001b[39m\n",
      "\u001b[90m; ││││││││││││││││││┌ @ /home/mjki2mb2/.julia/packages/Adapt/LAQOx/src/Adapt.jl:40 within `adapt`\u001b[39m\n",
      "\u001b[90m; │││││││││││││││││││┌ @ /home/mjki2mb2/.julia/packages/Adapt/LAQOx/src/base.jl:33 within `adapt_structure`\u001b[39m\n",
      "\u001b[90m; ││││││││││││││││││││┌ @ /home/mjki2mb2/.julia/packages/Adapt/LAQOx/src/Adapt.jl:40 within `adapt`\u001b[39m\n",
      "\u001b[90m; │││││││││││││││││││││┌ @ /home/mjki2mb2/.julia/packages/CUDA/DfvRa/src/compiler/execution.jl:139 within `adapt_structure`\u001b[39m\n",
      "\u001b[90m; ││││││││││││││││││││││┌ @ /home/mjki2mb2/.julia/packages/CUDA/DfvRa/src/array.jl:328 within `unsafe_convert`\u001b[39m\n",
      "\u001b[90m; │││││││││││││││││││││││┌ @ /home/mjki2mb2/.julia/packages/CUDA/DfvRa/src/array.jl:276 within `pointer`\u001b[39m\n",
      "\u001b[90m; ││││││││││││││││││││││││┌ @ /home/mjki2mb2/.julia/packages/CUDA/DfvRa/src/array.jl:321 within `unsafe_convert`\u001b[39m\n",
      "\u001b[90m; │││││││││││││││││││││││││┌ @ Base.jl:38 within `getproperty`\u001b[39m\n",
      "\t\u001b[96m\u001b[1mmovq\u001b[22m\u001b[39m\t\u001b[33m(\u001b[39m\u001b[0m%rdx\u001b[33m)\u001b[39m\u001b[0m, \u001b[0m%rdx\n",
      "\u001b[90m; │││││││││││││││││││││││││└\u001b[39m\n",
      "\t\u001b[96m\u001b[1mmovq\u001b[22m\u001b[39m\t\u001b[33m-8\u001b[39m\u001b[33m(\u001b[39m\u001b[0m%rdx\u001b[33m)\u001b[39m\u001b[0m, \u001b[0m%rdx\n",
      "\t\u001b[96m\u001b[1mandq\u001b[22m\u001b[39m\t\u001b[33m$-16\u001b[39m\u001b[0m, \u001b[0m%rdx\n",
      "\t\u001b[96m\u001b[1mcmpq\u001b[22m\u001b[39m\t\u001b[0m%rax\u001b[0m, \u001b[0m%rdx\n",
      "\t\u001b[96m\u001b[1mje\u001b[22m\u001b[39m\t\u001b[0m.LBB0_23\n",
      "\u001b[90m# %bb.15:                               # %L136\u001b[39m\n",
      "\t\u001b[96m\u001b[1mcmpq\u001b[22m\u001b[39m\t\u001b[0m%rcx\u001b[0m, \u001b[0m%rdx\n",
      "\t\u001b[96m\u001b[1mjne\u001b[22m\u001b[39m\t\u001b[0m.LBB0_24\n",
      "\u001b[90m# %bb.16:                               # %L157\u001b[39m\n",
      "\t\u001b[96m\u001b[1mleaq\u001b[22m\u001b[39m\t\u001b[33m112\u001b[39m\u001b[33m(\u001b[39m\u001b[0m%rsp\u001b[33m)\u001b[39m\u001b[0m, \u001b[0m%rsi\n",
      "\t\u001b[96m\u001b[1mmovq\u001b[22m\u001b[39m\t\u001b[33m232\u001b[39m\u001b[33m(\u001b[39m\u001b[0m%rsp\u001b[33m)\u001b[39m\u001b[0m, \u001b[0m%rax\n",
      "\t\u001b[96m\u001b[1mmovq\u001b[22m\u001b[39m\t\u001b[0m%rax\u001b[0m, \u001b[33m32\u001b[39m\u001b[33m(\u001b[39m\u001b[0m%rsp\u001b[33m)\u001b[39m                  \u001b[90m# 8-byte Spill\u001b[39m\n",
      "\u001b[90m; ││││││││││└└└└└└└└└└└└└└└\u001b[39m\n",
      "\u001b[90m; ││││││││││ @ /home/mjki2mb2/.julia/packages/CUDA/DfvRa/src/compiler/execution.jl:102 within `macro expansion`\u001b[39m\n",
      "\u001b[90m; ││││││││││┌ @ /home/mjki2mb2/.julia/packages/CUDA/DfvRa/src/compiler/execution.jl:292 within `cufunction##kw`\u001b[39m\n",
      "\t\u001b[96m\u001b[1mmovabsq\u001b[22m\u001b[39m\t\u001b[93m$\"j_#cufunction#221_5253\"\u001b[39m\u001b[0m, \u001b[0m%rax\n",
      "\t\u001b[96m\u001b[1mleaq\u001b[22m\u001b[39m\t\u001b[33m344\u001b[39m\u001b[33m(\u001b[39m\u001b[0m%rsp\u001b[33m)\u001b[39m\u001b[0m, \u001b[0m%rdi\n",
      "\t\u001b[96m\u001b[1mcallq\u001b[22m\u001b[39m\t\u001b[0m*\u001b[0m%rax\n",
      "\u001b[90m; ││││││││││└\u001b[39m\n",
      "\u001b[90m; ││││││││││ @ /home/mjki2mb2/.julia/packages/CUDA/DfvRa/src/compiler/execution.jl:104 within `macro expansion`\u001b[39m\n",
      "\u001b[90m; ││││││││││┌ @ /home/mjki2mb2/.julia/packages/CUDA/DfvRa/src/compiler/execution.jl:483 within `Any##kw`\u001b[39m\n",
      "\t\u001b[96m\u001b[1mmovabsq\u001b[22m\u001b[39m\t\u001b[93m$ijl_box_int64\u001b[39m\u001b[0m, \u001b[0m%rbx\n",
      "\t\u001b[96m\u001b[1mmovq\u001b[22m\u001b[39m\t\u001b[0m%r12\u001b[0m, \u001b[0m%rdi\n",
      "\t\u001b[96m\u001b[1mcallq\u001b[22m\u001b[39m\t\u001b[0m*\u001b[0m%rbx\n",
      "\t\u001b[96m\u001b[1mmovq\u001b[22m\u001b[39m\t\u001b[0m%rax\u001b[0m, \u001b[33m24\u001b[39m\u001b[33m(\u001b[39m\u001b[0m%rsp\u001b[33m)\u001b[39m                  \u001b[90m# 8-byte Spill\u001b[39m\n",
      "\t\u001b[96m\u001b[1mmovq\u001b[22m\u001b[39m\t\u001b[0m%rax\u001b[0m, \u001b[33m168\u001b[39m\u001b[33m(\u001b[39m\u001b[0m%rsp\u001b[33m)\u001b[39m\n",
      "\t\u001b[96m\u001b[1mmovq\u001b[22m\u001b[39m\t\u001b[0m%r13\u001b[0m, "
     ]
    },
    {
     "name": "stdout",
     "output_type": "stream",
     "text": [
      "\u001b[0m%rdi\n",
      "\t\u001b[96m\u001b[1mcallq\u001b[22m\u001b[39m\t\u001b[0m*\u001b[0m%rbx\n",
      "\t\u001b[96m\u001b[1mmovq\u001b[22m\u001b[39m\t\u001b[0m%rax\u001b[0m, \u001b[0m%r13\n",
      "\t\u001b[96m\u001b[1mmovq\u001b[22m\u001b[39m\t\u001b[0m%rax\u001b[0m, \u001b[33m160\u001b[39m\u001b[33m(\u001b[39m\u001b[0m%rsp\u001b[33m)\u001b[39m\n",
      "\t\u001b[96m\u001b[1mmovq\u001b[22m\u001b[39m\t\u001b[33m16\u001b[39m\u001b[33m(\u001b[39m\u001b[0m%rsp\u001b[33m)\u001b[39m\u001b[0m, \u001b[0m%rbx                  \u001b[90m# 8-byte Reload\u001b[39m\n",
      "\t\u001b[96m\u001b[1mmovq\u001b[22m\u001b[39m\t\u001b[33m16\u001b[39m\u001b[33m(\u001b[39m\u001b[0m%rbx\u001b[33m)\u001b[39m\u001b[0m, \u001b[0m%rdi\n",
      "\t\u001b[96m\u001b[1mmovl\u001b[22m\u001b[39m\t\u001b[33m$1440\u001b[39m\u001b[0m, \u001b[0m%esi                     \u001b[90m# imm = 0x5A0\u001b[39m\n",
      "\t\u001b[96m\u001b[1mmovl\u001b[22m\u001b[39m\t\u001b[33m$32\u001b[39m\u001b[0m, \u001b[0m%edx\n",
      "\t\u001b[96m\u001b[1mmovabsq\u001b[22m\u001b[39m\t\u001b[93m$ijl_gc_pool_alloc\u001b[39m\u001b[0m, \u001b[0m%r15\n",
      "\t\u001b[96m\u001b[1mcallq\u001b[22m\u001b[39m\t\u001b[0m*\u001b[0m%r15\n",
      "\t\u001b[96m\u001b[1mmovq\u001b[22m\u001b[39m\t\u001b[0m%r15\u001b[0m, \u001b[0m%rcx\n",
      "\t\u001b[96m\u001b[1mmovq\u001b[22m\u001b[39m\t\u001b[0m%rax\u001b[0m, \u001b[0m%r15\n",
      "\t\u001b[96m\u001b[1mmovabsq\u001b[22m\u001b[39m\t\u001b[33m$140561802599280\u001b[39m\u001b[0m, \u001b[0m%r12          \u001b[90m# imm = 0x7FD718501B70\u001b[39m\n",
      "\t\u001b[96m\u001b[1mleaq\u001b[22m\u001b[39m\t\u001b[33m-446699264\u001b[39m\u001b[33m(\u001b[39m\u001b[0m%r12\u001b[33m)\u001b[39m\u001b[0m, \u001b[0m%rax\n",
      "\t\u001b[96m\u001b[1mmovq\u001b[22m\u001b[39m\t\u001b[0m%rax\u001b[0m, \u001b[33m-8\u001b[39m\u001b[33m(\u001b[39m\u001b[0m%r15\u001b[33m)\u001b[39m\n",
      "\t\u001b[96m\u001b[1mmovq\u001b[22m\u001b[39m\t\u001b[33m360\u001b[39m\u001b[33m(\u001b[39m\u001b[0m%rsp\u001b[33m)\u001b[39m\u001b[0m, \u001b[0m%rax\n",
      "\t\u001b[96m\u001b[1mmovq\u001b[22m\u001b[39m\t\u001b[0m%rax\u001b[0m, \u001b[33m16\u001b[39m\u001b[33m(\u001b[39m\u001b[0m%r15\u001b[33m)\u001b[39m\n",
      "\t\u001b[96m\u001b[1mvmovupd\u001b[22m\u001b[39m\t\u001b[33m344\u001b[39m\u001b[33m(\u001b[39m\u001b[0m%rsp\u001b[33m)\u001b[39m\u001b[0m, \u001b[0m%xmm0\n",
      "\t\u001b[96m\u001b[1mvmovupd\u001b[22m\u001b[39m\t\u001b[0m%xmm0\u001b[0m, \u001b[33m(\u001b[39m\u001b[0m%r15\u001b[33m)\u001b[39m\n",
      "\t\u001b[96m\u001b[1mmovq\u001b[22m\u001b[39m\t\u001b[0m%r15\u001b[0m, \u001b[33m152\u001b[39m\u001b[33m(\u001b[39m\u001b[0m%rsp\u001b[33m)\u001b[39m\n",
      "\t\u001b[96m\u001b[1mmovq\u001b[22m\u001b[39m\t\u001b[33m16\u001b[39m\u001b[33m(\u001b[39m\u001b[0m%rbx\u001b[33m)\u001b[39m\u001b[0m, \u001b[0m%rdi\n",
      "\t\u001b[96m\u001b[1mmovl\u001b[22m\u001b[39m\t\u001b[33m$1488\u001b[39m\u001b[0m, \u001b[0m%esi                     \u001b[90m# imm = 0x5D0\u001b[39m\n",
      "\t\u001b[96m\u001b[1mmovl\u001b[22m\u001b[39m\t\u001b[33m$48\u001b[39m\u001b[0m, \u001b[0m%edx\n",
      "\t\u001b[96m\u001b[1mcallq\u001b[22m\u001b[39m\t\u001b[0m*\u001b[0m%rcx\n",
      "\t\u001b[96m\u001b[1mmovq\u001b[22m\u001b[39m\t\u001b[0m%rax\u001b[0m, \u001b[0m%rbx\n",
      "\t\u001b[96m\u001b[1maddq\u001b[22m\u001b[39m\t\u001b[33m$-72045776\u001b[39m\u001b[0m, \u001b[0m%r12                \u001b[90m# imm = 0xFBB4AB30\u001b[39m\n",
      "\t\u001b[96m\u001b[1mmovq\u001b[22m\u001b[39m\t\u001b[0m%r12\u001b[0m, \u001b[33m-8\u001b[39m\u001b[33m(\u001b[39m\u001b[0m%rax\u001b[33m)\u001b[39m\n",
      "\t\u001b[96m\u001b[1mmovl\u001b[22m\u001b[39m\t\u001b[33m$1\u001b[39m\u001b[0m, \u001b[0m%eax\n",
      "\t\u001b[96m\u001b[1mmovq\u001b[22m\u001b[39m\t\u001b[0m%rax\u001b[0m, \u001b[33m16\u001b[39m\u001b[33m(\u001b[39m\u001b[0m%rbx\u001b[33m)\u001b[39m\n",
      "\t\u001b[96m\u001b[1mmovb\u001b[22m\u001b[39m\t\u001b[33m48\u001b[39m\u001b[33m(\u001b[39m\u001b[0m%rsp\u001b[33m)\u001b[39m\u001b[0m, \u001b[0m%al                   \u001b[90m# 1-byte Reload\u001b[39m\n",
      "\t\u001b[96m\u001b[1mmovb\u001b[22m\u001b[39m\t\u001b[0m%al\u001b[0m, \u001b[33m8\u001b[39m\u001b[33m(\u001b[39m\u001b[0m%rbx\u001b[33m)\u001b[39m\n",
      "\t\u001b[96m\u001b[1mmovq\u001b[22m\u001b[39m\t\u001b[33m40\u001b[39m\u001b[33m(\u001b[39m\u001b[0m%rsp\u001b[33m)\u001b[39m\u001b[0m, \u001b[0m%rax                  \u001b[90m# 8-byte Reload\u001b[39m\n",
      "\t\u001b[96m\u001b[1mmovq\u001b[22m\u001b[39m\t\u001b[0m%rax\u001b[0m, \u001b[33m(\u001b[39m\u001b[0m%rbx\u001b[33m)\u001b[39m\n",
      "\t\u001b[96m\u001b[1mmovq\u001b[22m\u001b[39m\t\u001b[33m$12\u001b[39m\u001b[0m, \u001b[33m24\u001b[39m\u001b[33m(\u001b[39m\u001b[0m%rbx\u001b[33m)\u001b[39m\n",
      "\t\u001b[96m\u001b[1mmovq\u001b[22m\u001b[39m\t\u001b[33m56\u001b[39m\u001b[33m(\u001b[39m\u001b[0m%rsp\u001b[33m)\u001b[39m\u001b[0m, \u001b[0m%rax                  \u001b[90m# 8-byte Reload\u001b[39m\n",
      "\t\u001b[96m\u001b[1mmovq\u001b[22m\u001b[39m\t\u001b[0m%rax\u001b[0m, \u001b[33m32\u001b[39m\u001b[33m(\u001b[39m\u001b[0m%rbx\u001b[33m)\u001b[39m\n",
      "\t\u001b[96m\u001b[1mmovq\u001b[22m\u001b[39m\t\u001b[0m%rbx\u001b[0m, \u001b[33m144\u001b[39m\u001b[33m(\u001b[39m\u001b[0m%rsp\u001b[33m)\u001b[39m\n",
      "\t\u001b[96m\u001b[1mmovq\u001b[22m\u001b[39m\t\u001b[33m32\u001b[39m\u001b[33m(\u001b[39m\u001b[0m%rsp\u001b[33m)\u001b[39m\u001b[0m, \u001b[0m%rdi                  \u001b[90m# 8-byte Reload\u001b[39m\n",
      "\t\u001b[96m\u001b[1mmovabsq\u001b[22m\u001b[39m\t\u001b[93m$ijl_box_int64\u001b[39m\u001b[0m, \u001b[0m%rax\n",
      "\t\u001b[96m\u001b[1mcallq\u001b[22m\u001b[39m\t\u001b[0m*\u001b[0m%rax\n",
      "\t\u001b[96m\u001b[1mmovq\u001b[22m\u001b[39m\t\u001b[0m%rax\u001b[0m, \u001b[33m136\u001b[39m\u001b[33m(\u001b[39m\u001b[0m%rsp\u001b[33m)\u001b[39m\n",
      "\t\u001b[96m\u001b[1mmovq\u001b[22m\u001b[39m\t\u001b[33m24\u001b[39m\u001b[33m(\u001b[39m\u001b[0m%rsp\u001b[33m)\u001b[39m\u001b[0m, \u001b[0m%rcx                  \u001b[90m# 8-byte Reload\u001b[39m\n",
      "\t\u001b[96m\u001b[1mmovq\u001b[22m\u001b[39m\t\u001b[0m%rcx\u001b[0m, \u001b[33m280\u001b[39m\u001b[33m(\u001b[39m\u001b[0m%rsp\u001b[33m)\u001b[39m\n",
      "\t\u001b[96m\u001b[1mmovq\u001b[22m\u001b[39m\t\u001b[0m%r13\u001b[0m, \u001b[33m288\u001b[39m\u001b[33m(\u001b[39m\u001b[0m%rsp\u001b[33m)\u001b[39m\n",
      "\t\u001b[96m\u001b[1mmovabsq\u001b[22m\u001b[39m\t\u001b[33m$140566582939984\u001b[39m\u001b[0m, \u001b[0m%rcx          \u001b[90m# imm = 0x7FD8353E5150\u001b[39m\n",
      "\t\u001b[96m\u001b[1mmovq\u001b[22m\u001b[39m\t\u001b[0m%rcx\u001b[0m, \u001b[33m296\u001b[39m\u001b[33m(\u001b[39m\u001b[0m%rsp\u001b[33m)\u001b[39m\n",
      "\t\u001b[96m\u001b[1mmovq\u001b[22m\u001b[39m\t\u001b[0m%r15\u001b[0m, \u001b[33m304\u001b[39m\u001b[33m(\u001b[39m\u001b[0m%rsp\u001b[33m)\u001b[39m\n",
      "\t\u001b[96m\u001b[1mmovabsq\u001b[22m\u001b[39m\t\u001b[33m$140561778641064\u001b[39m\u001b[0m, \u001b[0m%rcx          \u001b[90m# imm = 0x7FD716E288A8\u001b[39m\n",
      "\t\u001b[96m\u001b[1mmovq\u001b[22m\u001b[39m\t\u001b[0m%rcx\u001b[0m, \u001b[33m312\u001b[39m\u001b[33m(\u001b[39m\u001b[0m%rsp\u001b[33m)\u001b[39m\n",
      "\t\u001b[96m\u001b[1mmovq\u001b[22m\u001b[39m\t\u001b[0m%r14\u001b[0m, \u001b[33m320\u001b[39m\u001b[33m(\u001b[39m\u001b[0m%rsp\u001b[33m)\u001b[39m\n",
      "\t\u001b[96m\u001b[1mmovq\u001b[22m\u001b[39m\t\u001b[0m%rbx\u001b[0m, \u001b[33m328\u001b[39m\u001b[33m(\u001b[39m\u001b[0m%rsp\u001b[33m)\u001b[39m\n",
      "\t\u001b[96m\u001b[1mmovq\u001b[22m\u001b[39m\t\u001b[0m%rax\u001b[0m, \u001b[33m336\u001b[39m\u001b[33m(\u001b[39m\u001b[0m%rsp\u001b[33m)\u001b[39m\n",
      "\t\u001b[96m\u001b[1mmovabsq\u001b[22m\u001b[39m\t\u001b[93m$\"j1_#_#228_5254\"\u001b[39m\u001b[0m, \u001b[0m%rax\n",
      "\t\u001b[96m\u001b[1mmovabsq\u001b[22m\u001b[39m\t\u001b[33m$140561796937464\u001b[39m\u001b[0m, \u001b[0m%rdi          \u001b[90m# imm = 0x7FD717F9B6F8\u001b[39m\n",
      "\t\u001b[96m\u001b[1mleaq\u001b[22m\u001b[39m\t\u001b[33m280\u001b[39m\u001b[33m(\u001b[39m\u001b[0m%rsp\u001b[33m)\u001b[39m\u001b[0m, \u001b[0m%rsi\n",
      "\t\u001b[96m\u001b[1mmovl\u001b[22m\u001b[39m\t\u001b[33m$8\u001b[39m\u001b[0m, \u001b[0m%edx\n",
      "\t\u001b[96m\u001b[1mcallq\u001b[22m\u001b[39m\t\u001b[0m*\u001b[0m%rax\n",
      "\u001b[91m.LBB0_17:\u001b[39m                               \u001b[90m# %L186\u001b[39m\n",
      "\t\u001b[96m\u001b[1mmovq\u001b[22m\u001b[39m\t\u001b[33m104\u001b[39m\u001b[33m(\u001b[39m\u001b[0m%rsp\u001b[33m)\u001b[39m\u001b[0m, \u001b[0m%rax\n",
      "\t\u001b[96m\u001b[1mmovq\u001b[22m\u001b[39m\t\u001b[33m16\u001b[39m\u001b[33m(\u001b[39m\u001b[0m%rsp\u001b[33m)\u001b[39m\u001b[0m, \u001b[0m%rcx                  \u001b[90m# 8-byte Reload\u001b[39m\n",
      "\t\u001b[96m\u001b[1mmovq\u001b[22m\u001b[39m\t\u001b[0m%rax\u001b[0m, \u001b[33m(\u001b[39m\u001b[0m%rcx\u001b[33m)\u001b[39m\n",
      "\u001b[90m; │└└└└└└└└└└\u001b[39m\n",
      "\t\u001b[96m\u001b[1mmovq\u001b[22m\u001b[39m\t\u001b[0m%r14\u001b[0m, \u001b[0m%rax\n",
      "\t\u001b[96m\u001b[1mleaq\u001b[22m\u001b[39m\t\u001b[33m-40\u001b[39m\u001b[33m(\u001b[39m\u001b[0m%rbp\u001b[33m)\u001b[39m\u001b[0m, \u001b[0m%rsp\n",
      "\t\u001b[96m\u001b[1mpopq\u001b[22m\u001b[39m\t\u001b[0m%rbx\n",
      "\t\u001b[96m\u001b[1mpopq\u001b[22m\u001b[39m\t\u001b[0m%r12\n",
      "\t\u001b[96m\u001b[1mpopq\u001b[22m\u001b[39m\t\u001b[0m%r13\n",
      "\t\u001b[96m\u001b[1mpopq\u001b[22m\u001b[39m\t\u001b[0m%r14\n",
      "\t\u001b[96m\u001b[1mpopq\u001b[22m\u001b[39m\t\u001b[0m%r15\n",
      "\t\u001b[96m\u001b[1mpopq\u001b[22m\u001b[39m\t\u001b[0m%rbp\n",
      "\t\u001b[0m.cfi_def_cfa \u001b[0m%rsp\u001b[0m, \u001b[33m8\u001b[39m\n",
      "\t\u001b[96m\u001b[1mretq\u001b[22m\u001b[39m\n",
      "\u001b[91m.LBB0_20:\u001b[39m                               \u001b[90m# %L172\u001b[39m\n",
      "\u001b[90m; │┌ @ broadcast.jl:860 within `materialize`\u001b[39m\n",
      "\u001b[90m; ││┌ @ /home/mjki2mb2/.julia/packages/GPUArrays/fqD8z/src/host/broadcast.jl:37 within `copy`\u001b[39m\n",
      "\u001b[90m; │││┌ @ /home/mjki2mb2/.julia/packages/GPUArrays/fqD8z/src/host/broadcast.jl:46 within `copyto!`\u001b[39m\n",
      "\u001b[90m; ││││┌ @ /home/mjki2mb2/.julia/packages/GPUArrays/fqD8z/src/host/broadcast.jl:49 within `_copyto!`\u001b[39m\n",
      "\u001b[90m; │││││┌ @ abstractarray.jl:95 within `axes`\u001b[39m\n",
      "\u001b[90m; ││││││┌ @ tuple.jl:221 within `map`\u001b[39m\n",
      "\t\u001b[0m.cfi_def_cfa \u001b[0m%rbp\u001b[0m, \u001b[33m16\u001b[39m\n",
      "\t\u001b[96m\u001b[1mmovq\u001b[22m\u001b[39m\t\u001b[0m%rcx\u001b[0m, \u001b[33m80\u001b[39m\u001b[33m(\u001b[39m\u001b[0m%rsp\u001b[33m)\u001b[39m\n",
      "\u001b[90m; │││││└└\u001b[39m\n",
      "\t\u001b[96m\u001b[1mmovabsq\u001b[22m\u001b[39m\t\u001b[93m$j_throwdm_5257\u001b[39m\u001b[0m, \u001b[0m%rax\n",
      "\t\u001b[96m\u001b[1mleaq\u001b[22m\u001b[39m\t\u001b[33m80\u001b[39m\u001b[33m(\u001b[39m\u001b[0m%rsp\u001b[33m)\u001b[39m\u001b[0m, \u001b[0m%rdi\n",
      "\t\u001b[96m\u001b[1mleaq\u001b[22m\u001b[39m\t\u001b[33m88\u001b[39m\u001b[33m(\u001b[39m\u001b[0m%rsp\u001b[33m)\u001b[39m\u001b[0m, \u001b[0m%rsi\n",
      "\t\u001b[96m\u001b[1mcallq\u001b[22m\u001b[39m\t\u001b[0m*\u001b[0m%rax\n",
      "\t\u001b[96m\u001b[1mud2\u001b[22m\u001b[39m\n",
      "\u001b[91m.LBB0_19:\u001b[39m                               \u001b[90m# %L167\u001b[39m\n",
      "\t\u001b[96m\u001b[1mmovq\u001b[22m\u001b[39m\t\u001b[33m16\u001b[39m\u001b[33m(\u001b[39m\u001b[0m%rsp\u001b[33m)\u001b[39m\u001b[0m, \u001b[0m%rax                  \u001b[90m# 8-byte Reload\u001b[39m\n",
      "\u001b[90m; │││││ @ /home/mjki2mb2/.julia/packages/GPUArrays/fqD8z/src/host/broadcast.jl:67 within `_copyto!`\u001b[39m\n",
      "\u001b[90m; │││││┌ @ /home/mjki2mb2/.julia/packages/GPUArrays/fqD8z/src/device/execution.jl:34 within `gpu_call##kw`\u001b[39m\n",
      "\u001b[90m; ││││││┌ @ /home/mjki2mb2/.julia/packages/GPUArrays/fqD8z/src/device/execution.jl:67 within `#gpu_call#1`\u001b[39m\n",
      "\t\u001b[96m\u001b[1mmovq\u001b[22m\u001b[39m\t\u001b[33m16\u001b[39m\u001b[33m(\u001b[39m\u001b[0m%rax\u001b[33m)\u001b[39m\u001b[0m, \u001b[0m%rdi\n",
      "\t\u001b[96m\u001b[1mmovl\u001b[22m\u001b[39m\t\u001b[33m$1392\u001b[39m\u001b[0m, \u001b[0m%esi                     \u001b[90m# imm = 0x570\u001b[39m\n",
      "\t\u001b[96m\u001b[1mmovl\u001b[22m\u001b[39m\t\u001b[33m$16\u001b[39m\u001b[0m, \u001b[0m%edx\n",
      "\t\u001b[96m\u001b[1mmovabsq\u001b[22m\u001b[39m\t\u001b[93m$ijl_gc_pool_alloc\u001b[39m\u001b[0m, \u001b[0m%rax\n",
      "\t\u001b[96m\u001b[1mcallq\u001b[22m\u001b[39m\t\u001b[0m*\u001b[0m%rax\n",
      "\t\u001b[96m\u001b[1mmovabsq\u001b[22m\u001b[39m\t\u001b[33m$140566583326960\u001b[39m\u001b[0m, \u001b[0m%rcx          \u001b[90m# imm = 0x7FD8354438F0\u001b[39m\n",
      "\t\u001b[96m\u001b[1mmovq\u001b[22m\u001b[39m\t\u001b[0m%rcx\u001b[0m, \u001b[33m-8\u001b[39m\u001b[33m(\u001b[39m\u001b[0m%rax\u001b[33m)\u001b[39m\n",
      "\t\u001b[96m\u001b[1mmovabsq\u001b[22m\u001b[39m\t\u001b[33m$140566794470352\u001b[39m\u001b[0m, \u001b[0m%rcx          \u001b[90m# imm = 0x7FD841DA03D0\u001b[39m\n",
      "\t\u001b[96m\u001b[1mmovq\u001b[22m\u001b[39m\t\u001b[0m%rcx\u001b[0m, \u001b[33m(\u001b[39m\u001b[0m%rax\u001b[33m)\u001b[39m\n",
      "\t\u001b[96m\u001b[1mmovabsq\u001b[22m\u001b[39m\t\u001b[93m$ijl_throw\u001b[39m\u001b[0m, \u001b[0m%rcx\n",
      "\t\u001b[96m\u001b[1mmovq\u001b[22m\u001b[39m\t\u001b[0m%rax\u001b[0m, \u001b[0m%rdi\n",
      "\t\u001b[96m\u001b[1mcallq\u001b[22m\u001b[39m\t\u001b[0m*\u001b[0m%rcx\n",
      "\u001b[91m.LBB0_18:\u001b[39m                               \u001b[90m# %L164\u001b[39m\n",
      "\t\u001b[96m\u001b[1mmovq\u001b[22m\u001b[39m\t\u001b[33m16\u001b[39m\u001b[33m(\u001b[39m\u001b[0m%rsp\u001b[33m)\u001b[39m\u001b[0m, \u001b[0m%rax                  \u001b[90m# 8-byte Reload\u001b[39m\n",
      "\u001b[90m; │││││││ @ /home/mjki2mb2/.julia/packages/GPUArrays/fqD8z/src/device/execution.jl:68 within `#gpu_call#1`\u001b[39m\n",
      "\t\u001b[96m\u001b[1mmovq\u001b[22m\u001b[39m\t\u001b[33m16\u001b[39m\u001b[33m(\u001b[39m\u001b[0m%rax\u001b[33m)\u001b[39m\u001b[0m, \u001b[0m%rdi\n",
      "\t\u001b[96m\u001b[1mmovl\u001b[22m\u001b[39m\t\u001b[33m$1392\u001b[39m\u001b[0m, \u001b[0m%esi                     \u001b[90m# imm = 0x570\u001b[39m\n",
      "\t\u001b[96m\u001b[1mmovl\u001b[22m\u001b[39m\t\u001b[33m$16\u001b[39m\u001b[0m, \u001b[0m%edx\n",
      "\t\u001b[96m\u001b[1mmovabsq\u001b[22m\u001b[39m\t\u001b[93m$ijl_gc_pool_alloc\u001b[39m\u001b[0m, \u001b[0m%rax\n",
      "\t\u001b[96m\u001b[1mcallq\u001b[22m\u001b[39m\t\u001b[0m*\u001b[0m%rax\n",
      "\t\u001b[96m\u001b[1mmovabsq\u001b[22m\u001b[39m\t\u001b[33m$140566583326960\u001b[39m\u001b[0m, \u001b[0m%rcx          \u001b[90m# imm = 0x7FD8354438F0\u001b[39m\n",
      "\t\u001b[96m\u001b[1mmovq\u001b[22m\u001b[39m\t\u001b[0m%rcx\u001b[0m, \u001b[33m-8\u001b[39m\u001b[33m(\u001b[39m\u001b[0m%rax\u001b[33m)\u001b[39m\n",
      "\t\u001b[96m\u001b[1mmovabsq\u001b[22m\u001b[39m\t\u001b[33m$140566794470416\u001b[39m\u001b[0m, \u001b[0m%rcx          \u001b[90m# imm = 0x7FD841DA0410\u001b[39m\n",
      "\t\u001b[96m\u001b[1mmovq\u001b[22m\u001b[39m\t\u001b[0m%rcx\u001b[0m, \u001b[33m(\u001b[39m\u001b[0m%rax\u001b[33m)\u001b[39m\n",
      "\t\u001b[96m\u001b[1mmovabsq\u001b[22m\u001b[39m\t\u001b[93m$ijl_throw\u001b[39m\u001b[0m, \u001b[0m%rcx\n",
      "\t\u001b[96m\u001b[1mmovq\u001b[22m\u001b[39m\t\u001b[0m%rax\u001b[0m, \u001b[0m%rdi\n",
      "\t\u001b[96m\u001b[1mcallq\u001b[22m\u001b[39m\t\u001b[0m*\u001b[0m%rcx\n",
      "\u001b[91m.LBB0_21:\u001b[39m                               \u001b[90m# %L115\u001b[39m\n",
      "\u001b[90m; │││││││ @ /home/mjki2mb2/.julia/packages/GPUArrays/fqD8z/src/device/execution.jl:69 within `#gpu_call#1`\u001b[39m\n",
      "\u001b[90m; │││││││┌ @ /home/mjki2mb2/.julia/packages/CUDA/DfvRa/src/gpuarrays.jl:28 within `gpu_call##kw`\u001b[39m\n",
      "\u001b[90m; ││││││││┌ @ /home/mjki2mb2/.julia/packages/CUDA/DfvRa/src/gpuarrays.jl:30 within `#gpu_call#249`\u001b[39m\n",
      "\u001b[90m; │││││││││┌ @ /home/mjki2mb2/.julia/packages/CUDA/DfvRa/src/compiler/execution.jl:100 within `macro expansion`\u001b[39m\n",
      "\u001b[90m; ││││││││││┌ @ tuple.jl:224 within `map` @ tuple.jl:223\u001b[39m\n",
      "\u001b[90m; │││││││││││┌ @ /home/mjki2mb2/.julia/packages/CUDA/DfvRa/src/compiler/execution.jl:152 within `cudaconvert`\u001b[39m\n",
      "\u001b[90m; ││││││││││││┌ @ /home/mjki2mb2/.julia/packages/Adapt/LAQOx/src/Adapt.jl:40 within `adapt`\u001b[39m\n",
      "\u001b[90m; │││││││││││││┌ @ /home/mjki2mb2/.julia/packages/CUDA/DfvRa/src/compiler/execution.jl:139 within `adapt_structure`\u001b[39m\n",
      "\u001b[90m; ││││││││││││││┌ @ /home/mjki2mb2/.julia/packages/CUDA/DfvRa/src/array.jl:328 within `unsafe_convert`\u001b[39m"
     ]
    },
    {
     "name": "stdout",
     "output_type": "stream",
     "text": [
      "\n",
      "\u001b[90m; │││││││││││││││┌ @ /home/mjki2mb2/.julia/packages/CUDA/DfvRa/src/array.jl:276 within `pointer`\u001b[39m\n",
      "\u001b[90m; ││││││││││││││││┌ @ /home/mjki2mb2/.julia/packages/CUDA/DfvRa/src/array.jl:321 within `unsafe_convert`\u001b[39m\n",
      "\t\u001b[96m\u001b[1mmovabsq\u001b[22m\u001b[39m\t\u001b[93m$j_getproperty_5251\u001b[39m\u001b[0m, \u001b[0m%rax\n",
      "\t\u001b[96m\u001b[1mmovabsq\u001b[22m\u001b[39m\t\u001b[33m$140566802556928\u001b[39m\u001b[0m, \u001b[0m%rdi          \u001b[90m# imm = 0x7FD842556800\u001b[39m\n",
      "\t\u001b[96m\u001b[1mcallq\u001b[22m\u001b[39m\t\u001b[0m*\u001b[0m%rax\n",
      "\t\u001b[96m\u001b[1mud2\u001b[22m\u001b[39m\n",
      "\u001b[91m.LBB0_22:\u001b[39m                               \u001b[90m# %L121\u001b[39m\n",
      "\t\u001b[96m\u001b[1mmovabsq\u001b[22m\u001b[39m\t\u001b[93m$ijl_throw\u001b[39m\u001b[0m, \u001b[0m%rax\n",
      "\t\u001b[96m\u001b[1mmovabsq\u001b[22m\u001b[39m\t\u001b[33m$140566773045744\u001b[39m\u001b[0m, \u001b[0m%rdi          \u001b[90m# imm = 0x7FD8409319F0\u001b[39m\n",
      "\t\u001b[96m\u001b[1mcallq\u001b[22m\u001b[39m\t\u001b[0m*\u001b[0m%rax\n",
      "\u001b[91m.LBB0_23:\u001b[39m                               \u001b[90m# %L133\u001b[39m\n",
      "\u001b[90m; ││││││││││││││└└└\u001b[39m\n",
      "\u001b[90m; ││││││││││││││ @ /home/mjki2mb2/.julia/packages/Adapt/LAQOx/src/base.jl:30 within `adapt_structure`\u001b[39m\n",
      "\u001b[90m; ││││││││││││││┌ @ /home/mjki2mb2/.julia/packages/Adapt/LAQOx/src/Adapt.jl:40 within `adapt`\u001b[39m\n",
      "\u001b[90m; │││││││││││││││┌ @ /home/mjki2mb2/.julia/packages/Adapt/LAQOx/src/base.jl:3 within `adapt_structure`\u001b[39m\n",
      "\u001b[90m; ││││││││││││││││┌ @ tuple.jl:222 within `map`\u001b[39m\n",
      "\u001b[90m; │││││││││││││││││┌ @ operators.jl:1096 within `Fix1`\u001b[39m\n",
      "\u001b[90m; ││││││││││││││││││┌ @ /home/mjki2mb2/.julia/packages/Adapt/LAQOx/src/Adapt.jl:40 within `adapt`\u001b[39m\n",
      "\u001b[90m; │││││││││││││││││││┌ @ /home/mjki2mb2/.julia/packages/Adapt/LAQOx/src/base.jl:33 within `adapt_structure`\u001b[39m\n",
      "\u001b[90m; ││││││││││││││││││││┌ @ /home/mjki2mb2/.julia/packages/Adapt/LAQOx/src/Adapt.jl:40 within `adapt`\u001b[39m\n",
      "\u001b[90m; │││││││││││││││││││││┌ @ /home/mjki2mb2/.julia/packages/CUDA/DfvRa/src/compiler/execution.jl:139 within `adapt_structure`\u001b[39m\n",
      "\u001b[90m; ││││││││││││││││││││││┌ @ /home/mjki2mb2/.julia/packages/CUDA/DfvRa/src/array.jl:328 within `unsafe_convert`\u001b[39m\n",
      "\u001b[90m; │││││││││││││││││││││││┌ @ /home/mjki2mb2/.julia/packages/CUDA/DfvRa/src/array.jl:276 within `pointer`\u001b[39m\n",
      "\u001b[90m; ││││││││││││││││││││││││┌ @ /home/mjki2mb2/.julia/packages/CUDA/DfvRa/src/array.jl:321 within `unsafe_convert`\u001b[39m\n",
      "\t\u001b[96m\u001b[1mmovabsq\u001b[22m\u001b[39m\t\u001b[93m$j_getproperty_5252\u001b[39m\u001b[0m, \u001b[0m%rax\n",
      "\t\u001b[96m\u001b[1mmovabsq\u001b[22m\u001b[39m\t\u001b[33m$140566802556928\u001b[39m\u001b[0m, \u001b[0m%rdi          \u001b[90m# imm = 0x7FD842556800\u001b[39m\n",
      "\t\u001b[96m\u001b[1mcallq\u001b[22m\u001b[39m\t\u001b[0m*\u001b[0m%rax\n",
      "\t\u001b[96m\u001b[1mud2\u001b[22m\u001b[39m\n",
      "\u001b[91m.LBB0_24:\u001b[39m                               \u001b[90m# %L139\u001b[39m\n",
      "\t\u001b[96m\u001b[1mmovabsq\u001b[22m\u001b[39m\t\u001b[93m$ijl_throw\u001b[39m\u001b[0m, \u001b[0m%rax\n",
      "\t\u001b[96m\u001b[1mmovabsq\u001b[22m\u001b[39m\t\u001b[33m$140566773045744\u001b[39m\u001b[0m, \u001b[0m%rdi          \u001b[90m# imm = 0x7FD8409319F0\u001b[39m\n",
      "\t\u001b[96m\u001b[1mcallq\u001b[22m\u001b[39m\t\u001b[0m*\u001b[0m%rax\n",
      "\u001b[91m.Lfunc_end0:\u001b[39m\n",
      "\t\u001b[0m.size\t\u001b[0mjulia_f_5246\u001b[0m, \u001b[0m.Lfunc_end0-julia_f_5246\n",
      "\t\u001b[0m.cfi_endproc\n",
      "\u001b[90m; └└└└└└└└└└└└└└└└└└└└└└└└└\u001b[39m\n",
      "                                        \u001b[90m# -- End function\u001b[39m\n",
      "\t\u001b[0m.section\t\u001b[0m\".note.GNU-stack\"\u001b[0m,\u001b[0m\"\"\u001b[0m,\u001b[0m@progbits\n"
     ]
    }
   ],
   "source": [
    "using InteractiveUtils #We use the macro @code_native from here as its a bit easier to specify the function specialisation by a variable/call\n",
    "@code_native f(gpu_v)"
   ]
  },
  {
   "cell_type": "markdown",
   "metadata": {},
   "source": [
    "# Symbolics"
   ]
  },
  {
   "cell_type": "code",
   "execution_count": 31,
   "metadata": {},
   "outputs": [
    {
     "data": {
      "text/latex": [
       "$$ \\begin{equation}\n",
       "x^{2} + y^{2}\n",
       "\\end{equation}\n",
       " $$"
      ],
      "text/plain": [
       "x^2 + y^2"
      ]
     },
     "metadata": {},
     "output_type": "display_data"
    }
   ],
   "source": [
    "using Symbolics\n",
    "\n",
    "@variables x, y, t\n",
    "\n",
    "x^2 + y^2"
   ]
  },
  {
   "cell_type": "markdown",
   "metadata": {},
   "source": [
    "How about discovering the governing differential equations behind data https://github.com/SciML/DataDrivenDiffEq.jl?\n",
    "Global non-linear constrained optimisation (for small enough dimensionality) https://github.com/PSORLab/EAGO.jl"
   ]
  },
  {
   "cell_type": "markdown",
   "metadata": {},
   "source": []
  }
 ],
 "metadata": {
  "kernelspec": {
   "display_name": "Julia 1.8.3",
   "language": "julia",
   "name": "julia-1.8"
  },
  "language_info": {
   "file_extension": ".jl",
   "mimetype": "application/julia",
   "name": "julia",
   "version": "1.8.3"
  },
  "orig_nbformat": 4
 },
 "nbformat": 4,
 "nbformat_minor": 2
}
