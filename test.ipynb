{
 "cells": [
  {
   "cell_type": "markdown",
   "metadata": {},
   "source": [
    "## Setup\n",
    "\n",
    "Make sure you're running the latest Julia! You will need to use an app like \"jill\" to get this on Ubuntu (the system packages are old).\n",
    "\n",
    "To use this notebook, run the following to install the dependencies. Note, the first time you use anything (library, function, etc), Julia compiles it. This means that writing `using CUDA` takes ~1m42s on my workstation the first time I run it. Be warned!"
   ]
  },
  {
   "cell_type": "code",
   "execution_count": 43,
   "metadata": {},
   "outputs": [
    {
     "name": "stderr",
     "output_type": "stream",
     "text": [
      "\u001b[32m\u001b[1m   Resolving\u001b[22m\u001b[39m package versions...\n"
     ]
    },
    {
     "name": "stderr",
     "output_type": "stream",
     "text": [
      "\u001b[32m\u001b[1m  No Changes\u001b[22m\u001b[39m to `~/.julia/environments/v1.8/Project.toml`\n",
      "\u001b[32m\u001b[1m  No Changes\u001b[22m\u001b[39m to `~/.julia/environments/v1.8/Manifest.toml`\n"
     ]
    },
    {
     "name": "stderr",
     "output_type": "stream",
     "text": [
      "\u001b[32m\u001b[1m   Resolving\u001b[22m\u001b[39m package versions...\n"
     ]
    },
    {
     "name": "stderr",
     "output_type": "stream",
     "text": [
      "\u001b[32m\u001b[1m  No Changes\u001b[22m\u001b[39m to `~/.julia/environments/v1.8/Project.toml`\n",
      "\u001b[32m\u001b[1m  No Changes\u001b[22m\u001b[39m to `~/.julia/environments/v1.8/Manifest.toml`\n"
     ]
    },
    {
     "name": "stderr",
     "output_type": "stream",
     "text": [
      "\u001b[32m\u001b[1m   Resolving\u001b[22m\u001b[39m package versions...\n"
     ]
    },
    {
     "name": "stderr",
     "output_type": "stream",
     "text": [
      "\u001b[32m\u001b[1m  No Changes\u001b[22m\u001b[39m to `~/.julia/environments/v1.8/Project.toml`\n",
      "\u001b[32m\u001b[1m  No Changes\u001b[22m\u001b[39m to `~/.julia/environments/v1.8/Manifest.toml`\n"
     ]
    },
    {
     "name": "stderr",
     "output_type": "stream",
     "text": [
      "\u001b[32m\u001b[1m   Resolving\u001b[22m\u001b[39m package versions...\n"
     ]
    },
    {
     "name": "stderr",
     "output_type": "stream",
     "text": [
      "\u001b[32m\u001b[1m  No Changes\u001b[22m\u001b[39m to `~/.julia/environments/v1.8/Project.toml`\n",
      "\u001b[32m\u001b[1m  No Changes\u001b[22m\u001b[39m to `~/.julia/environments/v1.8/Manifest.toml`\n"
     ]
    },
    {
     "name": "stderr",
     "output_type": "stream",
     "text": [
      "\u001b[32m\u001b[1m   Resolving\u001b[22m\u001b[39m package versions...\n"
     ]
    },
    {
     "name": "stderr",
     "output_type": "stream",
     "text": [
      "\u001b[32m\u001b[1m  No Changes\u001b[22m\u001b[39m to `~/.julia/environments/v1.8/Project.toml`\n",
      "\u001b[32m\u001b[1m  No Changes\u001b[22m\u001b[39m to `~/.julia/environments/v1.8/Manifest.toml`\n"
     ]
    },
    {
     "name": "stderr",
     "output_type": "stream",
     "text": [
      "\u001b[32m\u001b[1m   Resolving\u001b[22m\u001b[39m package versions...\n"
     ]
    },
    {
     "ename": "Pkg.Resolve.ResolverError",
     "evalue": "Unsatisfiable requirements detected for package \u001b[38;5;4mEAGO [bb8be931]\u001b[39m:\n \u001b[38;5;4mEAGO [bb8be931]\u001b[39m log:\n ├─possible versions are: \u001b[38;5;4m0.2.0-0.7.1\u001b[39m or uninstalled\n ├─restricted to versions \u001b[38;5;4m*\u001b[39m by an explicit requirement, leaving only versions \u001b[38;5;4m0.2.0-0.7.1\u001b[39m\n ├─restricted by julia compatibility requirements to versions: \u001b[38;5;4m[0.2.0-0.2.1, 0.5.0-0.6.1]\u001b[39m or uninstalled, leaving only versions: \u001b[38;5;4m[0.2.0-0.2.1, 0.5.0-0.6.1]\u001b[39m\n ├─restricted by compatibility requirements with \u001b[38;5;12mMcCormick [53c679d3]\u001b[39m to versions: \u001b[38;5;4m[0.2.0-0.3.1, 0.5.1-0.7.1]\u001b[39m or uninstalled, leaving only versions: \u001b[38;5;4m[0.2.0-0.2.1, 0.5.1-0.6.1]\u001b[39m\n │ └─\u001b[38;5;12mMcCormick [53c679d3]\u001b[39m log:\n │   ├─possible versions are: \u001b[38;5;12m0.1.0-0.13.2\u001b[39m or uninstalled\n │   ├─restricted by julia compatibility requirements to versions: \u001b[38;5;12m[0.10.0-0.11.0, 0.13.2]\u001b[39m or uninstalled\n │   └─restricted by compatibility requirements with \u001b[38;5;3mSpecialFunctions [276daf66]\u001b[39m to versions: \u001b[38;5;12m[0.1.0-0.7.0, 0.12.0-0.13.2]\u001b[39m or uninstalled, leaving only versions: \u001b[38;5;12m0.13.2\u001b[39m or uninstalled\n │     └─\u001b[38;5;3mSpecialFunctions [276daf66]\u001b[39m log:\n │       ├─possible versions are: \u001b[38;5;3m0.7.0-2.1.7\u001b[39m or uninstalled\n │       ├─restricted by compatibility requirements with \u001b[38;5;11mDistributions [31c24e10]\u001b[39m to versions: \u001b[38;5;3m0.8.0-2.1.7\u001b[39m\n │       │ └─\u001b[38;5;11mDistributions [31c24e10]\u001b[39m log:\n │       │   ├─possible versions are: \u001b[38;5;11m0.16.0-0.25.79\u001b[39m or uninstalled\n │       │   ├─restricted by compatibility requirements with \u001b[38;5;14mSymbolics [0c5d862f]\u001b[39m to versions: \u001b[38;5;11m0.23.0-0.25.79\u001b[39m\n │       │   │ └─\u001b[38;5;14mSymbolics [0c5d862f]\u001b[39m log:\n │       │   │   ├─possible versions are: \u001b[38;5;14m0.1.0-4.13.0\u001b[39m or uninstalled\n │       │   │   └─restricted to versions \u001b[38;5;14m*\u001b[39m by an explicit requirement, leaving only versions \u001b[38;5;14m0.1.0-4.13.0\u001b[39m\n │       │   ├─restricted by compatibility requirements with \u001b[38;5;6mStatsFuns [4c63d2b9]\u001b[39m to versions: \u001b[38;5;11m0.16.0-0.25.45\u001b[39m or uninstalled, leaving only versions: \u001b[38;5;11m0.23.0-0.25.45\u001b[39m\n │       │   │ └─\u001b[38;5;6mStatsFuns [4c63d2b9]\u001b[39m log:\n │       │   │   ├─possible versions are: \u001b[38;5;6m0.7.0-1.0.1\u001b[39m or uninstalled\n │       │   │   ├─restricted by compatibility requirements with \u001b[38;5;11mDistributions [31c24e10]\u001b[39m to versions: \u001b[38;5;6m0.8.0-1.0.1\u001b[39m\n │       │   │   │ └─\u001b[38;5;11mDistributions [31c24e10]\u001b[39m log: see above\n │       │   │   ├─restricted by compatibility requirements with \u001b[38;5;6mReexport [189a3867]\u001b[39m to versions: \u001b[38;5;6m0.7.0-0.9.8\u001b[39m or uninstalled, leaving only versions: \u001b[38;5;6m0.8.0-0.9.8\u001b[39m\n │       │   │   │ └─\u001b[38;5;6mReexport [189a3867]\u001b[39m log:\n │       │   │   │   ├─possible versions are: \u001b[38;5;6m0.2.0-1.2.2\u001b[39m or uninstalled\n │       │   │   │   └─restricted by compatibility requirements with \u001b[38;5;4mEAGO [bb8be931]\u001b[39m to versions: \u001b[38;5;6m0.2.0\u001b[39m\n │       │   │   │     └─\u001b[38;5;4mEAGO [bb8be931]\u001b[39m log: see above\n │       │   │   └─restricted by compatibility requirements with \u001b[38;5;3mSpecialFunctions [276daf66]\u001b[39m to versions: \u001b[38;5;6m0.9.6-1.0.1\u001b[39m or uninstalled, leaving only versions: \u001b[38;5;6m0.9.6-0.9.8\u001b[39m\n │       │   │     └─\u001b[38;5;3mSpecialFunctions [276daf66]\u001b[39m log: see above\n │       │   └─restricted by compatibility requirements with \u001b[38;5;3mSpecialFunctions [276daf66]\u001b[39m to versions: \u001b[38;5;11m0.24.4-0.25.79\u001b[39m or uninstalled, leaving only versions: \u001b[38;5;11m0.24.4-0.25.45\u001b[39m\n │       │     └─\u001b[38;5;3mSpecialFunctions [276daf66]\u001b[39m log: see above\n │       ├─restricted by compatibility requirements with \u001b[38;5;11mCUDA [052768ef]\u001b[39m to versions: \u001b[38;5;3m1.3.0-2.1.7\u001b[39m\n │       │ └─\u001b[38;5;11mCUDA [052768ef]\u001b[39m log:\n │       │   ├─possible versions are: \u001b[38;5;11m0.1.0-3.12.0\u001b[39m or uninstalled\n │       │   ├─restricted to versions \u001b[38;5;11m*\u001b[39m by an explicit requirement, leaving only versions \u001b[38;5;11m0.1.0-3.12.0\u001b[39m\n │       │   ├─restricted by julia compatibility requirements to versions: \u001b[38;5;11m[2.3.0, 2.5.0-3.12.0]\u001b[39m or uninstalled, leaving only versions: \u001b[38;5;11m[2.3.0, 2.5.0-3.12.0]\u001b[39m\n │       │   └─restricted by compatibility requirements with \u001b[38;5;1mLLVM [929cbde3]\u001b[39m to versions: \u001b[38;5;11m3.3.3-3.12.0\u001b[39m or uninstalled, leaving only versions: \u001b[38;5;11m3.3.3-3.12.0\u001b[39m\n │       │     └─\u001b[38;5;1mLLVM [929cbde3]\u001b[39m log:\n │       │       ├─possible versions are: \u001b[38;5;1m0.9.0-4.14.0\u001b[39m or uninstalled\n │       │       ├─restricted by compatibility requirements with \u001b[38;5;11mCUDA [052768ef]\u001b[39m to versions: \u001b[38;5;1m1.5.0-4.14.0\u001b[39m\n │       │       │ └─\u001b[38;5;11mCUDA [052768ef]\u001b[39m log: see above\n │       │       └─restricted by julia compatibility requirements to versions: \u001b[38;5;1m4.0.0-4.14.0\u001b[39m or uninstalled, leaving only versions: \u001b[38;5;1m4.0.0-4.14.0\u001b[39m\n │       └─restricted by compatibility requirements with \u001b[38;5;6mStatsFuns [4c63d2b9]\u001b[39m to versions: \u001b[38;5;3m0.7.0-1.8.7\u001b[39m, leaving only versions: \u001b[38;5;3m1.3.0-1.8.7\u001b[39m\n │         └─\u001b[38;5;6mStatsFuns [4c63d2b9]\u001b[39m log: see above\n ├─restricted by compatibility requirements with \u001b[38;5;13mDiffRules [b552c78f]\u001b[39m to versions: \u001b[38;5;4m0.3.1-0.7.1\u001b[39m or uninstalled, leaving only versions: \u001b[38;5;4m0.5.1-0.6.1\u001b[39m\n │ └─\u001b[38;5;13mDiffRules [b552c78f]\u001b[39m log:\n │   ├─possible versions are: \u001b[38;5;13m0.0.8-1.12.2\u001b[39m or uninstalled\n │   ├─restricted by compatibility requirements with \u001b[38;5;14mSymbolics [0c5d862f]\u001b[39m to versions: \u001b[38;5;13m0.1.0-1.12.2\u001b[39m\n │   │ └─\u001b[38;5;14mSymbolics [0c5d862f]\u001b[39m log: see above\n │   ├─restricted by compatibility requirements with \u001b[38;5;11mForwardDiff [f6369f11]\u001b[39m to versions: \u001b[38;5;13m[0.0.8-1.0.2, 1.2.1-1.12.2]\u001b[39m, leaving only versions: \u001b[38;5;13m[0.1.0-1.0.2, 1.2.1-1.12.2]\u001b[39m\n │   │ └─\u001b[38;5;11mForwardDiff [f6369f11]\u001b[39m log:\n │   │   ├─possible versions are: \u001b[38;5;11m0.9.0-0.10.33\u001b[39m or uninstalled\n │   │   └─restricted by compatibility requirements with \u001b[38;5;13mDiffRules [b552c78f]\u001b[39m to versions: \u001b[38;5;11m0.10.6-0.10.33\u001b[39m or uninstalled, leaving only versions: \u001b[38;5;11m0.10.6-0.10.33\u001b[39m\n │   │     └─\u001b[38;5;13mDiffRules [b552c78f]\u001b[39m log: see above\n │   └─restricted by compatibility requirements with \u001b[38;5;3mSpecialFunctions [276daf66]\u001b[39m to versions: \u001b[38;5;13m[0.0.8-0.0.10, 1.0.2-1.12.2]\u001b[39m or uninstalled, leaving only versions: \u001b[38;5;13m[1.0.2, 1.2.1-1.12.2]\u001b[39m\n │     └─\u001b[38;5;3mSpecialFunctions [276daf66]\u001b[39m log: see above\n └─restricted by compatibility requirements with \u001b[38;5;3mSpecialFunctions [276daf66]\u001b[39m to versions: \u001b[38;5;4m[0.2.0-0.4.2, 0.7.0-0.7.1]\u001b[39m or uninstalled — no versions left\n   └─\u001b[38;5;3mSpecialFunctions [276daf66]\u001b[39m log: see above",
     "output_type": "error",
     "traceback": [
      "Unsatisfiable requirements detected for package \u001b[38;5;4mEAGO [bb8be931]\u001b[39m:\n",
      " \u001b[38;5;4mEAGO [bb8be931]\u001b[39m log:\n",
      " ├─possible versions are: \u001b[38;5;4m0.2.0-0.7.1\u001b[39m or uninstalled\n",
      " ├─restricted to versions \u001b[38;5;4m*\u001b[39m by an explicit requirement, leaving only versions \u001b[38;5;4m0.2.0-0.7.1\u001b[39m\n",
      " ├─restricted by julia compatibility requirements to versions: \u001b[38;5;4m[0.2.0-0.2.1, 0.5.0-0.6.1]\u001b[39m or uninstalled, leaving only versions: \u001b[38;5;4m[0.2.0-0.2.1, 0.5.0-0.6.1]\u001b[39m\n",
      " ├─restricted by compatibility requirements with \u001b[38;5;12mMcCormick [53c679d3]\u001b[39m to versions: \u001b[38;5;4m[0.2.0-0.3.1, 0.5.1-0.7.1]\u001b[39m or uninstalled, leaving only versions: \u001b[38;5;4m[0.2.0-0.2.1, 0.5.1-0.6.1]\u001b[39m\n",
      " │ └─\u001b[38;5;12mMcCormick [53c679d3]\u001b[39m log:\n",
      " │   ├─possible versions are: \u001b[38;5;12m0.1.0-0.13.2\u001b[39m or uninstalled\n",
      " │   ├─restricted by julia compatibility requirements to versions: \u001b[38;5;12m[0.10.0-0.11.0, 0.13.2]\u001b[39m or uninstalled\n",
      " │   └─restricted by compatibility requirements with \u001b[38;5;3mSpecialFunctions [276daf66]\u001b[39m to versions: \u001b[38;5;12m[0.1.0-0.7.0, 0.12.0-0.13.2]\u001b[39m or uninstalled, leaving only versions: \u001b[38;5;12m0.13.2\u001b[39m or uninstalled\n",
      " │     └─\u001b[38;5;3mSpecialFunctions [276daf66]\u001b[39m log:\n",
      " │       ├─possible versions are: \u001b[38;5;3m0.7.0-2.1.7\u001b[39m or uninstalled\n",
      " │       ├─restricted by compatibility requirements with \u001b[38;5;11mDistributions [31c24e10]\u001b[39m to versions: \u001b[38;5;3m0.8.0-2.1.7\u001b[39m\n",
      " │       │ └─\u001b[38;5;11mDistributions [31c24e10]\u001b[39m log:\n",
      " │       │   ├─possible versions are: \u001b[38;5;11m0.16.0-0.25.79\u001b[39m or uninstalled\n",
      " │       │   ├─restricted by compatibility requirements with \u001b[38;5;14mSymbolics [0c5d862f]\u001b[39m to versions: \u001b[38;5;11m0.23.0-0.25.79\u001b[39m\n",
      " │       │   │ └─\u001b[38;5;14mSymbolics [0c5d862f]\u001b[39m log:\n",
      " │       │   │   ├─possible versions are: \u001b[38;5;14m0.1.0-4.13.0\u001b[39m or uninstalled\n",
      " │       │   │   └─restricted to versions \u001b[38;5;14m*\u001b[39m by an explicit requirement, leaving only versions \u001b[38;5;14m0.1.0-4.13.0\u001b[39m\n",
      " │       │   ├─restricted by compatibility requirements with \u001b[38;5;6mStatsFuns [4c63d2b9]\u001b[39m to versions: \u001b[38;5;11m0.16.0-0.25.45\u001b[39m or uninstalled, leaving only versions: \u001b[38;5;11m0.23.0-0.25.45\u001b[39m\n",
      " │       │   │ └─\u001b[38;5;6mStatsFuns [4c63d2b9]\u001b[39m log:\n",
      " │       │   │   ├─possible versions are: \u001b[38;5;6m0.7.0-1.0.1\u001b[39m or uninstalled\n",
      " │       │   │   ├─restricted by compatibility requirements with \u001b[38;5;11mDistributions [31c24e10]\u001b[39m to versions: \u001b[38;5;6m0.8.0-1.0.1\u001b[39m\n",
      " │       │   │   │ └─\u001b[38;5;11mDistributions [31c24e10]\u001b[39m log: see above\n",
      " │       │   │   ├─restricted by compatibility requirements with \u001b[38;5;6mReexport [189a3867]\u001b[39m to versions: \u001b[38;5;6m0.7.0-0.9.8\u001b[39m or uninstalled, leaving only versions: \u001b[38;5;6m0.8.0-0.9.8\u001b[39m\n",
      " │       │   │   │ └─\u001b[38;5;6mReexport [189a3867]\u001b[39m log:\n",
      " │       │   │   │   ├─possible versions are: \u001b[38;5;6m0.2.0-1.2.2\u001b[39m or uninstalled\n",
      " │       │   │   │   └─restricted by compatibility requirements with \u001b[38;5;4mEAGO [bb8be931]\u001b[39m to versions: \u001b[38;5;6m0.2.0\u001b[39m\n",
      " │       │   │   │     └─\u001b[38;5;4mEAGO [bb8be931]\u001b[39m log: see above\n",
      " │       │   │   └─restricted by compatibility requirements with \u001b[38;5;3mSpecialFunctions [276daf66]\u001b[39m to versions: \u001b[38;5;6m0.9.6-1.0.1\u001b[39m or uninstalled, leaving only versions: \u001b[38;5;6m0.9.6-0.9.8\u001b[39m\n",
      " │       │   │     └─\u001b[38;5;3mSpecialFunctions [276daf66]\u001b[39m log: see above\n",
      " │       │   └─restricted by compatibility requirements with \u001b[38;5;3mSpecialFunctions [276daf66]\u001b[39m to versions: \u001b[38;5;11m0.24.4-0.25.79\u001b[39m or uninstalled, leaving only versions: \u001b[38;5;11m0.24.4-0.25.45\u001b[39m\n",
      " │       │     └─\u001b[38;5;3mSpecialFunctions [276daf66]\u001b[39m log: see above\n",
      " │       ├─restricted by compatibility requirements with \u001b[38;5;11mCUDA [052768ef]\u001b[39m to versions: \u001b[38;5;3m1.3.0-2.1.7\u001b[39m\n",
      " │       │ └─\u001b[38;5;11mCUDA [052768ef]\u001b[39m log:\n",
      " │       │   ├─possible versions are: \u001b[38;5;11m0.1.0-3.12.0\u001b[39m or uninstalled\n",
      " │       │   ├─restricted to versions \u001b[38;5;11m*\u001b[39m by an explicit requirement, leaving only versions \u001b[38;5;11m0.1.0-3.12.0\u001b[39m\n",
      " │       │   ├─restricted by julia compatibility requirements to versions: \u001b[38;5;11m[2.3.0, 2.5.0-3.12.0]\u001b[39m or uninstalled, leaving only versions: \u001b[38;5;11m[2.3.0, 2.5.0-3.12.0]\u001b[39m\n",
      " │       │   └─restricted by compatibility requirements with \u001b[38;5;1mLLVM [929cbde3]\u001b[39m to versions: \u001b[38;5;11m3.3.3-3.12.0\u001b[39m or uninstalled, leaving only versions: \u001b[38;5;11m3.3.3-3.12.0\u001b[39m\n",
      " │       │     └─\u001b[38;5;1mLLVM [929cbde3]\u001b[39m log:\n",
      " │       │       ├─possible versions are: \u001b[38;5;1m0.9.0-4.14.0\u001b[39m or uninstalled\n",
      " │       │       ├─restricted by compatibility requirements with \u001b[38;5;11mCUDA [052768ef]\u001b[39m to versions: \u001b[38;5;1m1.5.0-4.14.0\u001b[39m\n",
      " │       │       │ └─\u001b[38;5;11mCUDA [052768ef]\u001b[39m log: see above\n",
      " │       │       └─restricted by julia compatibility requirements to versions: \u001b[38;5;1m4.0.0-4.14.0\u001b[39m or uninstalled, leaving only versions: \u001b[38;5;1m4.0.0-4.14.0\u001b[39m\n",
      " │       └─restricted by compatibility requirements with \u001b[38;5;6mStatsFuns [4c63d2b9]\u001b[39m to versions: \u001b[38;5;3m0.7.0-1.8.7\u001b[39m, leaving only versions: \u001b[38;5;3m1.3.0-1.8.7\u001b[39m\n",
      " │         └─\u001b[38;5;6mStatsFuns [4c63d2b9]\u001b[39m log: see above\n",
      " ├─restricted by compatibility requirements with \u001b[38;5;13mDiffRules [b552c78f]\u001b[39m to versions: \u001b[38;5;4m0.3.1-0.7.1\u001b[39m or uninstalled, leaving only versions: \u001b[38;5;4m0.5.1-0.6.1\u001b[39m\n",
      " │ └─\u001b[38;5;13mDiffRules [b552c78f]\u001b[39m log:\n",
      " │   ├─possible versions are: \u001b[38;5;13m0.0.8-1.12.2\u001b[39m or uninstalled\n",
      " │   ├─restricted by compatibility requirements with \u001b[38;5;14mSymbolics [0c5d862f]\u001b[39m to versions: \u001b[38;5;13m0.1.0-1.12.2\u001b[39m\n",
      " │   │ └─\u001b[38;5;14mSymbolics [0c5d862f]\u001b[39m log: see above\n",
      " │   ├─restricted by compatibility requirements with \u001b[38;5;11mForwardDiff [f6369f11]\u001b[39m to versions: \u001b[38;5;13m[0.0.8-1.0.2, 1.2.1-1.12.2]\u001b[39m, leaving only versions: \u001b[38;5;13m[0.1.0-1.0.2, 1.2.1-1.12.2]\u001b[39m\n",
      " │   │ └─\u001b[38;5;11mForwardDiff [f6369f11]\u001b[39m log:\n",
      " │   │   ├─possible versions are: \u001b[38;5;11m0.9.0-0.10.33\u001b[39m or uninstalled\n",
      " │   │   └─restricted by compatibility requirements with \u001b[38;5;13mDiffRules [b552c78f]\u001b[39m to versions: \u001b[38;5;11m0.10.6-0.10.33\u001b[39m or uninstalled, leaving only versions: \u001b[38;5;11m0.10.6-0.10.33\u001b[39m\n",
      " │   │     └─\u001b[38;5;13mDiffRules [b552c78f]\u001b[39m log: see above\n",
      " │   └─restricted by compatibility requirements with \u001b[38;5;3mSpecialFunctions [276daf66]\u001b[39m to versions: \u001b[38;5;13m[0.0.8-0.0.10, 1.0.2-1.12.2]\u001b[39m or uninstalled, leaving only versions: \u001b[38;5;13m[1.0.2, 1.2.1-1.12.2]\u001b[39m\n",
      " │     └─\u001b[38;5;3mSpecialFunctions [276daf66]\u001b[39m log: see above\n",
      " └─restricted by compatibility requirements with \u001b[38;5;3mSpecialFunctions [276daf66]\u001b[39m to versions: \u001b[38;5;4m[0.2.0-0.4.2, 0.7.0-0.7.1]\u001b[39m or uninstalled — no versions left\n",
      "   └─\u001b[38;5;3mSpecialFunctions [276daf66]\u001b[39m log: see above\n",
      "\n",
      "Stacktrace:\n",
      "  [1] propagate_constraints!(graph::Pkg.Resolve.Graph, sources::Set{Int64}; log_events::Bool)\n",
      "    @ Pkg.Resolve /opt/julias/julia-1.8.3/share/julia/stdlib/v1.8/Pkg/src/Resolve/graphtype.jl:1072\n",
      "  [2] propagate_constraints! (repeats 2 times)\n",
      "    @ /opt/julias/julia-1.8.3/share/julia/stdlib/v1.8/Pkg/src/Resolve/graphtype.jl:1008 [inlined]\n",
      "  [3] simplify_graph!(graph::Pkg.Resolve.Graph, sources::Set{Int64}; clean_graph::Bool)\n",
      "    @ Pkg.Resolve /opt/julias/julia-1.8.3/share/julia/stdlib/v1.8/Pkg/src/Resolve/graphtype.jl:1533\n",
      "  [4] simplify_graph! (repeats 2 times)\n",
      "    @ /opt/julias/julia-1.8.3/share/julia/stdlib/v1.8/Pkg/src/Resolve/graphtype.jl:1532 [inlined]\n",
      "  [5] resolve_versions!(env::Pkg.Types.EnvCache, registries::Vector{Pkg.Registry.RegistryInstance}, pkgs::Vector{Pkg.Types.PackageSpec}, julia_version::VersionNumber)\n",
      "    @ Pkg.Operations /opt/julias/julia-1.8.3/share/julia/stdlib/v1.8/Pkg/src/Operations.jl:352\n",
      "  [6] targeted_resolve(env::Pkg.Types.EnvCache, registries::Vector{Pkg.Registry.RegistryInstance}, pkgs::Vector{Pkg.Types.PackageSpec}, preserve::Pkg.Types.PreserveLevel, julia_version::VersionNumber)\n",
      "    @ Pkg.Operations /opt/julias/julia-1.8.3/share/julia/stdlib/v1.8/Pkg/src/Operations.jl:1254\n",
      "  [7] tiered_resolve(env::Pkg.Types.EnvCache, registries::Vector{Pkg.Registry.RegistryInstance}, pkgs::Vector{Pkg.Types.PackageSpec}, julia_version::VersionNumber)\n",
      "    @ Pkg.Operations /opt/julias/julia-1.8.3/share/julia/stdlib/v1.8/Pkg/src/Operations.jl:1239\n",
      "  [8] _resolve(io::VSCodeServer.IJuliaCore.IJuliaStdio{Base.PipeEndpoint, typeof(VSCodeServer.io_send_callback)}, env::Pkg.Types.EnvCache, registries::Vector{Pkg.Registry.RegistryInstance}, pkgs::Vector{Pkg.Types.PackageSpec}, preserve::Pkg.Types.PreserveLevel, julia_version::VersionNumber)\n",
      "    @ Pkg.Operations /opt/julias/julia-1.8.3/share/julia/stdlib/v1.8/Pkg/src/Operations.jl:1260\n",
      "  [9] add(ctx::Pkg.Types.Context, pkgs::Vector{Pkg.Types.PackageSpec}, new_git::Set{Base.UUID}; preserve::Pkg.Types.PreserveLevel, platform::Base.BinaryPlatforms.Platform)\n",
      "    @ Pkg.Operations /opt/julias/julia-1.8.3/share/julia/stdlib/v1.8/Pkg/src/Operations.jl:1276\n",
      " [10] add(ctx::Pkg.Types.Context, pkgs::Vector{Pkg.Types.PackageSpec}; preserve::Pkg.Types.PreserveLevel, platform::Base.BinaryPlatforms.Platform, kwargs::Base.Pairs{Symbol, VSCodeServer.IJuliaCore.IJuliaStdio{Base.PipeEndpoint, typeof(VSCodeServer.io_send_callback)}, Tuple{Symbol}, NamedTuple{(:io,), Tuple{VSCodeServer.IJuliaCore.IJuliaStdio{Base.PipeEndpoint, typeof(VSCodeServer.io_send_callback)}}}})\n",
      "    @ Pkg.API /opt/julias/julia-1.8.3/share/julia/stdlib/v1.8/Pkg/src/API.jl:275\n",
      " [11] add(pkgs::Vector{Pkg.Types.PackageSpec}; io::VSCodeServer.IJuliaCore.IJuliaStdio{Base.PipeEndpoint, typeof(VSCodeServer.io_send_callback)}, kwargs::Base.Pairs{Symbol, Union{}, Tuple{}, NamedTuple{(), Tuple{}}})\n",
      "    @ Pkg.API /opt/julias/julia-1.8.3/share/julia/stdlib/v1.8/Pkg/src/API.jl:156\n",
      " [12] add(pkgs::Vector{Pkg.Types.PackageSpec})\n",
      "    @ Pkg.API /opt/julias/julia-1.8.3/share/julia/stdlib/v1.8/Pkg/src/API.jl:145\n",
      " [13] #add#27\n",
      "    @ /opt/julias/julia-1.8.3/share/julia/stdlib/v1.8/Pkg/src/API.jl:144 [inlined]\n",
      " [14] add\n",
      "    @ /opt/julias/julia-1.8.3/share/julia/stdlib/v1.8/Pkg/src/API.jl:144 [inlined]\n",
      " [15] #add#26\n",
      "    @ /opt/julias/julia-1.8.3/share/julia/stdlib/v1.8/Pkg/src/API.jl:143 [inlined]\n",
      " [16] add(pkg::String)\n",
      "    @ Pkg.API /opt/julias/julia-1.8.3/share/julia/stdlib/v1.8/Pkg/src/API.jl:143\n",
      " [17] top-level scope\n",
      "    @ ~/testJulia/test.ipynb:1"
     ]
    }
   ],
   "source": [
    "using Pkg; Pkg.add(\"CUDA\"); Pkg.add(\"IntervalOptimisation\"); Pkg.add(\"Symbolics\"); Pkg.add(\"IntervalArithmetic\"); Pkg.add(\"JuMP\"); Pkg.add(\"EAGO\")"
   ]
  },
  {
   "cell_type": "markdown",
   "metadata": {},
   "source": [
    "## First adventures\n",
    "\n",
    "Julia is like python but also like C++. It also has tons of built in math, like numpy-style array operations are in by default"
   ]
  },
  {
   "cell_type": "code",
   "execution_count": 19,
   "metadata": {},
   "outputs": [
    {
     "data": {
      "text/plain": [
       "3-element Vector{Float64}:\n",
       " 2.0\n",
       " 4.0\n",
       " 6.0"
      ]
     },
     "metadata": {},
     "output_type": "display_data"
    }
   ],
   "source": [
    "#A generic function\n",
    "f(x) = 2*x\n",
    "\n",
    "v = [1.0, 2,3]\n",
    "f(v)"
   ]
  },
  {
   "cell_type": "markdown",
   "metadata": {},
   "source": [
    "Note that Julia determined the type (Float64) from the literal's used (in this case the 1.0). It naturally has mathematical operations defined too, like vector addition. I can even do a dot product   "
   ]
  },
  {
   "cell_type": "code",
   "execution_count": 20,
   "metadata": {},
   "outputs": [
    {
     "data": {
      "text/plain": [
       "14.0"
      ]
     },
     "metadata": {},
     "output_type": "display_data"
    }
   ],
   "source": [
    "using LinearAlgebra\n",
    "dot(v,v)"
   ]
  },
  {
   "cell_type": "markdown",
   "metadata": {},
   "source": [
    "This isn't sexy enough. Write `v ` then `\\cdot` and press tab to autocomplete (yes latex is the way these are defined), then put `v` and you get a dot product "
   ]
  },
  {
   "cell_type": "code",
   "execution_count": 21,
   "metadata": {},
   "outputs": [
    {
     "data": {
      "text/plain": [
       "14.0"
      ]
     },
     "metadata": {},
     "output_type": "display_data"
    }
   ],
   "source": [
    "v ⋅ v"
   ]
  },
  {
   "cell_type": "markdown",
   "metadata": {},
   "source": [
    "That's right, we have unicode, and a lot of it is plumbed into real mathematical definitions. Lets make a function, one that uses Julia's cool implicit multiply"
   ]
  },
  {
   "cell_type": "code",
   "execution_count": 22,
   "metadata": {},
   "outputs": [
    {
     "data": {
      "text/plain": [
       "f (generic function with 1 method)"
      ]
     },
     "metadata": {},
     "output_type": "display_data"
    }
   ],
   "source": [
    "f(x) = 2 + 5x"
   ]
  },
  {
   "cell_type": "markdown",
   "metadata": {},
   "source": [
    "What is f?"
   ]
  },
  {
   "cell_type": "code",
   "execution_count": 23,
   "metadata": {},
   "outputs": [
    {
     "data": {
      "text/plain": [
       "1-element Vector{Core.CodeInfo}:\n",
       " CodeInfo(\n",
       "\u001b[90m1 ─\u001b[39m %1 = 5 * x\n",
       "\u001b[90m│  \u001b[39m %2 = 2 + %1\n",
       "\u001b[90m└──\u001b[39m      return %2\n",
       ")"
      ]
     },
     "metadata": {},
     "output_type": "display_data"
    }
   ],
   "source": [
    "code_lowered(f)"
   ]
  },
  {
   "cell_type": "markdown",
   "metadata": {},
   "source": [
    "Cool! I can see the code! Hmm, looks a little generic and slow. What if I put the type information in, do I see more code?"
   ]
  },
  {
   "cell_type": "code",
   "execution_count": 24,
   "metadata": {},
   "outputs": [
    {
     "data": {
      "text/plain": [
       "1-element Vector{Any}:\n",
       " CodeInfo(\n",
       "\u001b[90m1 ─\u001b[39m %1 = Base.mul_float(5.0, x)\u001b[36m::Float64\u001b[39m\n",
       "\u001b[90m│  \u001b[39m %2 = Base.add_float(2.0, %1)\u001b[36m::Float64\u001b[39m\n",
       "\u001b[90m└──\u001b[39m      return %2\n",
       ") => Float64"
      ]
     },
     "metadata": {},
     "output_type": "display_data"
    }
   ],
   "source": [
    "code_typed(f, (Float64,))"
   ]
  },
  {
   "cell_type": "markdown",
   "metadata": {},
   "source": [
    "Its compiling to some specialised operations for floats where its tracking the types, the values, and the arguments. Do we hit bare metal?"
   ]
  },
  {
   "cell_type": "code",
   "execution_count": 25,
   "metadata": {},
   "outputs": [
    {
     "name": "stdout",
     "output_type": "stream",
     "text": [
      "\t\u001b[0m.text\n",
      "\t\u001b[0m.file\t\u001b[0m\"f\"\n",
      "\t\u001b[0m.section\t\u001b[0m.rodata.cst8\u001b[0m,\u001b[0m\"aM\"\u001b[0m,\u001b[0m@progbits\u001b[0m,\u001b[33m8\u001b[39m\n",
      "\t\u001b[0m.p2align\t\u001b[33m3\u001b[39m                               \u001b[90m# -- Begin function julia_f_11268\u001b[39m\n",
      "\u001b[91m.LCPI0_0:\u001b[39m\n",
      "\t\u001b[0m.quad\t\u001b[33m0x4014000000000000\u001b[39m              \u001b[90m# double 5\u001b[39m\n",
      "\u001b[91m.LCPI0_1:\u001b[39m\n",
      "\t\u001b[0m.quad\t\u001b[33m0x4000000000000000\u001b[39m              \u001b[90m# double 2\u001b[39m\n",
      "\t\u001b[0m.text\n",
      "\t\u001b[0m.globl\t\u001b[0mjulia_f_11268\n",
      "\t\u001b[0m.p2align\t\u001b[33m4\u001b[39m\u001b[0m, \u001b[33m0x90\u001b[39m\n",
      "\t\u001b[0m.type\t\u001b[0mjulia_f_11268\u001b[0m,\u001b[0m@function\n",
      "\u001b[91mjulia_f_11268:\u001b[39m                          \u001b[90m# @julia_f_11268\u001b[39m\n",
      "\u001b[90m; ┌ @ /home/mjki2mb2/testJulia/test.ipynb:1 within `f`\u001b[39m\n",
      "\t\u001b[0m.cfi_startproc\n",
      "\u001b[90m# %bb.0:                                # %top\u001b[39m\n",
      "\t\u001b[96m\u001b[1mmovabsq\u001b[22m\u001b[39m\t\u001b[93m$.LCPI0_0\u001b[39m\u001b[0m, \u001b[0m%rax\n",
      "\u001b[90m; │┌ @ promotion.jl:389 within `*` @ float.jl:385\u001b[39m\n",
      "\t\u001b[96m\u001b[1mvmulsd\u001b[22m\u001b[39m\t\u001b[33m(\u001b[39m\u001b[0m%rax\u001b[33m)\u001b[39m\u001b[0m, \u001b[0m%xmm0\u001b[0m, \u001b[0m%xmm0\n",
      "\t\u001b[96m\u001b[1mmovabsq\u001b[22m\u001b[39m\t\u001b[93m$.LCPI0_1\u001b[39m\u001b[0m, \u001b[0m%rax\n",
      "\u001b[90m; │└\u001b[39m\n",
      "\u001b[90m; │┌ @ promotion.jl:388 within `+` @ float.jl:383\u001b[39m\n",
      "\t\u001b[96m\u001b[1mvaddsd\u001b[22m\u001b[39m\t\u001b[33m(\u001b[39m\u001b[0m%rax\u001b[33m)\u001b[39m\u001b[0m, \u001b[0m%xmm0\u001b[0m, \u001b[0m%xmm0\n",
      "\u001b[90m; │└\u001b[39m\n",
      "\t\u001b[96m\u001b[1mretq\u001b[22m\u001b[39m\n",
      "\u001b[91m.Lfunc_end0:\u001b[39m\n",
      "\t\u001b[0m.size\t\u001b[0mjulia_f_11268\u001b[0m, \u001b[0m.Lfunc_end0-julia_f_11268\n",
      "\t\u001b[0m.cfi_endproc\n",
      "\u001b[90m; └\u001b[39m\n",
      "                                        \u001b[90m# -- End function\u001b[39m\n",
      "\t\u001b[0m.section\t\u001b[0m\".note.GNU-stack\"\u001b[0m,\u001b[0m\"\"\u001b[0m,\u001b[0m@progbits\n"
     ]
    }
   ],
   "source": [
    "code_native(f, (Float64,))"
   ]
  },
  {
   "cell_type": "markdown",
   "metadata": {},
   "source": [
    "Awesome, assembly! All created whenever we use the function, but not before! So we always get compiled, fully optimised code. Wait, if we write abstract functions, that then get adapted to native code only when run, can we run on non-native devices?\n",
    "# CUDA\n",
    "Yes, just change the type so the compiler can infer we run it elsewhere."
   ]
  },
  {
   "cell_type": "code",
   "execution_count": 26,
   "metadata": {},
   "outputs": [
    {
     "data": {
      "text/plain": [
       "8-element CuArray{Int64, 1, CUDA.Mem.DeviceBuffer}:\n",
       " 13\n",
       " 14\n",
       " 15\n",
       " 16\n",
       " 17\n",
       " 18\n",
       " 19\n",
       " 20"
      ]
     },
     "metadata": {},
     "output_type": "display_data"
    }
   ],
   "source": [
    "using CUDA\n",
    "gpu_v = CuArray([1,2,3,4,5,6,7,8]) #This array now lives on the GPU\n",
    "\n",
    "#Some generic function using the . to make .+ an elementwise addition\n",
    "f(x) = x .+ 12 \n",
    "\n",
    "f(gpu_v)"
   ]
  },
  {
   "cell_type": "markdown",
   "metadata": {},
   "source": [
    "I gotta see what this looks like in GPU assembly (warning, its filled with inlined code from the library)"
   ]
  },
  {
   "cell_type": "code",
   "execution_count": 27,
   "metadata": {},
   "outputs": [
    {
     "name": "stdout",
     "output_type": "stream",
     "text": [
      "\t\u001b[0m.text\n",
      "\t\u001b[0m.file\t\u001b[0m\"f\"\n",
      "\t\u001b[0m.section\t\u001b[0m.rodata.cst16\u001b[0m,\u001b[0m\"aM\"\u001b[0m,\u001b[0m@progbits\u001b[0m,\u001b[33m16\u001b[39m\n",
      "\t\u001b[0m.p2align\t\u001b[33m4\u001b[39m                               \u001b[90m# -- Begin function julia_f_11536\u001b[39m\n",
      "\u001b[91m.LCPI0_0:\u001b[39m\n",
      "\t\u001b[0m.quad\t\u001b[33m1\u001b[39m                               \u001b[90m# 0x1\u001b[39m\n",
      "\t\u001b[0m.quad\t\u001b[33m12\u001b[39m                              \u001b[90m# 0xc\u001b[39m\n",
      "\t\u001b[0m.text\n",
      "\t\u001b[0m.globl\t\u001b[0mjulia_f_11536\n",
      "\t\u001b[0m.p2align\t\u001b[33m4\u001b[39m\u001b[0m, \u001b[33m0x90\u001b[39m\n",
      "\t\u001b[0m.type\t\u001b[0mjulia_f_11536\u001b[0m,\u001b[0m@function\n",
      "\u001b[91mjulia_f_11536:\u001b[39m                          \u001b[90m# @julia_f_11536\u001b[39m\n",
      "\u001b[90m; ┌ @ /home/mjki2mb2/testJulia/test.ipynb:5 within `f`\u001b[39m\n",
      "\t\u001b[0m.cfi_startproc\n",
      "\u001b[90m# %bb.0:                                # %top\u001b[39m\n",
      "\t\u001b[96m\u001b[1mpushq\u001b[22m\u001b[39m\t\u001b[0m%rbp\n",
      "\t\u001b[0m.cfi_def_cfa_offset \u001b[33m16\u001b[39m\n",
      "\t\u001b[0m.cfi_offset \u001b[0m%rbp\u001b[0m, \u001b[33m-16\u001b[39m\n",
      "\t\u001b[96m\u001b[1mmovq\u001b[22m\u001b[39m\t\u001b[0m%rsp\u001b[0m, \u001b[0m%rbp\n",
      "\t\u001b[0m.cfi_def_cfa_register \u001b[0m%rbp\n",
      "\t\u001b[96m\u001b[1mpushq\u001b[22m\u001b[39m\t\u001b[0m%r15\n",
      "\t\u001b[96m\u001b[1mpushq\u001b[22m\u001b[39m\t\u001b[0m%r14\n",
      "\t\u001b[96m\u001b[1mpushq\u001b[22m\u001b[39m\t\u001b[0m%r13\n",
      "\t\u001b[96m\u001b[1mpushq\u001b[22m\u001b[39m\t\u001b[0m%r12\n",
      "\t\u001b[96m\u001b[1mpushq\u001b[22m\u001b[39m\t\u001b[0m%rbx\n",
      "\t\u001b[96m\u001b[1mandq\u001b[22m\u001b[39m\t\u001b[33m$-32\u001b[39m\u001b[0m, \u001b[0m%rsp\n",
      "\t\u001b[96m\u001b[1msubq\u001b[22m\u001b[39m\t\u001b[33m$448\u001b[39m\u001b[0m, \u001b[0m%rsp                      \u001b[90m# imm = 0x1C0\u001b[39m\n",
      "\t\u001b[0m.cfi_offset \u001b[0m%rbx\u001b[0m, \u001b[33m-56\u001b[39m\n",
      "\t\u001b[0m.cfi_offset \u001b[0m%r12\u001b[0m, \u001b[33m-48\u001b[39m\n",
      "\t\u001b[0m.cfi_offset \u001b[0m%r13\u001b[0m, \u001b[33m-40\u001b[39m\n",
      "\t\u001b[0m.cfi_offset \u001b[0m%r14\u001b[0m, \u001b[33m-32\u001b[39m\n",
      "\t\u001b[0m.cfi_offset \u001b[0m%r15\u001b[0m, \u001b[33m-24\u001b[39m\n",
      "\t\u001b[96m\u001b[1mvxorpd\u001b[22m\u001b[39m\t\u001b[0m%xmm0\u001b[0m, \u001b[0m%xmm0\u001b[0m, \u001b[0m%xmm0\n",
      "\t\u001b[96m\u001b[1mvmovapd\u001b[22m\u001b[39m\t\u001b[0m%ymm0\u001b[0m, \u001b[33m160\u001b[39m\u001b[33m(\u001b[39m\u001b[0m%rsp\u001b[33m)\u001b[39m\n",
      "\t\u001b[96m\u001b[1mmovabsq\u001b[22m\u001b[39m\t\u001b[33m$139801757918608\u001b[39m\u001b[0m, \u001b[0m%r15          \u001b[90m# imm = 0x7F26221EA590\u001b[39m\n",
      "\t\u001b[96m\u001b[1mvmovapd\u001b[22m\u001b[39m\t\u001b[0m%ymm0\u001b[0m, \u001b[33m128\u001b[39m\u001b[33m(\u001b[39m\u001b[0m%rsp\u001b[33m)\u001b[39m\n",
      "\t\u001b[96m\u001b[1mvmovapd\u001b[22m\u001b[39m\t\u001b[0m%ymm0\u001b[0m, \u001b[33m96\u001b[39m\u001b[33m(\u001b[39m\u001b[0m%rsp\u001b[33m)\u001b[39m\n",
      "\t\u001b[0m#APP\n",
      "\t\u001b[96m\u001b[1mmovq\u001b[22m\u001b[39m\t\u001b[0m%fs\u001b[0m:\u001b[33m0\u001b[39m\u001b[0m, \u001b[0m%rax\n",
      "\t\u001b[0m#NO_APP\n",
      "\t\u001b[96m\u001b[1mmovq\u001b[22m\u001b[39m\t\u001b[33m-8\u001b[39m\u001b[33m(\u001b[39m\u001b[0m%rax\u001b[33m)\u001b[39m\u001b[0m, \u001b[0m%rcx\n",
      "\u001b[90m; │┌ @ broadcast.jl:860 within `materialize`\u001b[39m\n",
      "\u001b[90m; ││┌ @ broadcast.jl:281 within `instantiate`\u001b[39m\n",
      "\u001b[90m; │││┌ @ broadcast.jl:499 within `combine_axes`\u001b[39m\n",
      "\u001b[90m; ││││┌ @ abstractarray.jl:95 within `axes`\u001b[39m\n",
      "\u001b[90m; │││││┌ @ /home/mjki2mb2/.julia/packages/CUDA/DfvRa/src/array.jl:234 within `size`\u001b[39m\n",
      "\u001b[90m; ││││││┌ @ Base.jl:38 within `getproperty`\u001b[39m\n",
      "\t\u001b[96m\u001b[1mmovq\u001b[22m\u001b[39m\t\u001b[33m$40\u001b[39m\u001b[0m, \u001b[33m96\u001b[39m\u001b[33m(\u001b[39m\u001b[0m%rsp\u001b[33m)\u001b[39m\n",
      "\t\u001b[96m\u001b[1mmovq\u001b[22m\u001b[39m\t\u001b[33m(\u001b[39m\u001b[0m%rcx\u001b[33m)\u001b[39m\u001b[0m, \u001b[0m%rax\n",
      "\t\u001b[96m\u001b[1mmovq\u001b[22m\u001b[39m\t\u001b[0m%rax\u001b[0m, \u001b[33m104\u001b[39m\u001b[33m(\u001b[39m\u001b[0m%rsp\u001b[33m)\u001b[39m\n",
      "\t\u001b[96m\u001b[1mleaq\u001b[22m\u001b[39m\t\u001b[33m96\u001b[39m\u001b[33m(\u001b[39m\u001b[0m%rsp\u001b[33m)\u001b[39m\u001b[0m, \u001b[0m%rax\n",
      "\t\u001b[96m\u001b[1mmovq\u001b[22m\u001b[39m\t\u001b[0m%rcx\u001b[0m, \u001b[33m16\u001b[39m\u001b[33m(\u001b[39m\u001b[0m%rsp\u001b[33m)\u001b[39m                  \u001b[90m# 8-byte Spill\u001b[39m\n",
      "\t\u001b[96m\u001b[1mmovq\u001b[22m\u001b[39m\t\u001b[0m%rax\u001b[0m, \u001b[33m(\u001b[39m\u001b[0m%rcx\u001b[33m)\u001b[39m\n",
      "\t\u001b[96m\u001b[1mmovq\u001b[22m\u001b[39m\t\u001b[0m%rdi\u001b[0m, \u001b[33m40\u001b[39m\u001b[33m(\u001b[39m\u001b[0m%rsp\u001b[33m)\u001b[39m                  \u001b[90m# 8-byte Spill\u001b[39m\n",
      "\t\u001b[96m\u001b[1mmovq\u001b[22m\u001b[39m\t\u001b[33m24\u001b[39m\u001b[33m(\u001b[39m\u001b[0m%rdi\u001b[33m)\u001b[39m\u001b[0m, \u001b[0m%rax\n",
      "\u001b[90m; │││││└└\u001b[39m\n",
      "\u001b[90m; │││││┌ @ tuple.jl:221 within `map`\u001b[39m\n",
      "\u001b[90m; ││││││┌ @ range.jl:455 within `oneto`\u001b[39m\n",
      "\u001b[90m; │││││││┌ @ range.jl:453 within `OneTo` @ range.jl:440\u001b[39m\n",
      "\u001b[90m; ││││││││┌ @ promotion.jl:488 within `max`\u001b[39m\n",
      "\u001b[90m; │││││││││┌ @ essentials.jl:489 within `ifelse`\u001b[39m\n",
      "\t\u001b[96m\u001b[1mmovq\u001b[22m\u001b[39m\t\u001b[0m%rax\u001b[0m, \u001b[0m%rcx\n",
      "\t\u001b[96m\u001b[1msarq\u001b[22m\u001b[39m\t\u001b[33m$63\u001b[39m\u001b[0m, \u001b[0m%rcx\n",
      "\t\u001b[96m\u001b[1mandnq\u001b[22m\u001b[39m\t\u001b[0m%rax\u001b[0m, \u001b[0m%rcx\u001b[0m, \u001b[0m%rax\n",
      "\u001b[90m; ││││└└└└└└\u001b[39m\n",
      "\u001b[90m; ││││┌ @ broadcast.jl:504 within `broadcast_shape`\u001b[39m\n",
      "\u001b[90m; │││││┌ @ broadcast.jl:508 within `_bcs`\u001b[39m\n",
      "\t\u001b[96m\u001b[1mmovq\u001b[22m\u001b[39m\t\u001b[0m%rax\u001b[0m, \u001b[33m88\u001b[39m\u001b[33m(\u001b[39m\u001b[0m%rsp\u001b[33m)\u001b[39m\n",
      "\t\u001b[96m\u001b[1mmovq\u001b[22m\u001b[39m\t\u001b[0m%rax\u001b[0m, \u001b[33m56\u001b[39m\u001b[33m(\u001b[39m\u001b[0m%rsp\u001b[33m)\u001b[39m                  \u001b[90m# 8-byte Spill\u001b[39m\n",
      "\u001b[90m; ││└└└└\u001b[39m\n",
      "\u001b[90m; ││┌ @ /home/mjki2mb2/.julia/packages/GPUArrays/fqD8z/src/host/broadcast.jl:37 within `copy`\u001b[39m\n",
      "\u001b[90m; │││┌ @ /home/mjki2mb2/.julia/packages/CUDA/DfvRa/src/broadcast.jl:11 within `similar` @ abstractarray.jl:840 @ abstractarray.jl:841\u001b[39m\n",
      "\u001b[90m; ││││┌ @ /home/mjki2mb2/.julia/packages/CUDA/DfvRa/src/array.jl:136 within `CuArray` @ /home/mjki2mb2/.julia/packages/CUDA/DfvRa/src/array.jl:125 @ /home/mjki2mb2/.julia/packages/CUDA/DfvRa/src/array.jl:35\u001b[39m\n",
      "\u001b[90m; │││││┌ @ int.jl:88 within `*`\u001b[39m\n",
      "\t\u001b[96m\u001b[1mleaq\u001b[22m\u001b[39m\t\u001b[33m(\u001b[39m\u001b[0m,\u001b[0m%rax\u001b[0m,\u001b[33m8\u001b[39m\u001b[33m)\u001b[39m\u001b[0m, \u001b[0m%rbx\n",
      "\u001b[90m; │││││└\u001b[39m\n",
      "\u001b[90m; │││││ @ /home/mjki2mb2/.julia/packages/CUDA/DfvRa/src/array.jl:136 within `CuArray` @ /home/mjki2mb2/.julia/packages/CUDA/DfvRa/src/array.jl:125 @ /home/mjki2mb2/.julia/packages/CUDA/DfvRa/src/array.jl:42\u001b[39m\n",
      "\u001b[90m; │││││┌ @ /home/mjki2mb2/.julia/packages/CUDA/DfvRa/src/pool.jl:293 within `alloc`\u001b[39m\n",
      "\u001b[90m; ││││││┌ @ /home/mjki2mb2/.julia/packages/CUDA/DfvRa/src/pool.jl:295 within `#alloc#169`\u001b[39m\n",
      "\u001b[90m; │││││││┌ @ promotion.jl:477 within `==`\u001b[39m\n",
      "\t\u001b[96m\u001b[1mtestq\u001b[22m\u001b[39m\t\u001b[0m%rbx\u001b[0m, \u001b[0m%rbx\n",
      "\t\u001b[96m\u001b[1mmovq\u001b[22m\u001b[39m\t\u001b[0m%rbx\u001b[0m, \u001b[33m48\u001b[39m\u001b[33m(\u001b[39m\u001b[0m%rsp\u001b[33m)\u001b[39m                  \u001b[90m# 8-byte Spill\u001b[39m\n",
      "\u001b[90m; │││││││└\u001b[39m\n",
      "\t\u001b[96m\u001b[1mje\u001b[22m\u001b[39m\t\u001b[0m.LBB0_1\n",
      "\u001b[90m# %bb.2:                                # %L17\u001b[39m\n",
      "\t\u001b[96m\u001b[1mleaq\u001b[22m\u001b[39m\t\u001b[33m112\u001b[39m\u001b[33m(\u001b[39m\u001b[0m%rsp\u001b[33m)\u001b[39m\u001b[0m, \u001b[0m%rsi\n",
      "\u001b[90m; │││││││ @ /home/mjki2mb2/.julia/packages/CUDA/DfvRa/src/pool.jl:299 within `#alloc#169`\u001b[39m\n",
      "\t\u001b[96m\u001b[1mmovabsq\u001b[22m\u001b[39m\t\u001b[93m$\"j__alloc##kw_11548\"\u001b[39m\u001b[0m, \u001b[0m%rax\n",
      "\t\u001b[96m\u001b[1mleaq\u001b[22m\u001b[39m\t\u001b[33m240\u001b[39m\u001b[33m(\u001b[39m\u001b[0m%rsp\u001b[33m)\u001b[39m\u001b[0m, \u001b[0m%rdi\n",
      "\t\u001b[96m\u001b[1mmovq\u001b[22m\u001b[39m\t\u001b[0m%rbx\u001b[0m, \u001b[0m%rdx\n",
      "\t\u001b[96m\u001b[1mvzeroupper\u001b[22m\u001b[39m\n",
      "\t\u001b[96m\u001b[1mcallq\u001b[22m\u001b[39m\t\u001b[0m*\u001b[0m%rax\n",
      "\u001b[90m; │││││││ @ /home/mjki2mb2/.julia/packages/CUDA/DfvRa/src/pool.jl:301 within `#alloc#169`\u001b[39m\n",
      "\u001b[90m; │││││││┌ @ Base.jl:39 within `setproperty!`\u001b[39m\n",
      "\t\u001b[96m\u001b[1mincq\u001b[22m\u001b[39m\t\u001b[33m(\u001b[39m\u001b[0m%r15\u001b[33m)\u001b[39m\n",
      "\u001b[90m; │││││││└\u001b[39m\n",
      "\u001b[90m; │││││││ @ /home/mjki2mb2/.julia/packages/CUDA/DfvRa/src/pool.jl:302 within `#alloc#169`\u001b[39m\n",
      "\u001b[90m; │││││││┌ @ Base.jl:39 within `setproperty!`\u001b[39m\n",
      "\t\u001b[96m\u001b[1maddq\u001b[22m\u001b[39m\t\u001b[0m%rbx\u001b[0m, \u001b[33m8\u001b[39m\u001b[33m(\u001b[39m\u001b[0m%r15\u001b[33m)\u001b[39m\n",
      "\u001b[90m; │││││││└\u001b[39m\n",
      "\u001b[90m; │││││││ @ /home/mjki2mb2/.julia/packages/CUDA/DfvRa/src/pool.jl:303 within `#alloc#169`\u001b[39m\n",
      "\u001b[90m; │││││││┌ @ Base.jl:38 within `getproperty`\u001b[39m\n",
      "\t\u001b[96m\u001b[1mvmovsd\u001b[22m\u001b[39m\t\u001b[33m32\u001b[39m\u001b[33m(\u001b[39m\u001b[0m%r15\u001b[33m)\u001b[39m\u001b[0m, \u001b[0m%xmm0                 \u001b[90m# xmm0 = mem[0],zero\u001b[39m\n",
      "\u001b[90m; │││││││└\u001b[39m\n",
      "\u001b[90m; │││││││┌ @ float.jl:383 within `+`\u001b[39m\n",
      "\t\u001b[96m\u001b[1mvaddsd\u001b[22m\u001b[39m\t\u001b[33m272\u001b[39m\u001b[33m(\u001b[39m\u001b[0m%rsp\u001b[33m)\u001b[39m\u001b[0m, \u001b[0m%xmm0\u001b[0m, \u001b[0m%xmm0\n",
      "\u001b[90m; │││││││└\u001b[39m\n",
      "\u001b[90m; │││││││┌ @ Base.jl:39 within `setproperty!`\u001b[39m\n",
      "\t\u001b[96m\u001b[1mvmovsd\u001b[22m\u001b[39m\t\u001b[0m%xmm0\u001b[0m, \u001b[33m32\u001b[39m\u001b[33m(\u001b[39m\u001b[0m%r15\u001b[33m)\u001b[39m\n",
      "\t\u001b[96m\u001b[1mmovq\u001b[22m\u001b[39m\t\u001b[33m240\u001b[39m\u001b[33m(\u001b[39m\u001b[0m%rsp\u001b[33m)\u001b[39m\u001b[0m, \u001b[0m%rax\n",
      "\t\u001b[96m\u001b[1mmovq\u001b[22m\u001b[39m\t\u001b[33m248\u001b[39m\u001b[33m(\u001b[39m\u001b[0m%rsp\u001b[33m)\u001b[39m\u001b[0m, \u001b[0m%rcx\n",
      "\t\u001b[96m\u001b[1mmovq\u001b[22m\u001b[39m\t\u001b[0m%rcx\u001b[0m, \u001b[33m32\u001b[39m\u001b[33m(\u001b[39m\u001b[0m%rsp\u001b[33m)\u001b[39m                  \u001b[90m# 8-byte Spill\u001b[39m\n",
      "\t\u001b[96m\u001b[1mmovq\u001b[22m\u001b[39m\t\u001b[33m256\u001b[39m\u001b[33m(\u001b[39m\u001b[0m%rsp\u001b[33m)\u001b[39m\u001b[0m, \u001b[0m%rcx\n",
      "\t\u001b[96m\u001b[1mmovq\u001b[22m\u001b[39m\t\u001b[0m%rcx\u001b[0m, \u001b[33m24\u001b[39m\u001b[33m(\u001b[39m\u001b[0m%rsp\u001b[33m)\u001b[39m                  \u001b[90m# 8-byte Spill\u001b[39m\n",
      "\t\u001b[96m\u001b[1mmovb\u001b[22m\u001b[39m\t\u001b[33m264\u001b[39m\u001b[33m(\u001b[39m\u001b[0m%rsp\u001b[33m)\u001b[39m\u001b[0m, \u001b[0m%cl\n",
      "\t\u001b[96m\u001b[1mmovq\u001b[22m\u001b[39m\t\u001b[0m%rcx\u001b[0m, \u001b[33m64\u001b[39m\u001b[33m(\u001b[39m\u001b[0m%rsp\u001b[33m)\u001b[39m                  \u001b[90m# 8-byte Spill\u001b[39m\n",
      "\t\u001b[96m\u001b[1mjmp\u001b[22m\u001b[39m\t\u001b[0m.LBB0_3\n",
      "\u001b[91m.LBB0_1:\u001b[39m                                \u001b[90m# %L12\u001b[39m\n",
      "\u001b[90m; │││││││└\u001b[39m\n",
      "\u001b[90m; │││││││ @ /home/mjki2mb2/.julia/packages/CUDA/DfvRa/src/pool.jl:295 within `#alloc#169`\u001b[39m\n",
      "\u001b[90m; │││││││┌ @ /home/mjki2mb2/.julia/packages/CUDA/DfvRa/lib/cudadrv/memory.jl:52 within `DeviceBuffer`\u001b[39m\n",
      "\u001b[90m; ││││││││┌ @ /home/mjki2mb2/.julia/packages/CUDA/DfvRa/lib/cudadrv/state.jl:122 within `context`\u001b[39m\n",
      "\t\u001b[96m\u001b[1mmovabsq\u001b[22m\u001b[39m\t\u001b[93m$\"j_task_local_state!_11538\"\u001b[39m\u001b[0m, \u001b[0m%rax\n",
      "\t\u001b[96m\u001b[1mvzeroupper\u001b[22m\u001b[39m\n",
      "\t\u001b[96m\u001b[1mcallq\u001b[22m\u001b[39m\t\u001b[0m*\u001b[0m%rax\n",
      "\u001b[90m; │││││││││┌ @ Base.jl:38 within `getproperty`\u001b[39m\n",
      "\t\u001b[96m\u001b[1mmovq\u001b[22m\u001b[39m\t\u001b[33m8\u001b[39m\u001b[33m(\u001b[39m\u001b[0m%rax\u001b[33m)\u001b[39m\u001b[0m, \u001b[0m%rax\n",
      "\t\u001b[96m\u001b[1mxorl\u001b[22m\u001b[39m\t\u001b[0m%ecx\u001b[0m, \u001b[0m%ecx\n",
      "\t\u001b[96m\u001b[1mmovq\u001b[22m\u001b[39m\t\u001b[0m%rcx\u001b[0m, \u001b[33m32\u001b[39m\u001b[33m(\u001b[39m\u001b[0m%rsp\u001b[33m)\u001b[39m                  \u001b[90m# 8-byte Spill\u001b[39m\n",
      "\t\u001b[96m\u001b[1mxorl\u001b[22m\u001b[39m\t\u001b[0m%ecx\u001b[0m, \u001b[0m%ecx\n",
      "\t\u001b[96m\u001b[1mmovq\u001b[22m\u001b[39m\t\u001b[0m%rcx\u001b[0m, \u001b[33m24\u001b[39m\u001b[33m(\u001b[39m\u001b[0m%rsp\u001b[33m)\u001b[39m                  \u001b[90m# 8-byte Spill\u001b[39m\n",
      "\t\u001b[96m\u001b[1mxorl\u001b[22m\u001b[39m\t\u001b[0m%ecx\u001b[0m, \u001b[0m%ecx\n",
      "\t\u001b[96m\u001b[1mmovq\u001b[22m\u001b[39m\t\u001b[0m%rcx\u001b[0m, \u001b[33m64\u001b[39m\u001b[33m(\u001b[39m\u001b[0m%rsp\u001b[33m)\u001b[39m                  \u001b[90m# 8-byte Spill\u001b[39m\n",
      "\u001b[91m.LBB0_3:\u001b[39m                                \u001b[90m# %L38\u001b[39m\n",
      "\t\u001b[96m\u001b[1mmovq\u001b[22m\u001b[39m\t\u001b[0m%rax\u001b[0m, \u001b[33m72\u001b[39m\u001b[33m(\u001b[39m\u001b[0m%rsp\u001b[33m)\u001b[39m                  \u001b[90m# 8-byte Spill\u001b[39m\n",
      "\t\u001b[96m\u001b[1mmovabsq\u001b[22m\u001b[39m\t\u001b[33m$139804503783664\u001b[39m\u001b[0m, \u001b[0m%r14          \u001b[90m# imm = 0x7F26C5C938F0\u001b[39m\n",
      "\t\u001b[96m\u001b[1mmovq\u001b[22m\u001b[39m\t\u001b[0m%rax\u001b[0m, \u001b[33m136\u001b[39m\u001b[33m(\u001b[39m\u001b[0m%rsp\u001b[33m)\u001b[39m\n",
      "\t\u001b[96m\u001b[1mmovq\u001b[22m\u001b[39m\t\u001b[33m16\u001b[39m\u001b[33m(\u001b[39m\u001b[0m%rsp\u001b[33m)\u001b[39m\u001b[0m, \u001b[0m%r13                  \u001b[90m# 8-byte Reload\u001b[39m\n",
      "\u001b[90m; │││││└└└└└\u001b[39m\n",
      "\u001b[90m; │││││ @ /home/mjki2mb2/.julia/packages/CUDA/DfvRa/src/array.jl:136 within `CuArray` @ /home/mjki2mb2/.julia/packages/CUDA/DfvRa/src/array.jl:125 @ /home/mjki2mb2/.julia/packages/CUDA/DfvRa/src/array.jl:43\u001b[39m"
     ]
    },
    {
     "name": "stdout",
     "output_type": "stream",
     "text": [
      "\n",
      "\u001b[90m; │││││┌ @ /home/mjki2mb2/.julia/packages/CUDA/DfvRa/src/array.jl:19 within `ArrayStorage`\u001b[39m\n",
      "\u001b[90m; ││││││┌ @ atomics.jl:78 within `Atomic`\u001b[39m\n",
      "\t\u001b[96m\u001b[1mmovq\u001b[22m\u001b[39m\t\u001b[33m16\u001b[39m\u001b[33m(\u001b[39m\u001b[0m%r13\u001b[33m)\u001b[39m\u001b[0m, \u001b[0m%rdi\n",
      "\t\u001b[96m\u001b[1mmovabsq\u001b[22m\u001b[39m\t\u001b[93m$ijl_gc_pool_alloc\u001b[39m\u001b[0m, \u001b[0m%r12\n",
      "\t\u001b[96m\u001b[1mmovl\u001b[22m\u001b[39m\t\u001b[33m$1392\u001b[39m\u001b[0m, \u001b[0m%esi                     \u001b[90m# imm = 0x570\u001b[39m\n",
      "\t\u001b[96m\u001b[1mmovl\u001b[22m\u001b[39m\t\u001b[33m$16\u001b[39m\u001b[0m, \u001b[0m%edx\n",
      "\t\u001b[96m\u001b[1mcallq\u001b[22m\u001b[39m\t\u001b[0m*\u001b[0m%r12\n",
      "\t\u001b[96m\u001b[1mmovq\u001b[22m\u001b[39m\t\u001b[0m%rax\u001b[0m, \u001b[0m%rbx\n",
      "\t\u001b[96m\u001b[1mleaq\u001b[22m\u001b[39m\t\u001b[33m712144\u001b[39m\u001b[33m(\u001b[39m\u001b[0m%r14\u001b[33m)\u001b[39m\u001b[0m, \u001b[0m%rax\n",
      "\t\u001b[96m\u001b[1mmovq\u001b[22m\u001b[39m\t\u001b[0m%rax\u001b[0m, \u001b[33m-8\u001b[39m\u001b[33m(\u001b[39m\u001b[0m%rbx\u001b[33m)\u001b[39m\n",
      "\t\u001b[96m\u001b[1mmovq\u001b[22m\u001b[39m\t\u001b[33m$1\u001b[39m\u001b[0m, \u001b[33m(\u001b[39m\u001b[0m%rbx\u001b[33m)\u001b[39m\n",
      "\t\u001b[96m\u001b[1mmovq\u001b[22m\u001b[39m\t\u001b[0m%rbx\u001b[0m, \u001b[33m144\u001b[39m\u001b[33m(\u001b[39m\u001b[0m%rsp\u001b[33m)\u001b[39m\n",
      "\u001b[90m; │││││└└\u001b[39m\n",
      "\u001b[90m; │││││ @ /home/mjki2mb2/.julia/packages/CUDA/DfvRa/src/array.jl:136 within `CuArray` @ /home/mjki2mb2/.julia/packages/CUDA/DfvRa/src/array.jl:125 @ /home/mjki2mb2/.julia/packages/CUDA/DfvRa/src/array.jl:44\u001b[39m\n",
      "\t\u001b[96m\u001b[1mmovq\u001b[22m\u001b[39m\t\u001b[33m16\u001b[39m\u001b[33m(\u001b[39m\u001b[0m%r13\u001b[33m)\u001b[39m\u001b[0m, \u001b[0m%rdi\n",
      "\t\u001b[96m\u001b[1mmovl\u001b[22m\u001b[39m\t\u001b[33m$1488\u001b[39m\u001b[0m, \u001b[0m%esi                     \u001b[90m# imm = 0x5D0\u001b[39m\n",
      "\t\u001b[96m\u001b[1mmovl\u001b[22m\u001b[39m\t\u001b[33m$48\u001b[39m\u001b[0m, \u001b[0m%edx\n",
      "\t\u001b[96m\u001b[1mcallq\u001b[22m\u001b[39m\t\u001b[0m*\u001b[0m%r12\n",
      "\t\u001b[96m\u001b[1mmovq\u001b[22m\u001b[39m\t\u001b[0m%rax\u001b[0m, \u001b[0m%r14\n",
      "\t\u001b[96m\u001b[1mleaq\u001b[22m\u001b[39m\t\u001b[33m-19391792\u001b[39m\u001b[33m(\u001b[39m\u001b[0m%r15\u001b[33m)\u001b[39m\u001b[0m, \u001b[0m%rax\n",
      "\t\u001b[96m\u001b[1mmovq\u001b[22m\u001b[39m\t\u001b[0m%rax\u001b[0m, \u001b[33m-8\u001b[39m\u001b[33m(\u001b[39m\u001b[0m%r14\u001b[33m)\u001b[39m\n",
      "\t\u001b[96m\u001b[1mmovq\u001b[22m\u001b[39m\t\u001b[33m$0\u001b[39m\u001b[0m, \u001b[33m(\u001b[39m\u001b[0m%r14\u001b[33m)\u001b[39m\n",
      "\t\u001b[96m\u001b[1mmovq\u001b[22m\u001b[39m\t\u001b[0m%r14\u001b[0m, \u001b[33m184\u001b[39m\u001b[33m(\u001b[39m\u001b[0m%rsp\u001b[33m)\u001b[39m\n",
      "\t\u001b[96m\u001b[1mmovq\u001b[22m\u001b[39m\t\u001b[33m16\u001b[39m\u001b[33m(\u001b[39m\u001b[0m%r13\u001b[33m)\u001b[39m\u001b[0m, \u001b[0m%rdi\n",
      "\t\u001b[96m\u001b[1mmovl\u001b[22m\u001b[39m\t\u001b[33m$1488\u001b[39m\u001b[0m, \u001b[0m%esi                     \u001b[90m# imm = 0x5D0\u001b[39m\n",
      "\t\u001b[96m\u001b[1mmovl\u001b[22m\u001b[39m\t\u001b[33m$48\u001b[39m\u001b[0m, \u001b[0m%edx\n",
      "\t\u001b[96m\u001b[1mcallq\u001b[22m\u001b[39m\t\u001b[0m*\u001b[0m%r12\n",
      "\t\u001b[96m\u001b[1mleaq\u001b[22m\u001b[39m\t\u001b[33m-19391472\u001b[39m\u001b[33m(\u001b[39m\u001b[0m%r15\u001b[33m)\u001b[39m\u001b[0m, \u001b[0m%rcx\n",
      "\t\u001b[96m\u001b[1mmovq\u001b[22m\u001b[39m\t\u001b[0m%rcx\u001b[0m, \u001b[33m-8\u001b[39m\u001b[33m(\u001b[39m\u001b[0m%rax\u001b[33m)\u001b[39m\n",
      "\t\u001b[96m\u001b[1mmovq\u001b[22m\u001b[39m\t\u001b[33m64\u001b[39m\u001b[33m(\u001b[39m\u001b[0m%rsp\u001b[33m)\u001b[39m\u001b[0m, \u001b[0m%rcx                  \u001b[90m# 8-byte Reload\u001b[39m\n",
      "\t\u001b[96m\u001b[1mmovb\u001b[22m\u001b[39m\t\u001b[0m%cl\u001b[0m, \u001b[33m24\u001b[39m\u001b[33m(\u001b[39m\u001b[0m%rax\u001b[33m)\u001b[39m\n",
      "\t\u001b[96m\u001b[1mmovq\u001b[22m\u001b[39m\t\u001b[33m24\u001b[39m\u001b[33m(\u001b[39m\u001b[0m%rsp\u001b[33m)\u001b[39m\u001b[0m, \u001b[0m%rcx                  \u001b[90m# 8-byte Reload\u001b[39m\n",
      "\t\u001b[96m\u001b[1mmovq\u001b[22m\u001b[39m\t\u001b[0m%rcx\u001b[0m, \u001b[33m16\u001b[39m\u001b[33m(\u001b[39m\u001b[0m%rax\u001b[33m)\u001b[39m\n",
      "\t\u001b[96m\u001b[1mmovq\u001b[22m\u001b[39m\t\u001b[33m32\u001b[39m\u001b[33m(\u001b[39m\u001b[0m%rsp\u001b[33m)\u001b[39m\u001b[0m, \u001b[0m%rcx                  \u001b[90m# 8-byte Reload\u001b[39m\n",
      "\t\u001b[96m\u001b[1mmovq\u001b[22m\u001b[39m\t\u001b[0m%rcx\u001b[0m, \u001b[33m8\u001b[39m\u001b[33m(\u001b[39m\u001b[0m%rax\u001b[33m)\u001b[39m\n",
      "\t\u001b[96m\u001b[1mmovq\u001b[22m\u001b[39m\t\u001b[33m72\u001b[39m\u001b[33m(\u001b[39m\u001b[0m%rsp\u001b[33m)\u001b[39m\u001b[0m, \u001b[0m%rcx                  \u001b[90m# 8-byte Reload\u001b[39m\n",
      "\t\u001b[96m\u001b[1mmovq\u001b[22m\u001b[39m\t\u001b[0m%rcx\u001b[0m, \u001b[33m(\u001b[39m\u001b[0m%rax\u001b[33m)\u001b[39m\n",
      "\t\u001b[96m\u001b[1mmovq\u001b[22m\u001b[39m\t\u001b[0m%rbx\u001b[0m, \u001b[33m32\u001b[39m\u001b[33m(\u001b[39m\u001b[0m%rax\u001b[33m)\u001b[39m\n",
      "\t\u001b[96m\u001b[1mmovq\u001b[22m\u001b[39m\t\u001b[0m%rax\u001b[0m, \u001b[33m(\u001b[39m\u001b[0m%r14\u001b[33m)\u001b[39m\n",
      "\t\u001b[96m\u001b[1mmovq\u001b[22m\u001b[39m\t\u001b[33m-8\u001b[39m\u001b[33m(\u001b[39m\u001b[0m%r14\u001b[33m)\u001b[39m\u001b[0m, \u001b[0m%rax\n",
      "\t\u001b[96m\u001b[1mnotl\u001b[22m\u001b[39m\t\u001b[0m%eax\n",
      "\t\u001b[96m\u001b[1mtestb\u001b[22m\u001b[39m\t\u001b[33m$3\u001b[39m\u001b[0m, \u001b[0m%al\n",
      "\t\u001b[96m\u001b[1mjne\u001b[22m\u001b[39m\t\u001b[0m.LBB0_5\n",
      "\u001b[90m# %bb.4:\u001b[39m\n",
      "\t\u001b[96m\u001b[1mmovabsq\u001b[22m\u001b[39m\t\u001b[93m$ijl_gc_queue_root\u001b[39m\u001b[0m, \u001b[0m%rax\n",
      "\t\u001b[96m\u001b[1mmovq\u001b[22m\u001b[39m\t\u001b[0m%r14\u001b[0m, \u001b[0m%rdi\n",
      "\t\u001b[96m\u001b[1mcallq\u001b[22m\u001b[39m\t\u001b[0m*\u001b[0m%rax\n",
      "\u001b[91m.LBB0_5:\u001b[39m\n",
      "\t\u001b[96m\u001b[1mmovq\u001b[22m\u001b[39m\t\u001b[33m48\u001b[39m\u001b[33m(\u001b[39m\u001b[0m%rsp\u001b[33m)\u001b[39m\u001b[0m, \u001b[0m%rax                  \u001b[90m# 8-byte Reload\u001b[39m\n",
      "\t\u001b[96m\u001b[1mmovq\u001b[22m\u001b[39m\t\u001b[0m%rax\u001b[0m, \u001b[33m8\u001b[39m\u001b[33m(\u001b[39m\u001b[0m%r14\u001b[33m)\u001b[39m\n",
      "\t\u001b[96m\u001b[1mmovq\u001b[22m\u001b[39m\t\u001b[33m$0\u001b[39m\u001b[0m, \u001b[33m16\u001b[39m\u001b[33m(\u001b[39m\u001b[0m%r14\u001b[33m)\u001b[39m\n",
      "\t\u001b[96m\u001b[1mmovq\u001b[22m\u001b[39m\t\u001b[33m56\u001b[39m\u001b[33m(\u001b[39m\u001b[0m%rsp\u001b[33m)\u001b[39m\u001b[0m, \u001b[0m%rbx                  \u001b[90m# 8-byte Reload\u001b[39m\n",
      "\t\u001b[96m\u001b[1mmovq\u001b[22m\u001b[39m\t\u001b[0m%rbx\u001b[0m, \u001b[33m24\u001b[39m\u001b[33m(\u001b[39m\u001b[0m%r14\u001b[33m)\u001b[39m\n",
      "\t\u001b[96m\u001b[1mmovabsq\u001b[22m\u001b[39m\t\u001b[33m$139804503783664\u001b[39m\u001b[0m, \u001b[0m%r15          \u001b[90m# imm = 0x7F26C5C938F0\u001b[39m\n",
      "\u001b[90m; │││││ @ /home/mjki2mb2/.julia/packages/CUDA/DfvRa/src/array.jl:136 within `CuArray` @ /home/mjki2mb2/.julia/packages/CUDA/DfvRa/src/array.jl:125 @ /home/mjki2mb2/.julia/packages/CUDA/DfvRa/src/array.jl:45\u001b[39m\n",
      "\u001b[90m; │││││┌ @ gcutils.jl:48 within `finalizer`\u001b[39m\n",
      "\u001b[90m; ││││││┌ @ boot.jl:364 within `getptls`\u001b[39m\n",
      "\t\u001b[96m\u001b[1mleaq\u001b[22m\u001b[39m\t\u001b[33m318474768\u001b[39m\u001b[33m(\u001b[39m\u001b[0m%r15\u001b[33m)\u001b[39m\u001b[0m, \u001b[0m%rax\n",
      "\t\u001b[96m\u001b[1mcallq\u001b[22m\u001b[39m\t\u001b[0m*\u001b[0m%rax\n",
      "\u001b[90m; ││││││└\u001b[39m\n",
      "\t\u001b[96m\u001b[1mleaq\u001b[22m\u001b[39m\t\u001b[33m318497968\u001b[39m\u001b[33m(\u001b[39m\u001b[0m%r15\u001b[33m)\u001b[39m\u001b[0m, \u001b[0m%rcx\n",
      "\t\u001b[96m\u001b[1mmovabsq\u001b[22m\u001b[39m\t\u001b[33m$139801728875520\u001b[39m\u001b[0m, \u001b[0m%rdx          \u001b[90m# imm = 0x7F2620637C00\u001b[39m\n",
      "\t\u001b[96m\u001b[1mmovq\u001b[22m\u001b[39m\t\u001b[0m%rax\u001b[0m, \u001b[0m%rdi\n",
      "\t\u001b[96m\u001b[1mmovq\u001b[22m\u001b[39m\t\u001b[0m%r14\u001b[0m, \u001b[0m%rsi\n",
      "\t\u001b[96m\u001b[1mcallq\u001b[22m\u001b[39m\t\u001b[0m*\u001b[0m%rcx\n",
      "\u001b[90m; │││└└└\u001b[39m\n",
      "\u001b[90m; │││┌ @ /home/mjki2mb2/.julia/packages/GPUArrays/fqD8z/src/host/broadcast.jl:46 within `copyto!`\u001b[39m\n",
      "\u001b[90m; ││││┌ @ /home/mjki2mb2/.julia/packages/GPUArrays/fqD8z/src/host/broadcast.jl:49 within `_copyto!`\u001b[39m\n",
      "\u001b[90m; │││││┌ @ abstractarray.jl:95 within `axes`\u001b[39m\n",
      "\u001b[90m; ││││││┌ @ /home/mjki2mb2/.julia/packages/CUDA/DfvRa/src/array.jl:234 within `size`\u001b[39m\n",
      "\u001b[90m; │││││││┌ @ Base.jl:38 within `getproperty`\u001b[39m\n",
      "\t\u001b[96m\u001b[1mmovq\u001b[22m\u001b[39m\t\u001b[33m24\u001b[39m\u001b[33m(\u001b[39m\u001b[0m%r14\u001b[33m)\u001b[39m\u001b[0m, \u001b[0m%rax\n",
      "\u001b[90m; ││││││└└\u001b[39m\n",
      "\u001b[90m; ││││││┌ @ tuple.jl:221 within `map`\u001b[39m\n",
      "\u001b[90m; │││││││┌ @ range.jl:455 within `oneto`\u001b[39m\n",
      "\u001b[90m; ││││││││┌ @ range.jl:453 within `OneTo` @ range.jl:440\u001b[39m\n",
      "\u001b[90m; │││││││││┌ @ promotion.jl:488 within `max`\u001b[39m\n",
      "\u001b[90m; ││││││││││┌ @ essentials.jl:489 within `ifelse`\u001b[39m\n",
      "\t\u001b[96m\u001b[1mmovq\u001b[22m\u001b[39m\t\u001b[0m%rax\u001b[0m, \u001b[0m%rcx\n",
      "\t\u001b[96m\u001b[1msarq\u001b[22m\u001b[39m\t\u001b[33m$63\u001b[39m\u001b[0m, \u001b[0m%rcx\n",
      "\t\u001b[96m\u001b[1mandnq\u001b[22m\u001b[39m\t\u001b[0m%rax\u001b[0m, \u001b[0m%rcx\u001b[0m, \u001b[0m%rcx\n",
      "\u001b[90m; │││││└└└└└└\u001b[39m\n",
      "\u001b[90m; │││││┌ @ tuple.jl:398 within `==`\u001b[39m\n",
      "\u001b[90m; ││││││┌ @ tuple.jl:402 within `_eq`\u001b[39m\n",
      "\u001b[90m; │││││││┌ @ range.jl:1111 within `==` @ promotion.jl:477\u001b[39m\n",
      "\t\u001b[96m\u001b[1mcmpq\u001b[22m\u001b[39m\t\u001b[0m%rbx\u001b[0m, \u001b[0m%rcx\n",
      "\t\u001b[96m\u001b[1mmovq\u001b[22m\u001b[39m\t\u001b[33m40\u001b[39m\u001b[33m(\u001b[39m\u001b[0m%rsp\u001b[33m)\u001b[39m\u001b[0m, \u001b[0m%rbx                  \u001b[90m# 8-byte Reload\u001b[39m\n",
      "\u001b[90m; │││││└└└\u001b[39m\n",
      "\t\u001b[96m\u001b[1mjne\u001b[22m\u001b[39m\t\u001b[0m.LBB0_20\n",
      "\u001b[90m# %bb.6:                                # %L63\u001b[39m\n",
      "\u001b[90m; │││││ @ /home/mjki2mb2/.julia/packages/GPUArrays/fqD8z/src/host/broadcast.jl:50 within `_copyto!`\u001b[39m\n",
      "\u001b[90m; │││││┌ @ abstractarray.jl:1170 within `isempty`\u001b[39m\n",
      "\u001b[90m; ││││││┌ @ promotion.jl:477 within `==`\u001b[39m\n",
      "\t\u001b[96m\u001b[1mtestq\u001b[22m\u001b[39m\t\u001b[0m%rax\u001b[0m, \u001b[0m%rax\n",
      "\u001b[90m; │││││└└\u001b[39m\n",
      "\t\u001b[96m\u001b[1mje\u001b[22m\u001b[39m\t\u001b[0m.LBB0_17\n",
      "\u001b[90m# %bb.7:                                # %L68\u001b[39m\n",
      "\u001b[90m; │││││ @ /home/mjki2mb2/.julia/packages/GPUArrays/fqD8z/src/host/broadcast.jl:51 within `_copyto!`\u001b[39m\n",
      "\u001b[90m; │││││┌ @ broadcast.jl:940 within `preprocess`\u001b[39m\n",
      "\u001b[90m; ││││││┌ @ broadcast.jl:943 within `preprocess_args`\u001b[39m\n",
      "\u001b[90m; │││││││┌ @ broadcast.jl:941 within `preprocess`\u001b[39m\n",
      "\u001b[90m; ││││││││┌ @ broadcast.jl:934 within `broadcast_unalias`\u001b[39m\n",
      "\t\u001b[96m\u001b[1mcmpq\u001b[22m\u001b[39m\t\u001b[0m%rbx\u001b[0m, \u001b[0m%r14\n",
      "\t\u001b[96m\u001b[1mje\u001b[22m\u001b[39m\t\u001b[0m.LBB0_10\n",
      "\u001b[90m# %bb.8:                                # %L71\u001b[39m\n",
      "\u001b[90m; │││││││││┌ @ abstractarray.jl:1427 within `unalias`\u001b[39m\n",
      "\t\u001b[96m\u001b[1mmovabsq\u001b[22m\u001b[39m\t\u001b[93m$j_mightalias_11545\u001b[39m\u001b[0m, \u001b[0m%rax\n",
      "\t\u001b[96m\u001b[1mmovq\u001b[22m\u001b[39m\t\u001b[0m%r14\u001b[0m, \u001b[0m%rdi\n",
      "\t\u001b[96m\u001b[1mmovq\u001b[22m\u001b[39m\t\u001b[0m%rbx\u001b[0m, \u001b[0m%rsi\n",
      "\t\u001b[96m\u001b[1mcallq\u001b[22m\u001b[39m\t\u001b[0m*\u001b[0m%rax\n",
      "\t\u001b[96m\u001b[1mtestb\u001b[22m\u001b[39m\t\u001b[33m$1\u001b[39m\u001b[0m, \u001b[0m%al\n",
      "\t\u001b[96m\u001b[1mje\u001b[22m\u001b[39m\t\u001b[0m.LBB0_10\n",
      "\u001b[90m# %bb.9:                                # %L73\u001b[39m\n",
      "\u001b[90m; ││││││││││┌ @ /home/mjki2mb2/.julia/packages/CUDA/DfvRa/src/array.jl:109 within `unaliascopy`\u001b[39m\n",
      "\t\u001b[96m\u001b[1mmovabsq\u001b[22m\u001b[39m\t\u001b[93m$j_copy_11546\u001b[39m\u001b[0m, \u001b[0m%rax\n",
      "\t\u001b[96m\u001b[1mmovq\u001b[22m\u001b[39m\t\u001b[0m%rbx\u001b[0m, \u001b[0m%rdi\n",
      "\t\u001b[96m\u001b[1mcallq\u001b[22m\u001b[39m\t\u001b[0m*\u001b[0m%rax\n",
      "\t\u001b[96m\u001b[1mmovq\u001b[22m\u001b[39m\t\u001b[0m%rax\u001b[0m, \u001b[0m%rbx\n",
      "\u001b[91m.LBB0_10:\u001b[39m                               \u001b[90m# %L78\u001b[39m\n",
      "\u001b[90m; ││││││││└└└\u001b[39m\n",
      "\u001b[90m; ││││││││┌ @ broadcast.jl:637 within `extrude`\u001b[39m\n",
      "\u001b[90m; │││││││││┌ @ broadcast.jl:586 within `newindexer`\u001b[39m\n",
      "\u001b[90m; ││││││││││┌ @ broadcast.jl:587 within `shapeindexer`\u001b[39m\n",
      "\u001b[90m; │││││││││││┌ @ broadcast.jl:592 within `_newindexer`\u001b[39m\n",
      "\u001b[90m; ││││││││││││┌ @ operators.jl:282 within `!=`\u001b[39m\n",
      "\u001b[90m; │││││││││││││┌ @ promotion.jl:477 within `==`\u001b[39m\n",
      "\t\u001b[96m\u001b[1mcmpq\u001b[22m\u001b[39m\t\u001b[33m$1\u001b[39m\u001b[0m, \u001b[33m24\u001b[39m\u001b[33m(\u001b[39m\u001b[0m%rbx\u001b[33m)\u001b[39m\n",
      "\t\u001b[96m\u001b[1msetne\u001b[22m\u001b[39m\t\u001b[33m48\u001b[39m\u001b[33m(\u001b[39m\u001b[0m%rsp\u001b[33m)\u001b[39m                        \u001b[90m# 1-byte Folded Spill\u001b[39m\n",
      "\u001b[90m; │││││└└└└└└└└└\u001b[39m\n",
      "\u001b[90m; │││││ @ /home/mjki2mb2/.julia/packages/GPUArrays/fqD8z/src/host/broadcast.jl:61 within `_copyto!`\u001b[39m\n",
      "\u001b[90m; │││││┌ @ abstractarray.jl:279 within `length`\u001b[39m\n",
      "\u001b[90m; ││││││┌ @ /home/mjki2mb2/.julia/packages/CUDA/DfvRa/src/array.jl:234 within `size`\u001b[39m\n",
      "\u001b[90m; │││││││┌ @ Base.jl:38 within `getproperty`\u001b[39m\n",
      "\t\u001b[96m\u001b[1mmovq\u001b[22m\u001b[39m\t\u001b[33m24\u001b[39m\u001b[33m(\u001b[39m\u001b[0m%r14\u001b[33m)\u001b[39m\u001b[0m, \u001b[0m%r13\n",
      "\u001b[90m; │││││└└└\u001b[39m\n",
      "\u001b[90m; │││││ @ /home/mjki2mb2/.julia/packages/GPUArrays/fqD8z/src/host/broadcast.jl:63 within `_copyto!`\u001b[39m\n",
      "\u001b[90m; │││││┌ @ boot.jl:603 within `NamedTuple` @ boot.jl:607\u001b[39m\n",
      "\t\u001b[96m\u001b[1mmovq\u001b[22m\u001b[39m\t\u001b[0m%r13\u001b[0m, \u001b[33m200\u001b[39m\u001b[33m(\u001b[39m\u001b[0m%rsp\u001b[33m)\u001b[39m\n",
      "\t\u001b[96m\u001b[1mmovabsq\u001b[22m\u001b[39m\t"
     ]
    },
    {
     "name": "stdout",
     "output_type": "stream",
     "text": [
      "\u001b[33m$9223372036854775807\u001b[39m\u001b[0m, \u001b[0m%r15      \u001b[90m# imm = 0x7FFFFFFFFFFFFFFF\u001b[39m\n",
      "\t\u001b[96m\u001b[1mmovq\u001b[22m\u001b[39m\t\u001b[0m%r15\u001b[0m, \u001b[33m208\u001b[39m\u001b[33m(\u001b[39m\u001b[0m%rsp\u001b[33m)\u001b[39m\n",
      "\t\u001b[96m\u001b[1mmovq\u001b[22m\u001b[39m\t\u001b[0m%rbx\u001b[0m, \u001b[33m128\u001b[39m\u001b[33m(\u001b[39m\u001b[0m%rsp\u001b[33m)\u001b[39m\n",
      "\u001b[90m; │││││└\u001b[39m\n",
      "\t\u001b[96m\u001b[1mmovq\u001b[22m\u001b[39m\t\u001b[0m%rbx\u001b[0m, \u001b[33m368\u001b[39m\u001b[33m(\u001b[39m\u001b[0m%rsp\u001b[33m)\u001b[39m\n",
      "\t\u001b[96m\u001b[1msetne\u001b[22m\u001b[39m\t\u001b[33m376\u001b[39m\u001b[33m(\u001b[39m\u001b[0m%rsp\u001b[33m)\u001b[39m\n",
      "\t\u001b[96m\u001b[1mmovabsq\u001b[22m\u001b[39m\t\u001b[93m$.LCPI0_0\u001b[39m\u001b[0m, \u001b[0m%rax\n",
      "\t\u001b[96m\u001b[1mvmovaps\u001b[22m\u001b[39m\t\u001b[33m(\u001b[39m\u001b[0m%rax\u001b[33m)\u001b[39m\u001b[0m, \u001b[0m%xmm0\n",
      "\t\u001b[96m\u001b[1mvmovups\u001b[22m\u001b[39m\t\u001b[0m%xmm0\u001b[0m, \u001b[33m384\u001b[39m\u001b[33m(\u001b[39m\u001b[0m%rsp\u001b[33m)\u001b[39m\n",
      "\t\u001b[96m\u001b[1mmovq\u001b[22m\u001b[39m\t\u001b[33m56\u001b[39m\u001b[33m(\u001b[39m\u001b[0m%rsp\u001b[33m)\u001b[39m\u001b[0m, \u001b[0m%rax                  \u001b[90m# 8-byte Reload\u001b[39m\n",
      "\t\u001b[96m\u001b[1mmovq\u001b[22m\u001b[39m\t\u001b[0m%rax\u001b[0m, \u001b[33m400\u001b[39m\u001b[33m(\u001b[39m\u001b[0m%rsp\u001b[33m)\u001b[39m\n",
      "\t\u001b[96m\u001b[1mmovq\u001b[22m\u001b[39m\t\u001b[0m%rbx\u001b[0m, \u001b[33m40\u001b[39m\u001b[33m(\u001b[39m\u001b[0m%rsp\u001b[33m)\u001b[39m                  \u001b[90m# 8-byte Spill\u001b[39m\n",
      "\t\u001b[96m\u001b[1mmovq\u001b[22m\u001b[39m\t\u001b[0m%rbx\u001b[0m, \u001b[33m176\u001b[39m\u001b[33m(\u001b[39m\u001b[0m%rsp\u001b[33m)\u001b[39m\n",
      "\t\u001b[96m\u001b[1mmovabsq\u001b[22m\u001b[39m\t\u001b[93m$\"j_launch_heuristic##kw_11539\"\u001b[39m\u001b[0m, \u001b[0m%rax\n",
      "\t\u001b[96m\u001b[1mleaq\u001b[22m\u001b[39m\t\u001b[33m408\u001b[39m\u001b[33m(\u001b[39m\u001b[0m%rsp\u001b[33m)\u001b[39m\u001b[0m, \u001b[0m%r12\n",
      "\t\u001b[96m\u001b[1mleaq\u001b[22m\u001b[39m\t\u001b[33m200\u001b[39m\u001b[33m(\u001b[39m\u001b[0m%rsp\u001b[33m)\u001b[39m\u001b[0m, \u001b[0m%rsi\n",
      "\t\u001b[96m\u001b[1mleaq\u001b[22m\u001b[39m\t\u001b[33m368\u001b[39m\u001b[33m(\u001b[39m\u001b[0m%rsp\u001b[33m)\u001b[39m\u001b[0m, \u001b[0m%rcx\n",
      "\t\u001b[96m\u001b[1mmovl\u001b[22m\u001b[39m\t\u001b[33m$1\u001b[39m\u001b[0m, \u001b[0m%r8d\n",
      "\t\u001b[96m\u001b[1mmovq\u001b[22m\u001b[39m\t\u001b[0m%r12\u001b[0m, \u001b[0m%rdi\n",
      "\t\u001b[96m\u001b[1mmovq\u001b[22m\u001b[39m\t\u001b[0m%r14\u001b[0m, \u001b[0m%rdx\n",
      "\t\u001b[96m\u001b[1mcallq\u001b[22m\u001b[39m\t\u001b[0m*\u001b[0m%rax\n",
      "\u001b[90m; │││││ @ /home/mjki2mb2/.julia/packages/GPUArrays/fqD8z/src/host/broadcast.jl:65 within `_copyto!`\u001b[39m\n",
      "\u001b[90m; │││││┌ @ /home/mjki2mb2/.julia/packages/GPUArrays/fqD8z/src/device/execution.jl:88 within `launch_configuration##kw`\u001b[39m\n",
      "\t\u001b[96m\u001b[1mmovabsq\u001b[22m\u001b[39m\t\u001b[93m$\"j_#launch_configuration#3_11540\"\u001b[39m\u001b[0m, \u001b[0m%rax\n",
      "\t\u001b[96m\u001b[1mleaq\u001b[22m\u001b[39m\t\u001b[33m216\u001b[39m\u001b[33m(\u001b[39m\u001b[0m%rsp\u001b[33m)\u001b[39m\u001b[0m, \u001b[0m%rdi\n",
      "\t\u001b[96m\u001b[1mmovq\u001b[22m\u001b[39m\t\u001b[0m%r13\u001b[0m, \u001b[0m%rsi\n",
      "\t\u001b[96m\u001b[1mmovq\u001b[22m\u001b[39m\t\u001b[0m%r15\u001b[0m, \u001b[0m%rdx\n",
      "\t\u001b[96m\u001b[1mmovq\u001b[22m\u001b[39m\t\u001b[0m%r12\u001b[0m, \u001b[0m%rcx\n",
      "\t\u001b[96m\u001b[1mcallq\u001b[22m\u001b[39m\t\u001b[0m*\u001b[0m%rax\n",
      "\u001b[90m; │││││└\u001b[39m\n",
      "\u001b[90m; │││││ @ /home/mjki2mb2/.julia/packages/GPUArrays/fqD8z/src/host/broadcast.jl:67 within `_copyto!`\u001b[39m\n",
      "\u001b[90m; │││││┌ @ /home/mjki2mb2/.julia/packages/GPUArrays/fqD8z/src/device/execution.jl:34 within `gpu_call##kw`\u001b[39m\n",
      "\u001b[90m; ││││││┌ @ /home/mjki2mb2/.julia/packages/GPUArrays/fqD8z/src/device/execution.jl:67 within `#gpu_call#1`\u001b[39m\n",
      "\u001b[90m; │││││││┌ @ operators.jl:382 within `>`\u001b[39m\n",
      "\u001b[90m; ││││││││┌ @ int.jl:83 within `<`\u001b[39m\n",
      "\t\u001b[96m\u001b[1mmovq\u001b[22m\u001b[39m\t\u001b[33m216\u001b[39m\u001b[33m(\u001b[39m\u001b[0m%rsp\u001b[33m)\u001b[39m\u001b[0m, \u001b[0m%r12\n",
      "\t\u001b[96m\u001b[1mtestq\u001b[22m\u001b[39m\t\u001b[0m%r12\u001b[0m, \u001b[0m%r12\n",
      "\u001b[90m; │││││││└└\u001b[39m\n",
      "\t\u001b[96m\u001b[1mjle\u001b[22m\u001b[39m\t\u001b[0m.LBB0_19\n",
      "\u001b[90m# %bb.11:                               # %L108\u001b[39m\n",
      "\u001b[90m; │││││││ @ /home/mjki2mb2/.julia/packages/GPUArrays/fqD8z/src/device/execution.jl:68 within `#gpu_call#1`\u001b[39m\n",
      "\u001b[90m; │││││││┌ @ operators.jl:382 within `>`\u001b[39m\n",
      "\u001b[90m; ││││││││┌ @ int.jl:83 within `<`\u001b[39m\n",
      "\t\u001b[96m\u001b[1mmovq\u001b[22m\u001b[39m\t\u001b[33m224\u001b[39m\u001b[33m(\u001b[39m\u001b[0m%rsp\u001b[33m)\u001b[39m\u001b[0m, \u001b[0m%r13\n",
      "\t\u001b[96m\u001b[1mtestq\u001b[22m\u001b[39m\t\u001b[0m%r13\u001b[0m, \u001b[0m%r13\n",
      "\u001b[90m; │││││││└└\u001b[39m\n",
      "\t\u001b[96m\u001b[1mjle\u001b[22m\u001b[39m\t\u001b[0m.LBB0_18\n",
      "\u001b[90m# %bb.12:                               # %L110\u001b[39m\n",
      "\u001b[90m; │││││││ @ /home/mjki2mb2/.julia/packages/GPUArrays/fqD8z/src/device/execution.jl:69 within `#gpu_call#1`\u001b[39m\n",
      "\u001b[90m; │││││││┌ @ /home/mjki2mb2/.julia/packages/CUDA/DfvRa/src/gpuarrays.jl:28 within `gpu_call##kw`\u001b[39m\n",
      "\u001b[90m; ││││││││┌ @ /home/mjki2mb2/.julia/packages/CUDA/DfvRa/src/gpuarrays.jl:30 within `#gpu_call#249`\u001b[39m\n",
      "\u001b[90m; │││││││││┌ @ /home/mjki2mb2/.julia/packages/CUDA/DfvRa/src/compiler/execution.jl:100 within `macro expansion`\u001b[39m\n",
      "\u001b[90m; ││││││││││┌ @ tuple.jl:224 within `map` @ tuple.jl:223\u001b[39m\n",
      "\u001b[90m; │││││││││││┌ @ /home/mjki2mb2/.julia/packages/CUDA/DfvRa/src/compiler/execution.jl:152 within `cudaconvert`\u001b[39m\n",
      "\u001b[90m; ││││││││││││┌ @ /home/mjki2mb2/.julia/packages/Adapt/LAQOx/src/Adapt.jl:40 within `adapt`\u001b[39m\n",
      "\u001b[90m; │││││││││││││┌ @ /home/mjki2mb2/.julia/packages/CUDA/DfvRa/src/compiler/execution.jl:139 within `adapt_structure`\u001b[39m\n",
      "\u001b[90m; ││││││││││││││┌ @ /home/mjki2mb2/.julia/packages/CUDA/DfvRa/src/array.jl:328 within `unsafe_convert`\u001b[39m\n",
      "\u001b[90m; │││││││││││││││┌ @ /home/mjki2mb2/.julia/packages/CUDA/DfvRa/src/array.jl:276 within `pointer`\u001b[39m\n",
      "\u001b[90m; ││││││││││││││││┌ @ /home/mjki2mb2/.julia/packages/CUDA/DfvRa/src/array.jl:321 within `unsafe_convert`\u001b[39m\n",
      "\u001b[90m; │││││││││││││││││┌ @ Base.jl:38 within `getproperty`\u001b[39m\n",
      "\t\u001b[96m\u001b[1mmovq\u001b[22m\u001b[39m\t\u001b[33m(\u001b[39m\u001b[0m%r14\u001b[33m)\u001b[39m\u001b[0m, \u001b[0m%rax\n",
      "\u001b[90m; │││││││││││││││││└\u001b[39m\n",
      "\t\u001b[96m\u001b[1mmovq\u001b[22m\u001b[39m\t\u001b[33m-8\u001b[39m\u001b[33m(\u001b[39m\u001b[0m%rax\u001b[33m)\u001b[39m\u001b[0m, \u001b[0m%rdx\n",
      "\t\u001b[96m\u001b[1mandq\u001b[22m\u001b[39m\t\u001b[33m$-16\u001b[39m\u001b[0m, \u001b[0m%rdx\n",
      "\t\u001b[96m\u001b[1mmovabsq\u001b[22m\u001b[39m\t\u001b[33m$139804501028960\u001b[39m\u001b[0m, \u001b[0m%rax          \u001b[90m# imm = 0x7F26C59F3060\u001b[39m\n",
      "\t\u001b[96m\u001b[1mcmpq\u001b[22m\u001b[39m\t\u001b[0m%rax\u001b[0m, \u001b[0m%rdx\n",
      "\t\u001b[96m\u001b[1mje\u001b[22m\u001b[39m\t\u001b[0m.LBB0_21\n",
      "\u001b[90m# %bb.13:                               # %L118\u001b[39m\n",
      "\t\u001b[96m\u001b[1mmovabsq\u001b[22m\u001b[39m\t\u001b[33m$139801738527136\u001b[39m\u001b[0m, \u001b[0m%rcx          \u001b[90m# imm = 0x7F2620F6C1A0\u001b[39m\n",
      "\t\u001b[96m\u001b[1mcmpq\u001b[22m\u001b[39m\t\u001b[0m%rcx\u001b[0m, \u001b[0m%rdx\n",
      "\t\u001b[96m\u001b[1mjne\u001b[22m\u001b[39m\t\u001b[0m.LBB0_22\n",
      "\u001b[90m# %bb.14:                               # %L129\u001b[39m\n",
      "\t\u001b[96m\u001b[1mmovq\u001b[22m\u001b[39m\t\u001b[33m40\u001b[39m\u001b[33m(\u001b[39m\u001b[0m%rsp\u001b[33m)\u001b[39m\u001b[0m, \u001b[0m%rdx                  \u001b[90m# 8-byte Reload\u001b[39m\n",
      "\u001b[90m; ││││││││││││││└└└\u001b[39m\n",
      "\u001b[90m; ││││││││││││││ @ /home/mjki2mb2/.julia/packages/Adapt/LAQOx/src/base.jl:30 within `adapt_structure`\u001b[39m\n",
      "\u001b[90m; ││││││││││││││┌ @ /home/mjki2mb2/.julia/packages/Adapt/LAQOx/src/Adapt.jl:40 within `adapt`\u001b[39m\n",
      "\u001b[90m; │││││││││││││││┌ @ /home/mjki2mb2/.julia/packages/Adapt/LAQOx/src/base.jl:3 within `adapt_structure`\u001b[39m\n",
      "\u001b[90m; ││││││││││││││││┌ @ tuple.jl:222 within `map`\u001b[39m\n",
      "\u001b[90m; │││││││││││││││││┌ @ operators.jl:1096 within `Fix1`\u001b[39m\n",
      "\u001b[90m; ││││││││││││││││││┌ @ /home/mjki2mb2/.julia/packages/Adapt/LAQOx/src/Adapt.jl:40 within `adapt`\u001b[39m\n",
      "\u001b[90m; │││││││││││││││││││┌ @ /home/mjki2mb2/.julia/packages/Adapt/LAQOx/src/base.jl:33 within `adapt_structure`\u001b[39m\n",
      "\u001b[90m; ││││││││││││││││││││┌ @ /home/mjki2mb2/.julia/packages/Adapt/LAQOx/src/Adapt.jl:40 within `adapt`\u001b[39m\n",
      "\u001b[90m; │││││││││││││││││││││┌ @ /home/mjki2mb2/.julia/packages/CUDA/DfvRa/src/compiler/execution.jl:139 within `adapt_structure`\u001b[39m\n",
      "\u001b[90m; ││││││││││││││││││││││┌ @ /home/mjki2mb2/.julia/packages/CUDA/DfvRa/src/array.jl:328 within `unsafe_convert`\u001b[39m\n",
      "\u001b[90m; │││││││││││││││││││││││┌ @ /home/mjki2mb2/.julia/packages/CUDA/DfvRa/src/array.jl:276 within `pointer`\u001b[39m\n",
      "\u001b[90m; ││││││││││││││││││││││││┌ @ /home/mjki2mb2/.julia/packages/CUDA/DfvRa/src/array.jl:321 within `unsafe_convert`\u001b[39m\n",
      "\u001b[90m; │││││││││││││││││││││││││┌ @ Base.jl:38 within `getproperty`\u001b[39m\n",
      "\t\u001b[96m\u001b[1mmovq\u001b[22m\u001b[39m\t\u001b[33m(\u001b[39m\u001b[0m%rdx\u001b[33m)\u001b[39m\u001b[0m, \u001b[0m%rdx\n",
      "\u001b[90m; │││││││││││││││││││││││││└\u001b[39m\n",
      "\t\u001b[96m\u001b[1mmovq\u001b[22m\u001b[39m\t\u001b[33m-8\u001b[39m\u001b[33m(\u001b[39m\u001b[0m%rdx\u001b[33m)\u001b[39m\u001b[0m, \u001b[0m%rdx\n",
      "\t\u001b[96m\u001b[1mandq\u001b[22m\u001b[39m\t\u001b[33m$-16\u001b[39m\u001b[0m, \u001b[0m%rdx\n",
      "\t\u001b[96m\u001b[1mcmpq\u001b[22m\u001b[39m\t\u001b[0m%rax\u001b[0m, \u001b[0m%rdx\n",
      "\t\u001b[96m\u001b[1mje\u001b[22m\u001b[39m\t\u001b[0m.LBB0_23\n",
      "\u001b[90m# %bb.15:                               # %L136\u001b[39m\n",
      "\t\u001b[96m\u001b[1mcmpq\u001b[22m\u001b[39m\t\u001b[0m%rcx\u001b[0m, \u001b[0m%rdx\n",
      "\t\u001b[96m\u001b[1mjne\u001b[22m\u001b[39m\t\u001b[0m.LBB0_24\n",
      "\u001b[90m# %bb.16:                               # %L157\u001b[39m\n",
      "\t\u001b[96m\u001b[1mleaq\u001b[22m\u001b[39m\t\u001b[33m120\u001b[39m\u001b[33m(\u001b[39m\u001b[0m%rsp\u001b[33m)\u001b[39m\u001b[0m, \u001b[0m%rsi\n",
      "\t\u001b[96m\u001b[1mmovq\u001b[22m\u001b[39m\t\u001b[33m232\u001b[39m\u001b[33m(\u001b[39m\u001b[0m%rsp\u001b[33m)\u001b[39m\u001b[0m, \u001b[0m%rax\n",
      "\t\u001b[96m\u001b[1mmovq\u001b[22m\u001b[39m\t\u001b[0m%rax\u001b[0m, \u001b[33m32\u001b[39m\u001b[33m(\u001b[39m\u001b[0m%rsp\u001b[33m)\u001b[39m                  \u001b[90m# 8-byte Spill\u001b[39m\n",
      "\u001b[90m; ││││││││││└└└└└└└└└└└└└└└\u001b[39m\n",
      "\u001b[90m; ││││││││││ @ /home/mjki2mb2/.julia/packages/CUDA/DfvRa/src/compiler/execution.jl:102 within `macro expansion`\u001b[39m\n",
      "\u001b[90m; ││││││││││┌ @ /home/mjki2mb2/.julia/packages/CUDA/DfvRa/src/compiler/execution.jl:292 within `cufunction##kw`\u001b[39m\n",
      "\t\u001b[96m\u001b[1mmovabsq\u001b[22m\u001b[39m\t\u001b[93m$\"j_#cufunction#221_11543\"\u001b[39m\u001b[0m, \u001b[0m%rax\n",
      "\t\u001b[96m\u001b[1mleaq\u001b[22m\u001b[39m\t\u001b[33m344\u001b[39m\u001b[33m(\u001b[39m\u001b[0m%rsp\u001b[33m)\u001b[39m\u001b[0m, \u001b[0m%rdi\n",
      "\t\u001b[96m\u001b[1mcallq\u001b[22m\u001b[39m\t\u001b[0m*\u001b[0m%rax\n",
      "\u001b[90m; ││││││││││└\u001b[39m\n",
      "\u001b[90m; ││││││││││ @ /home/mjki2mb2/.julia/packages/CUDA/DfvRa/src/compiler/execution.jl:104 within `macro expansion`\u001b[39m\n",
      "\u001b[90m; ││││││││││┌ @ /home/mjki2mb2/.julia/packages/CUDA/DfvRa/src/compiler/execution.jl:483 within `Any##kw`\u001b[39m\n",
      "\t\u001b[96m\u001b[1mmovabsq\u001b[22m\u001b[39m\t\u001b[93m$ijl_box_int64\u001b[39m\u001b[0m, \u001b[0m%rbx\n",
      "\t\u001b[96m\u001b[1mmovq\u001b[22m\u001b[39m\t\u001b[0m%r12\u001b[0m, \u001b[0m%rdi\n",
      "\t\u001b[96m\u001b[1mcallq\u001b[22m\u001b[39m\t\u001b[0m*\u001b[0m%rbx\n",
      "\t\u001b[96m\u001b[1mmovq\u001b[22m\u001b[39m\t\u001b[0m%rax\u001b[0m, \u001b[33m24\u001b[39m\u001b[33m(\u001b[39m\u001b[0m%rsp\u001b[33m)\u001b[39m                  \u001b[90m# 8-byte Spill\u001b[39m\n",
      "\t\u001b[96m\u001b[1mmovq\u001b[22m\u001b[39m\t\u001b[0m%rax\u001b[0m, \u001b[33m168\u001b[39m\u001b[33m(\u001b[39m\u001b[0m%rsp\u001b[33m)\u001b[39m\n",
      "\t\u001b[96m\u001b[1mmovq\u001b[22m\u001b[39m\t\u001b[0m%r13\u001b[0m, \u001b[0m%rdi\n",
      "\t\u001b[96m\u001b[1mcallq\u001b[22m\u001b[39m\t\u001b[0m*\u001b[0m%rbx\n",
      "\t\u001b[96m\u001b[1mmovq\u001b[22m\u001b[39m\t\u001b[0m%rax\u001b[0m, \u001b[0m%r13\n",
      "\t\u001b[96m\u001b[1mmovq\u001b[22m\u001b[39m\t"
     ]
    },
    {
     "name": "stdout",
     "output_type": "stream",
     "text": [
      "\u001b[0m%rax\u001b[0m, \u001b[33m160\u001b[39m\u001b[33m(\u001b[39m\u001b[0m%rsp\u001b[33m)\u001b[39m\n",
      "\t\u001b[96m\u001b[1mmovq\u001b[22m\u001b[39m\t\u001b[33m16\u001b[39m\u001b[33m(\u001b[39m\u001b[0m%rsp\u001b[33m)\u001b[39m\u001b[0m, \u001b[0m%rbx                  \u001b[90m# 8-byte Reload\u001b[39m\n",
      "\t\u001b[96m\u001b[1mmovq\u001b[22m\u001b[39m\t\u001b[33m16\u001b[39m\u001b[33m(\u001b[39m\u001b[0m%rbx\u001b[33m)\u001b[39m\u001b[0m, \u001b[0m%rdi\n",
      "\t\u001b[96m\u001b[1mmovl\u001b[22m\u001b[39m\t\u001b[33m$1440\u001b[39m\u001b[0m, \u001b[0m%esi                     \u001b[90m# imm = 0x5A0\u001b[39m\n",
      "\t\u001b[96m\u001b[1mmovl\u001b[22m\u001b[39m\t\u001b[33m$32\u001b[39m\u001b[0m, \u001b[0m%edx\n",
      "\t\u001b[96m\u001b[1mmovabsq\u001b[22m\u001b[39m\t\u001b[93m$ijl_gc_pool_alloc\u001b[39m\u001b[0m, \u001b[0m%r15\n",
      "\t\u001b[96m\u001b[1mcallq\u001b[22m\u001b[39m\t\u001b[0m*\u001b[0m%r15\n",
      "\t\u001b[96m\u001b[1mmovq\u001b[22m\u001b[39m\t\u001b[0m%r15\u001b[0m, \u001b[0m%rcx\n",
      "\t\u001b[96m\u001b[1mmovq\u001b[22m\u001b[39m\t\u001b[0m%rax\u001b[0m, \u001b[0m%r15\n",
      "\t\u001b[96m\u001b[1mmovabsq\u001b[22m\u001b[39m\t\u001b[33m$139801757918608\u001b[39m\u001b[0m, \u001b[0m%r12          \u001b[90m# imm = 0x7F26221EA590\u001b[39m\n",
      "\t\u001b[96m\u001b[1mleaq\u001b[22m\u001b[39m\t\u001b[33m419850624\u001b[39m\u001b[33m(\u001b[39m\u001b[0m%r12\u001b[33m)\u001b[39m\u001b[0m, \u001b[0m%rax\n",
      "\t\u001b[96m\u001b[1mmovq\u001b[22m\u001b[39m\t\u001b[0m%rax\u001b[0m, \u001b[33m-8\u001b[39m\u001b[33m(\u001b[39m\u001b[0m%r15\u001b[33m)\u001b[39m\n",
      "\t\u001b[96m\u001b[1mmovq\u001b[22m\u001b[39m\t\u001b[33m360\u001b[39m\u001b[33m(\u001b[39m\u001b[0m%rsp\u001b[33m)\u001b[39m\u001b[0m, \u001b[0m%rax\n",
      "\t\u001b[96m\u001b[1mmovq\u001b[22m\u001b[39m\t\u001b[0m%rax\u001b[0m, \u001b[33m16\u001b[39m\u001b[33m(\u001b[39m\u001b[0m%r15\u001b[33m)\u001b[39m\n",
      "\t\u001b[96m\u001b[1mvmovupd\u001b[22m\u001b[39m\t\u001b[33m344\u001b[39m\u001b[33m(\u001b[39m\u001b[0m%rsp\u001b[33m)\u001b[39m\u001b[0m, \u001b[0m%xmm0\n",
      "\t\u001b[96m\u001b[1mvmovupd\u001b[22m\u001b[39m\t\u001b[0m%xmm0\u001b[0m, \u001b[33m(\u001b[39m\u001b[0m%r15\u001b[33m)\u001b[39m\n",
      "\t\u001b[96m\u001b[1mmovq\u001b[22m\u001b[39m\t\u001b[0m%r15\u001b[0m, \u001b[33m152\u001b[39m\u001b[33m(\u001b[39m\u001b[0m%rsp\u001b[33m)\u001b[39m\n",
      "\t\u001b[96m\u001b[1mmovq\u001b[22m\u001b[39m\t\u001b[33m16\u001b[39m\u001b[33m(\u001b[39m\u001b[0m%rbx\u001b[33m)\u001b[39m\u001b[0m, \u001b[0m%rdi\n",
      "\t\u001b[96m\u001b[1mmovl\u001b[22m\u001b[39m\t\u001b[33m$1488\u001b[39m\u001b[0m, \u001b[0m%esi                     \u001b[90m# imm = 0x5D0\u001b[39m\n",
      "\t\u001b[96m\u001b[1mmovl\u001b[22m\u001b[39m\t\u001b[33m$48\u001b[39m\u001b[0m, \u001b[0m%edx\n",
      "\t\u001b[96m\u001b[1mcallq\u001b[22m\u001b[39m\t\u001b[0m*\u001b[0m%rcx\n",
      "\t\u001b[96m\u001b[1mmovq\u001b[22m\u001b[39m\t\u001b[0m%rax\u001b[0m, \u001b[0m%rbx\n",
      "\t\u001b[96m\u001b[1maddq\u001b[22m\u001b[39m\t\u001b[33m$-296327344\u001b[39m\u001b[0m, \u001b[0m%r12               \u001b[90m# imm = 0xEE566750\u001b[39m\n",
      "\t\u001b[96m\u001b[1mmovq\u001b[22m\u001b[39m\t\u001b[0m%r12\u001b[0m, \u001b[33m-8\u001b[39m\u001b[33m(\u001b[39m\u001b[0m%rax\u001b[33m)\u001b[39m\n",
      "\t\u001b[96m\u001b[1mmovl\u001b[22m\u001b[39m\t\u001b[33m$1\u001b[39m\u001b[0m, \u001b[0m%eax\n",
      "\t\u001b[96m\u001b[1mmovq\u001b[22m\u001b[39m\t\u001b[0m%rax\u001b[0m, \u001b[33m16\u001b[39m\u001b[33m(\u001b[39m\u001b[0m%rbx\u001b[33m)\u001b[39m\n",
      "\t\u001b[96m\u001b[1mmovb\u001b[22m\u001b[39m\t\u001b[33m48\u001b[39m\u001b[33m(\u001b[39m\u001b[0m%rsp\u001b[33m)\u001b[39m\u001b[0m, \u001b[0m%al                   \u001b[90m# 1-byte Reload\u001b[39m\n",
      "\t\u001b[96m\u001b[1mmovb\u001b[22m\u001b[39m\t\u001b[0m%al\u001b[0m, \u001b[33m8\u001b[39m\u001b[33m(\u001b[39m\u001b[0m%rbx\u001b[33m)\u001b[39m\n",
      "\t\u001b[96m\u001b[1mmovq\u001b[22m\u001b[39m\t\u001b[33m40\u001b[39m\u001b[33m(\u001b[39m\u001b[0m%rsp\u001b[33m)\u001b[39m\u001b[0m, \u001b[0m%rax                  \u001b[90m# 8-byte Reload\u001b[39m\n",
      "\t\u001b[96m\u001b[1mmovq\u001b[22m\u001b[39m\t\u001b[0m%rax\u001b[0m, \u001b[33m(\u001b[39m\u001b[0m%rbx\u001b[33m)\u001b[39m\n",
      "\t\u001b[96m\u001b[1mmovq\u001b[22m\u001b[39m\t\u001b[33m$12\u001b[39m\u001b[0m, \u001b[33m24\u001b[39m\u001b[33m(\u001b[39m\u001b[0m%rbx\u001b[33m)\u001b[39m\n",
      "\t\u001b[96m\u001b[1mmovq\u001b[22m\u001b[39m\t\u001b[33m56\u001b[39m\u001b[33m(\u001b[39m\u001b[0m%rsp\u001b[33m)\u001b[39m\u001b[0m, \u001b[0m%rax                  \u001b[90m# 8-byte Reload\u001b[39m\n",
      "\t\u001b[96m\u001b[1mmovq\u001b[22m\u001b[39m\t\u001b[0m%rax\u001b[0m, \u001b[33m32\u001b[39m\u001b[33m(\u001b[39m\u001b[0m%rbx\u001b[33m)\u001b[39m\n",
      "\t\u001b[96m\u001b[1mmovq\u001b[22m\u001b[39m\t\u001b[0m%rbx\u001b[0m, \u001b[33m144\u001b[39m\u001b[33m(\u001b[39m\u001b[0m%rsp\u001b[33m)\u001b[39m\n",
      "\t\u001b[96m\u001b[1mmovq\u001b[22m\u001b[39m\t\u001b[33m32\u001b[39m\u001b[33m(\u001b[39m\u001b[0m%rsp\u001b[33m)\u001b[39m\u001b[0m, \u001b[0m%rdi                  \u001b[90m# 8-byte Reload\u001b[39m\n",
      "\t\u001b[96m\u001b[1mmovabsq\u001b[22m\u001b[39m\t\u001b[93m$ijl_box_int64\u001b[39m\u001b[0m, \u001b[0m%rax\n",
      "\t\u001b[96m\u001b[1mcallq\u001b[22m\u001b[39m\t\u001b[0m*\u001b[0m%rax\n",
      "\t\u001b[96m\u001b[1mmovq\u001b[22m\u001b[39m\t\u001b[0m%rax\u001b[0m, \u001b[33m136\u001b[39m\u001b[33m(\u001b[39m\u001b[0m%rsp\u001b[33m)\u001b[39m\n",
      "\t\u001b[96m\u001b[1mmovq\u001b[22m\u001b[39m\t\u001b[33m24\u001b[39m\u001b[33m(\u001b[39m\u001b[0m%rsp\u001b[33m)\u001b[39m\u001b[0m, \u001b[0m%rcx                  \u001b[90m# 8-byte Reload\u001b[39m\n",
      "\t\u001b[96m\u001b[1mmovq\u001b[22m\u001b[39m\t\u001b[0m%rcx\u001b[0m, \u001b[33m280\u001b[39m\u001b[33m(\u001b[39m\u001b[0m%rsp\u001b[33m)\u001b[39m\n",
      "\t\u001b[96m\u001b[1mmovq\u001b[22m\u001b[39m\t\u001b[0m%r13\u001b[0m, \u001b[33m288\u001b[39m\u001b[33m(\u001b[39m\u001b[0m%rsp\u001b[33m)\u001b[39m\n",
      "\t\u001b[96m\u001b[1mmovabsq\u001b[22m\u001b[39m\t\u001b[33m$139804503396688\u001b[39m\u001b[0m, \u001b[0m%rcx          \u001b[90m# imm = 0x7F26C5C35150\u001b[39m\n",
      "\t\u001b[96m\u001b[1mmovq\u001b[22m\u001b[39m\t\u001b[0m%rcx\u001b[0m, \u001b[33m296\u001b[39m\u001b[33m(\u001b[39m\u001b[0m%rsp\u001b[33m)\u001b[39m\n",
      "\t\u001b[96m\u001b[1mmovq\u001b[22m\u001b[39m\t\u001b[0m%r15\u001b[0m, \u001b[33m304\u001b[39m\u001b[33m(\u001b[39m\u001b[0m%rsp\u001b[33m)\u001b[39m\n",
      "\t\u001b[96m\u001b[1mmovabsq\u001b[22m\u001b[39m\t\u001b[33m$139801728875896\u001b[39m\u001b[0m, \u001b[0m%rcx          \u001b[90m# imm = 0x7F2620637D78\u001b[39m\n",
      "\t\u001b[96m\u001b[1mmovq\u001b[22m\u001b[39m\t\u001b[0m%rcx\u001b[0m, \u001b[33m312\u001b[39m\u001b[33m(\u001b[39m\u001b[0m%rsp\u001b[33m)\u001b[39m\n",
      "\t\u001b[96m\u001b[1mmovq\u001b[22m\u001b[39m\t\u001b[0m%r14\u001b[0m, \u001b[33m320\u001b[39m\u001b[33m(\u001b[39m\u001b[0m%rsp\u001b[33m)\u001b[39m\n",
      "\t\u001b[96m\u001b[1mmovq\u001b[22m\u001b[39m\t\u001b[0m%rbx\u001b[0m, \u001b[33m328\u001b[39m\u001b[33m(\u001b[39m\u001b[0m%rsp\u001b[33m)\u001b[39m\n",
      "\t\u001b[96m\u001b[1mmovq\u001b[22m\u001b[39m\t\u001b[0m%rax\u001b[0m, \u001b[33m336\u001b[39m\u001b[33m(\u001b[39m\u001b[0m%rsp\u001b[33m)\u001b[39m\n",
      "\t\u001b[96m\u001b[1mmovabsq\u001b[22m\u001b[39m\t\u001b[93m$\"j1_#_#228_11544\"\u001b[39m\u001b[0m, \u001b[0m%rax\n",
      "\t\u001b[96m\u001b[1mmovabsq\u001b[22m\u001b[39m\t\u001b[33m$139801749827560\u001b[39m\u001b[0m, \u001b[0m%rdi          \u001b[90m# imm = 0x7F2621A32FE8\u001b[39m\n",
      "\t\u001b[96m\u001b[1mleaq\u001b[22m\u001b[39m\t\u001b[33m280\u001b[39m\u001b[33m(\u001b[39m\u001b[0m%rsp\u001b[33m)\u001b[39m\u001b[0m, \u001b[0m%rsi\n",
      "\t\u001b[96m\u001b[1mmovl\u001b[22m\u001b[39m\t\u001b[33m$8\u001b[39m\u001b[0m, \u001b[0m%edx\n",
      "\t\u001b[96m\u001b[1mcallq\u001b[22m\u001b[39m\t\u001b[0m*\u001b[0m%rax\n",
      "\u001b[91m.LBB0_17:\u001b[39m                               \u001b[90m# %L186\u001b[39m\n",
      "\t\u001b[96m\u001b[1mmovq\u001b[22m\u001b[39m\t\u001b[33m104\u001b[39m\u001b[33m(\u001b[39m\u001b[0m%rsp\u001b[33m)\u001b[39m\u001b[0m, \u001b[0m%rax\n",
      "\t\u001b[96m\u001b[1mmovq\u001b[22m\u001b[39m\t\u001b[33m16\u001b[39m\u001b[33m(\u001b[39m\u001b[0m%rsp\u001b[33m)\u001b[39m\u001b[0m, \u001b[0m%rcx                  \u001b[90m# 8-byte Reload\u001b[39m\n",
      "\t\u001b[96m\u001b[1mmovq\u001b[22m\u001b[39m\t\u001b[0m%rax\u001b[0m, \u001b[33m(\u001b[39m\u001b[0m%rcx\u001b[33m)\u001b[39m\n",
      "\u001b[90m; │└└└└└└└└└└\u001b[39m\n",
      "\t\u001b[96m\u001b[1mmovq\u001b[22m\u001b[39m\t\u001b[0m%r14\u001b[0m, \u001b[0m%rax\n",
      "\t\u001b[96m\u001b[1mleaq\u001b[22m\u001b[39m\t\u001b[33m-40\u001b[39m\u001b[33m(\u001b[39m\u001b[0m%rbp\u001b[33m)\u001b[39m\u001b[0m, \u001b[0m%rsp\n",
      "\t\u001b[96m\u001b[1mpopq\u001b[22m\u001b[39m\t\u001b[0m%rbx\n",
      "\t\u001b[96m\u001b[1mpopq\u001b[22m\u001b[39m\t\u001b[0m%r12\n",
      "\t\u001b[96m\u001b[1mpopq\u001b[22m\u001b[39m\t\u001b[0m%r13\n",
      "\t\u001b[96m\u001b[1mpopq\u001b[22m\u001b[39m\t\u001b[0m%r14\n",
      "\t\u001b[96m\u001b[1mpopq\u001b[22m\u001b[39m\t\u001b[0m%r15\n",
      "\t\u001b[96m\u001b[1mpopq\u001b[22m\u001b[39m\t\u001b[0m%rbp\n",
      "\t\u001b[0m.cfi_def_cfa \u001b[0m%rsp\u001b[0m, \u001b[33m8\u001b[39m\n",
      "\t\u001b[96m\u001b[1mretq\u001b[22m\u001b[39m\n",
      "\u001b[91m.LBB0_20:\u001b[39m                               \u001b[90m# %L172\u001b[39m\n",
      "\u001b[90m; │┌ @ broadcast.jl:860 within `materialize`\u001b[39m\n",
      "\u001b[90m; ││┌ @ /home/mjki2mb2/.julia/packages/GPUArrays/fqD8z/src/host/broadcast.jl:37 within `copy`\u001b[39m\n",
      "\u001b[90m; │││┌ @ /home/mjki2mb2/.julia/packages/GPUArrays/fqD8z/src/host/broadcast.jl:46 within `copyto!`\u001b[39m\n",
      "\u001b[90m; ││││┌ @ /home/mjki2mb2/.julia/packages/GPUArrays/fqD8z/src/host/broadcast.jl:49 within `_copyto!`\u001b[39m\n",
      "\u001b[90m; │││││┌ @ abstractarray.jl:95 within `axes`\u001b[39m\n",
      "\u001b[90m; ││││││┌ @ tuple.jl:221 within `map`\u001b[39m\n",
      "\t\u001b[0m.cfi_def_cfa \u001b[0m%rbp\u001b[0m, \u001b[33m16\u001b[39m\n",
      "\t\u001b[96m\u001b[1mmovq\u001b[22m\u001b[39m\t\u001b[0m%rcx\u001b[0m, \u001b[33m80\u001b[39m\u001b[33m(\u001b[39m\u001b[0m%rsp\u001b[33m)\u001b[39m\n",
      "\u001b[90m; │││││└└\u001b[39m\n",
      "\t\u001b[96m\u001b[1mmovabsq\u001b[22m\u001b[39m\t\u001b[93m$j_throwdm_11547\u001b[39m\u001b[0m, \u001b[0m%rax\n",
      "\t\u001b[96m\u001b[1mleaq\u001b[22m\u001b[39m\t\u001b[33m80\u001b[39m\u001b[33m(\u001b[39m\u001b[0m%rsp\u001b[33m)\u001b[39m\u001b[0m, \u001b[0m%rdi\n",
      "\t\u001b[96m\u001b[1mleaq\u001b[22m\u001b[39m\t\u001b[33m88\u001b[39m\u001b[33m(\u001b[39m\u001b[0m%rsp\u001b[33m)\u001b[39m\u001b[0m, \u001b[0m%rsi\n",
      "\t\u001b[96m\u001b[1mcallq\u001b[22m\u001b[39m\t\u001b[0m*\u001b[0m%rax\n",
      "\t\u001b[96m\u001b[1mud2\u001b[22m\u001b[39m\n",
      "\u001b[91m.LBB0_19:\u001b[39m                               \u001b[90m# %L167\u001b[39m\n",
      "\t\u001b[96m\u001b[1mmovq\u001b[22m\u001b[39m\t\u001b[33m16\u001b[39m\u001b[33m(\u001b[39m\u001b[0m%rsp\u001b[33m)\u001b[39m\u001b[0m, \u001b[0m%rax                  \u001b[90m# 8-byte Reload\u001b[39m\n",
      "\u001b[90m; │││││ @ /home/mjki2mb2/.julia/packages/GPUArrays/fqD8z/src/host/broadcast.jl:67 within `_copyto!`\u001b[39m\n",
      "\u001b[90m; │││││┌ @ /home/mjki2mb2/.julia/packages/GPUArrays/fqD8z/src/device/execution.jl:34 within `gpu_call##kw`\u001b[39m\n",
      "\u001b[90m; ││││││┌ @ /home/mjki2mb2/.julia/packages/GPUArrays/fqD8z/src/device/execution.jl:67 within `#gpu_call#1`\u001b[39m\n",
      "\t\u001b[96m\u001b[1mmovq\u001b[22m\u001b[39m\t\u001b[33m16\u001b[39m\u001b[33m(\u001b[39m\u001b[0m%rax\u001b[33m)\u001b[39m\u001b[0m, \u001b[0m%rdi\n",
      "\t\u001b[96m\u001b[1mmovl\u001b[22m\u001b[39m\t\u001b[33m$1392\u001b[39m\u001b[0m, \u001b[0m%esi                     \u001b[90m# imm = 0x570\u001b[39m\n",
      "\t\u001b[96m\u001b[1mmovl\u001b[22m\u001b[39m\t\u001b[33m$16\u001b[39m\u001b[0m, \u001b[0m%edx\n",
      "\t\u001b[96m\u001b[1mmovabsq\u001b[22m\u001b[39m\t\u001b[93m$ijl_gc_pool_alloc\u001b[39m\u001b[0m, \u001b[0m%rax\n",
      "\t\u001b[96m\u001b[1mcallq\u001b[22m\u001b[39m\t\u001b[0m*\u001b[0m%rax\n",
      "\t\u001b[96m\u001b[1mmovabsq\u001b[22m\u001b[39m\t\u001b[33m$139804503783664\u001b[39m\u001b[0m, \u001b[0m%rcx          \u001b[90m# imm = 0x7F26C5C938F0\u001b[39m\n",
      "\t\u001b[96m\u001b[1mmovq\u001b[22m\u001b[39m\t\u001b[0m%rcx\u001b[0m, \u001b[33m-8\u001b[39m\u001b[33m(\u001b[39m\u001b[0m%rax\u001b[33m)\u001b[39m\n",
      "\t\u001b[96m\u001b[1mmovabsq\u001b[22m\u001b[39m\t\u001b[33m$139802212803696\u001b[39m\u001b[0m, \u001b[0m%rcx          \u001b[90m# imm = 0x7F263D3BA470\u001b[39m\n",
      "\t\u001b[96m\u001b[1mmovq\u001b[22m\u001b[39m\t\u001b[0m%rcx\u001b[0m, \u001b[33m(\u001b[39m\u001b[0m%rax\u001b[33m)\u001b[39m\n",
      "\t\u001b[96m\u001b[1mmovabsq\u001b[22m\u001b[39m\t\u001b[93m$ijl_throw\u001b[39m\u001b[0m, \u001b[0m%rcx\n",
      "\t\u001b[96m\u001b[1mmovq\u001b[22m\u001b[39m\t\u001b[0m%rax\u001b[0m, \u001b[0m%rdi\n",
      "\t\u001b[96m\u001b[1mcallq\u001b[22m\u001b[39m\t\u001b[0m*\u001b[0m%rcx\n",
      "\u001b[91m.LBB0_18:\u001b[39m                               \u001b[90m# %L164\u001b[39m\n",
      "\t\u001b[96m\u001b[1mmovq\u001b[22m\u001b[39m\t\u001b[33m16\u001b[39m\u001b[33m(\u001b[39m\u001b[0m%rsp\u001b[33m)\u001b[39m\u001b[0m, \u001b[0m%rax                  \u001b[90m# 8-byte Reload\u001b[39m\n",
      "\u001b[90m; │││││││ @ /home/mjki2mb2/.julia/packages/GPUArrays/fqD8z/src/device/execution.jl:68 within `#gpu_call#1`\u001b[39m\n",
      "\t\u001b[96m\u001b[1mmovq\u001b[22m\u001b[39m\t\u001b[33m16\u001b[39m\u001b[33m(\u001b[39m\u001b[0m%rax\u001b[33m)\u001b[39m\u001b[0m, \u001b[0m%rdi\n",
      "\t\u001b[96m\u001b[1mmovl\u001b[22m\u001b[39m\t\u001b[33m$1392\u001b[39m\u001b[0m, \u001b[0m%esi                     \u001b[90m# imm = 0x570\u001b[39m\n",
      "\t\u001b[96m\u001b[1mmovl\u001b[22m\u001b[39m\t\u001b[33m$16\u001b[39m\u001b[0m, \u001b[0m%edx\n",
      "\t\u001b[96m\u001b[1mmovabsq\u001b[22m\u001b[39m\t\u001b[93m$ijl_gc_pool_alloc\u001b[39m\u001b[0m, \u001b[0m%rax\n",
      "\t\u001b[96m\u001b[1mcallq\u001b[22m\u001b[39m\t\u001b[0m*\u001b[0m%rax\n",
      "\t\u001b[96m\u001b[1mmovabsq\u001b[22m\u001b[39m\t\u001b[33m$139804503783664\u001b[39m\u001b[0m, \u001b[0m%rcx          \u001b[90m# imm = 0x7F26C5C938F0\u001b[39m\n",
      "\t\u001b[96m\u001b[1mmovq\u001b[22m\u001b[39m\t\u001b[0m%rcx\u001b[0m, \u001b[33m-8\u001b[39m\u001b[33m(\u001b[39m\u001b[0m%rax\u001b[33m)\u001b[39m\n",
      "\t\u001b[96m\u001b[1mmovabsq\u001b[22m\u001b[39m\t\u001b[33m$139802212803728\u001b[39m\u001b[0m, \u001b[0m%rcx          \u001b[90m# imm = 0x7F263D3BA490\u001b[39m\n",
      "\t\u001b[96m\u001b[1mmovq\u001b[22m\u001b[39m\t\u001b[0m%rcx\u001b[0m, \u001b[33m(\u001b[39m\u001b[0m%rax\u001b[33m)\u001b[39m\n",
      "\t\u001b[96m\u001b[1mmovabsq\u001b[22m\u001b[39m\t\u001b[93m$ijl_throw\u001b[39m\u001b[0m, \u001b[0m%rcx\n",
      "\t\u001b[96m\u001b[1mmovq\u001b[22m\u001b[39m\t\u001b[0m%rax\u001b[0m, \u001b[0m%rdi\n",
      "\t\u001b[96m\u001b[1mcallq\u001b[22m\u001b[39m\t\u001b[0m*\u001b[0m%rcx\n",
      "\u001b[91m.LBB0_21:\u001b[39m                               \u001b[90m# %L115\u001b[39m\n",
      "\u001b[90m; │││││││ @ /home/mjki2mb2/.julia/packages/GPUArrays/fqD8z/src/device/execution.jl:69 within `#gpu_call#1`\u001b[39m\n",
      "\u001b[90m; │││││││┌ @ /home/mjki2mb2/.julia/packages/CUDA/DfvRa/src/gpuarrays.jl:28 within `gpu_call##kw`\u001b[39m\n",
      "\u001b[90m; ││││││││┌ @ /home/mjki2mb2/.julia/packages/CUDA/DfvRa/src/gpuarrays.jl:30 within `#gpu_call#249`\u001b[39m\n",
      "\u001b[90m; │││││││││┌ @ /home/mjki2mb2/.julia/packages/CUDA/DfvRa/src/compiler/execution.jl:100 within `macro expansion`\u001b[39m\n",
      "\u001b[90m; ││││││││││┌ @ tuple.jl:224 within `map` @ tuple.jl:223\u001b[39m\n",
      "\u001b[90m; │││││││││││┌ @ /home/mjki2mb2/.julia/packages/CUDA/DfvRa/src/compiler/execution.jl:152 within `cudaconvert`\u001b[39m\n",
      "\u001b[90m; ││││││││││││┌ @ /home/mjki2mb2/.julia/packages/Adapt/LAQOx/src/Adapt.jl:40 within `adapt`\u001b[39m\n",
      "\u001b[90m; │││││││││││││┌ @ /home/mjki2mb2/.julia/packages/CUDA/DfvRa/src/compiler/execution.jl:139 within `adapt_structure`\u001b[39m\n",
      "\u001b[90m; ││││││││││││││┌ @ /home/mjki2mb2/.julia/packages/CUDA/DfvRa/src/array.jl:328 within `unsafe_convert`\u001b[39m\n",
      "\u001b[90m; │││││││││││││││┌ @ /home/mjki2mb2/.julia/packages/CUDA/DfvRa/src/array.jl:276 within `pointer`\u001b[39m"
     ]
    },
    {
     "name": "stdout",
     "output_type": "stream",
     "text": [
      "\n",
      "\u001b[90m; ││││││││││││││││┌ @ /home/mjki2mb2/.julia/packages/CUDA/DfvRa/src/array.jl:321 within `unsafe_convert`\u001b[39m\n",
      "\t\u001b[96m\u001b[1mmovabsq\u001b[22m\u001b[39m\t\u001b[93m$j_getproperty_11541\u001b[39m\u001b[0m, \u001b[0m%rax\n",
      "\t\u001b[96m\u001b[1mmovabsq\u001b[22m\u001b[39m\t\u001b[33m$139804722468864\u001b[39m\u001b[0m, \u001b[0m%rdi          \u001b[90m# imm = 0x7F26D2D21800\u001b[39m\n",
      "\t\u001b[96m\u001b[1mcallq\u001b[22m\u001b[39m\t\u001b[0m*\u001b[0m%rax\n",
      "\t\u001b[96m\u001b[1mud2\u001b[22m\u001b[39m\n",
      "\u001b[91m.LBB0_22:\u001b[39m                               \u001b[90m# %L121\u001b[39m\n",
      "\t\u001b[96m\u001b[1mmovabsq\u001b[22m\u001b[39m\t\u001b[93m$ijl_throw\u001b[39m\u001b[0m, \u001b[0m%rax\n",
      "\t\u001b[96m\u001b[1mmovabsq\u001b[22m\u001b[39m\t\u001b[33m$139801644224816\u001b[39m\u001b[0m, \u001b[0m%rdi          \u001b[90m# imm = 0x7F261B57D130\u001b[39m\n",
      "\t\u001b[96m\u001b[1mcallq\u001b[22m\u001b[39m\t\u001b[0m*\u001b[0m%rax\n",
      "\u001b[91m.LBB0_23:\u001b[39m                               \u001b[90m# %L133\u001b[39m\n",
      "\u001b[90m; ││││││││││││││└└└\u001b[39m\n",
      "\u001b[90m; ││││││││││││││ @ /home/mjki2mb2/.julia/packages/Adapt/LAQOx/src/base.jl:30 within `adapt_structure`\u001b[39m\n",
      "\u001b[90m; ││││││││││││││┌ @ /home/mjki2mb2/.julia/packages/Adapt/LAQOx/src/Adapt.jl:40 within `adapt`\u001b[39m\n",
      "\u001b[90m; │││││││││││││││┌ @ /home/mjki2mb2/.julia/packages/Adapt/LAQOx/src/base.jl:3 within `adapt_structure`\u001b[39m\n",
      "\u001b[90m; ││││││││││││││││┌ @ tuple.jl:222 within `map`\u001b[39m\n",
      "\u001b[90m; │││││││││││││││││┌ @ operators.jl:1096 within `Fix1`\u001b[39m\n",
      "\u001b[90m; ││││││││││││││││││┌ @ /home/mjki2mb2/.julia/packages/Adapt/LAQOx/src/Adapt.jl:40 within `adapt`\u001b[39m\n",
      "\u001b[90m; │││││││││││││││││││┌ @ /home/mjki2mb2/.julia/packages/Adapt/LAQOx/src/base.jl:33 within `adapt_structure`\u001b[39m\n",
      "\u001b[90m; ││││││││││││││││││││┌ @ /home/mjki2mb2/.julia/packages/Adapt/LAQOx/src/Adapt.jl:40 within `adapt`\u001b[39m\n",
      "\u001b[90m; │││││││││││││││││││││┌ @ /home/mjki2mb2/.julia/packages/CUDA/DfvRa/src/compiler/execution.jl:139 within `adapt_structure`\u001b[39m\n",
      "\u001b[90m; ││││││││││││││││││││││┌ @ /home/mjki2mb2/.julia/packages/CUDA/DfvRa/src/array.jl:328 within `unsafe_convert`\u001b[39m\n",
      "\u001b[90m; │││││││││││││││││││││││┌ @ /home/mjki2mb2/.julia/packages/CUDA/DfvRa/src/array.jl:276 within `pointer`\u001b[39m\n",
      "\u001b[90m; ││││││││││││││││││││││││┌ @ /home/mjki2mb2/.julia/packages/CUDA/DfvRa/src/array.jl:321 within `unsafe_convert`\u001b[39m\n",
      "\t\u001b[96m\u001b[1mmovabsq\u001b[22m\u001b[39m\t\u001b[93m$j_getproperty_11542\u001b[39m\u001b[0m, \u001b[0m%rax\n",
      "\t\u001b[96m\u001b[1mmovabsq\u001b[22m\u001b[39m\t\u001b[33m$139804722468864\u001b[39m\u001b[0m, \u001b[0m%rdi          \u001b[90m# imm = 0x7F26D2D21800\u001b[39m\n",
      "\t\u001b[96m\u001b[1mcallq\u001b[22m\u001b[39m\t\u001b[0m*\u001b[0m%rax\n",
      "\t\u001b[96m\u001b[1mud2\u001b[22m\u001b[39m\n",
      "\u001b[91m.LBB0_24:\u001b[39m                               \u001b[90m# %L139\u001b[39m\n",
      "\t\u001b[96m\u001b[1mmovabsq\u001b[22m\u001b[39m\t\u001b[93m$ijl_throw\u001b[39m\u001b[0m, \u001b[0m%rax\n",
      "\t\u001b[96m\u001b[1mmovabsq\u001b[22m\u001b[39m\t\u001b[33m$139801644224816\u001b[39m\u001b[0m, \u001b[0m%rdi          \u001b[90m# imm = 0x7F261B57D130\u001b[39m\n",
      "\t\u001b[96m\u001b[1mcallq\u001b[22m\u001b[39m\t\u001b[0m*\u001b[0m%rax\n",
      "\u001b[91m.Lfunc_end0:\u001b[39m\n",
      "\t\u001b[0m.size\t\u001b[0mjulia_f_11536\u001b[0m, \u001b[0m.Lfunc_end0-julia_f_11536\n",
      "\t\u001b[0m.cfi_endproc\n",
      "\u001b[90m; └└└└└└└└└└└└└└└└└└└└└└└└└\u001b[39m\n",
      "                                        \u001b[90m# -- End function\u001b[39m\n",
      "\t\u001b[0m.section\t\u001b[0m\".note.GNU-stack\"\u001b[0m,\u001b[0m\"\"\u001b[0m,\u001b[0m@progbits\n",
      "nothing"
     ]
    }
   ],
   "source": [
    "using InteractiveUtils #We use the macro @code_native from here as its a bit easier to specify the function specialisation by a variable/call\n",
    "show(@code_native f(gpu_v))"
   ]
  },
  {
   "cell_type": "markdown",
   "metadata": {},
   "source": [
    "# Symbolics"
   ]
  },
  {
   "cell_type": "code",
   "execution_count": 39,
   "metadata": {},
   "outputs": [
    {
     "data": {
      "text/latex": [
       "$$ \\begin{equation}\n",
       "x^{2} + y^{2}\n",
       "\\end{equation}\n",
       " $$"
      ],
      "text/plain": [
       "x^2 + y^2"
      ]
     },
     "metadata": {},
     "output_type": "display_data"
    },
    {
     "data": {
      "text/latex": [
       "$$ \\begin{equation}\n",
       "x^{2} + y^{2}\n",
       "\\end{equation}\n",
       " $$"
      ],
      "text/plain": [
       "x^2 + y^2"
      ]
     },
     "metadata": {},
     "output_type": "display_data"
    }
   ],
   "source": [
    "using Symbolics\n",
    "\n",
    "\n",
    "f(x, y) = x^2+y^2\n",
    "\n",
    "@variables x, y, t\n",
    "display(x^2 + y^2)\n",
    "\n",
    "f(x,y)"
   ]
  },
  {
   "cell_type": "markdown",
   "metadata": {},
   "source": [
    "How about discovering the governing differential equations behind data https://github.com/SciML/DataDrivenDiffEq.jl?\n",
    "Global non-linear constrained optimisation (for small enough dimensionality) https://github.com/PSORLab/EAGO.jl"
   ]
  },
  {
   "cell_type": "markdown",
   "metadata": {},
   "source": [
    "# Minimisation\n",
    "\n",
    "Want global minimisation?"
   ]
  },
  {
   "cell_type": "code",
   "execution_count": 40,
   "metadata": {},
   "outputs": [
    {
     "data": {
      "text/plain": [
       "([-0.102457, -0.101645], Interval{Float64}[[3.48339, 3.4844], [3.47441, 3.47495], [3.47231, 3.47284], [3.47335, 3.47389], [3.47388, 3.47442], [3.47023, 3.47077], [3.47127, 3.4718], [3.47546, 3.47599], [3.4765, 3.47703], [3.46971, 3.47024]  …  [3.49105, 3.49159], [3.45469, 3.45522], [3.45419, 3.4547], [3.45367, 3.4542], [3.49158, 3.49209], [3.49208, 3.4926], [3.45316, 3.45368], [3.49259, 3.49311], [3.45265, 3.45317], [3.4931, 3.49363]])"
      ]
     },
     "metadata": {},
     "output_type": "display_data"
    }
   ],
   "source": [
    "using IntervalArithmetic, IntervalOptimisation\n",
    "const ∞ = Inf\n",
    "minimise(x->sin(x)+(x-3)^2, -∞..∞)"
   ]
  },
  {
   "cell_type": "code",
   "execution_count": 46,
   "metadata": {},
   "outputs": [
    {
     "name": "stderr",
     "output_type": "stream",
     "text": [
      "\u001b[32m\u001b[1m  Activating\u001b[22m\u001b[39m project at `~/testJulia/EAGO`\n",
      "\u001b[32m\u001b[1m   Resolving\u001b[22m\u001b[39m package versions...\n",
      "\u001b[32m\u001b[1m  No Changes\u001b[22m\u001b[39m to `~/testJulia/EAGO/Project.toml`\n",
      "\u001b[32m\u001b[1m  No Changes\u001b[22m\u001b[39m to `~/testJulia/EAGO/Manifest.toml`\n"
     ]
    }
   ],
   "source": [
    "# EAGO needs some older code, so we install it in its own environment, called \"EAGO\"\n",
    "Pkg.activate(\"EAGO\") #Activate the EAGO environment\n",
    "Pkg.add(\"JuMP\", ;version=\"\")\n",
    "Pkg.add(\"EAGO\") # Install EAGO inside this environment"
   ]
  },
  {
   "cell_type": "code",
   "execution_count": 49,
   "metadata": {},
   "outputs": [
    {
     "ename": "UndefVarError",
     "evalue": "UndefVarError: _Derivatives not defined",
     "output_type": "error",
     "traceback": [
      "UndefVarError: _Derivatives not defined\n",
      "\n",
      "Stacktrace:\n",
      "  [1] eval\n",
      "    @ ./boot.jl:368 [inlined]\n",
      "  [2] include_string(mapexpr::typeof(REPL.softscope), mod::Module, code::String, filename::String)\n",
      "    @ Base ./loading.jl:1428\n",
      "  [3] #invokelatest#2\n",
      "    @ ./essentials.jl:729 [inlined]\n",
      "  [4] invokelatest\n",
      "    @ ./essentials.jl:726 [inlined]\n",
      "  [5] (::VSCodeServer.var\"#198#199\"{VSCodeServer.NotebookRunCellArguments, String})()\n",
      "    @ VSCodeServer ~/.vscode-server/extensions/julialang.language-julia-1.38.2/scripts/packages/VSCodeServer/src/serve_notebook.jl:19\n",
      "  [6] withpath(f::VSCodeServer.var\"#198#199\"{VSCodeServer.NotebookRunCellArguments, String}, path::String)\n",
      "    @ VSCodeServer ~/.vscode-server/extensions/julialang.language-julia-1.38.2/scripts/packages/VSCodeServer/src/repl.jl:249\n",
      "  [7] notebook_runcell_request(conn::VSCodeServer.JSONRPC.JSONRPCEndpoint{Base.PipeEndpoint, Base.PipeEndpoint}, params::VSCodeServer.NotebookRunCellArguments)\n",
      "    @ VSCodeServer ~/.vscode-server/extensions/julialang.language-julia-1.38.2/scripts/packages/VSCodeServer/src/serve_notebook.jl:13\n",
      "  [8] dispatch_msg(x::VSCodeServer.JSONRPC.JSONRPCEndpoint{Base.PipeEndpoint, Base.PipeEndpoint}, dispatcher::VSCodeServer.JSONRPC.MsgDispatcher, msg::Dict{String, Any})\n",
      "    @ VSCodeServer.JSONRPC ~/.vscode-server/extensions/julialang.language-julia-1.38.2/scripts/packages/JSONRPC/src/typed.jl:67\n",
      "  [9] serve_notebook(pipename::String, outputchannel_logger::Base.CoreLogging.SimpleLogger; crashreporting_pipename::String)\n",
      "    @ VSCodeServer ~/.vscode-server/extensions/julialang.language-julia-1.38.2/scripts/packages/VSCodeServer/src/serve_notebook.jl:139\n",
      " [10] top-level scope\n",
      "    @ ~/.vscode-server/extensions/julialang.language-julia-1.38.2/scripts/notebook/notebook.jl:32"
     ]
    }
   ],
   "source": [
    "using JuMP._Derivatives\n",
    "using JuMP, EAGO\n",
    "\n",
    "m = Model(EAGO.Optimizer)\n",
    "\n",
    "# Define bounded variables\n",
    "xL = [10.0; 0.0; 0.0; 0.0; 0.0; 85.0; 90.0; 3.0; 1.2; 145.0]\n",
    "xU = [2000.0; 16000.0; 120.0; 5000.0; 2000.0; 93.0; 95.0; 12.0; 4.0; 162.0]\n",
    "@variable(m, xL[i] <= x[i=1:10] <= xU[i])\n",
    "\n",
    "# Define nonlinear constraints\n",
    "@NLconstraint(m, e1, -x[1]*(1.12+0.13167*x[8]-0.00667* (x[8])^2)+x[4] == 0.0)\n",
    "@NLconstraint(m, e3, -0.001*x[4]*x[9]*x[6]/(98-x[6])+x[3] == 0.0)\n",
    "@NLconstraint(m, e4, -(1.098*x[8]-0.038* (x[8])^2)-0.325*x[6]+x[7] == 57.425)\n",
    "@NLconstraint(m, e5, -(x[2]+x[5])/x[1]+x[8] == 0.0)\n",
    "\n",
    "# Define linear constraints\n",
    "@constraint(m, e2, -x[1]+1.22*x[4]-x[5] == 0.0)\n",
    "@constraint(m, e6, x[9]+0.222*x[10] == 35.82)\n",
    "@constraint(m, e7, -3*x[7]+x[10] == -133.0)\n",
    "\n",
    "# Define nonlinear objective\n",
    "@NLobjective(m, Max, 0.063*x[4]*x[7] - 5.04*x[1] - 0.035*x[2] - 10*x[3] - 3.36*x[5])\n",
    "\n",
    "# Solve the optimization problem\n",
    "JuMP.optimize!(m)"
   ]
  },
  {
   "cell_type": "code",
   "execution_count": null,
   "metadata": {},
   "outputs": [],
   "source": [
    "Pkg.activate() #Go back to the default environment"
   ]
  }
 ],
 "metadata": {
  "kernelspec": {
   "display_name": "Julia 1.8.3",
   "language": "julia",
   "name": "julia-1.8"
  },
  "language_info": {
   "file_extension": ".jl",
   "mimetype": "application/julia",
   "name": "julia",
   "version": "1.8.3"
  },
  "orig_nbformat": 4
 },
 "nbformat": 4,
 "nbformat_minor": 2
}
